{
 "cells": [
  {
   "cell_type": "markdown",
   "metadata": {},
   "source": [
    "# Credit card default propensity prediction"
   ]
  },
  {
   "cell_type": "markdown",
   "metadata": {},
   "source": [
    "_Objective__ – Predict the probability of a customer defaulting payment for the credit card the subsequent month, based on past information. The past information is provided in the dataset. This probability will help the collections team to prioritise follow up with customers who have a high propensity of defaulting."
   ]
  },
  {
   "cell_type": "markdown",
   "metadata": {},
   "source": [
    "# About the dataset\n",
    "The dataset contains the following information of 30000 customers:\n",
    "1.\t__DEFAULT__ - Default payment next month (Yes=1, No=0)\n",
    "2.\t__LIMIT_BAL__ - Amount of the given credit (INR)  \n",
    "3.\t__SEX__ - Gender (1 = male; 2 = female)\n",
    "4.\t__EDUCATION__ - Education (1 = graduate school; 2 = university; 3 = high school; 4 = others)\n",
    "5.\t__MARRIAGE__ - (1 = married; 2 = single; 3 = others)\n",
    "6.\t__AGE__ - (year)\n",
    "7.\t__PAST_PAY__ - History of repayment status\n",
    "    <br> -  PAST_PAY1 = the repayment status in September 2005\n",
    "    <br> -  PAST_PAY2 = the repayment status in August 2005\n",
    "    <br> -  PAST_PAY6 = the repayment status in April 2005\n",
    "    <br> -  The measurement scale for the repayment status is \n",
    "         i.  -1 = pay duly <br>\n",
    "        ii.\t 1 = payment delay for one month<br>\n",
    "        iii. 2 = payment delay for two months <br>\n",
    "        iv.\t 8 = payment delay for eight months<br>\n",
    "        v.\t 9 = payment delay for nine months and above <br>\n",
    "8.\t__BILL_AMT__- Amount of bill statement (INR)\n",
    "    <br> -  BILL_AMT1 = amount of bill statement in September 2005\n",
    "    <br> -  BILL_AMT2 = amount of bill statement in August 2005\n",
    "    <br> -  BILL_AMT6 = amount of bill statement in April 2005\n",
    "9.\t__PAY_AMT__ - Amount of previous payment (INR)\n",
    "    <br> -  PAY_AMT1 = amount paid in September 2005\n",
    "    <br> -  PAY_AMT2 = amount paid in August 2005\n",
    "    <br> -  PAY_AMT6 = amount paid in April 2005"
   ]
  },
  {
   "cell_type": "markdown",
   "metadata": {},
   "source": [
    "## Importing Libraries"
   ]
  },
  {
   "cell_type": "code",
   "execution_count": 1,
   "metadata": {},
   "outputs": [],
   "source": [
    "import numpy as np\n",
    "import pandas as pd\n",
    "import matplotlib.pyplot as plt\n",
    "import seaborn as sns\n",
    "pd.set_option('display.max_columns',None)\n",
    "import warnings\n",
    "warnings.filterwarnings(\"ignore\") "
   ]
  },
  {
   "cell_type": "markdown",
   "metadata": {},
   "source": [
    "## Reading Dataset"
   ]
  },
  {
   "cell_type": "code",
   "execution_count": 2,
   "metadata": {
    "scrolled": true
   },
   "outputs": [
    {
     "data": {
      "text/html": [
       "<div>\n",
       "<style scoped>\n",
       "    .dataframe tbody tr th:only-of-type {\n",
       "        vertical-align: middle;\n",
       "    }\n",
       "\n",
       "    .dataframe tbody tr th {\n",
       "        vertical-align: top;\n",
       "    }\n",
       "\n",
       "    .dataframe thead th {\n",
       "        text-align: right;\n",
       "    }\n",
       "</style>\n",
       "<table border=\"1\" class=\"dataframe\">\n",
       "  <thead>\n",
       "    <tr style=\"text-align: right;\">\n",
       "      <th></th>\n",
       "      <th>ID</th>\n",
       "      <th>LIMIT_BAL</th>\n",
       "      <th>SEX</th>\n",
       "      <th>EDUCATION</th>\n",
       "      <th>MARRIAGE</th>\n",
       "      <th>AGE</th>\n",
       "      <th>PAY_1</th>\n",
       "      <th>PAY_2</th>\n",
       "      <th>PAY_3</th>\n",
       "      <th>PAY_4</th>\n",
       "      <th>PAY_5</th>\n",
       "      <th>PAY_6</th>\n",
       "      <th>BILL_AMT1</th>\n",
       "      <th>BILL_AMT2</th>\n",
       "      <th>BILL_AMT3</th>\n",
       "      <th>BILL_AMT4</th>\n",
       "      <th>BILL_AMT5</th>\n",
       "      <th>BILL_AMT6</th>\n",
       "      <th>PAY_AMT1</th>\n",
       "      <th>PAY_AMT2</th>\n",
       "      <th>PAY_AMT3</th>\n",
       "      <th>PAY_AMT4</th>\n",
       "      <th>PAY_AMT5</th>\n",
       "      <th>PAY_AMT6</th>\n",
       "      <th>DEFAULT</th>\n",
       "    </tr>\n",
       "  </thead>\n",
       "  <tbody>\n",
       "    <tr>\n",
       "      <th>0</th>\n",
       "      <td>1</td>\n",
       "      <td>20000</td>\n",
       "      <td>2</td>\n",
       "      <td>2</td>\n",
       "      <td>1</td>\n",
       "      <td>24</td>\n",
       "      <td>2</td>\n",
       "      <td>2</td>\n",
       "      <td>-1</td>\n",
       "      <td>-1</td>\n",
       "      <td>-2</td>\n",
       "      <td>-2</td>\n",
       "      <td>3913.0</td>\n",
       "      <td>3102.0</td>\n",
       "      <td>689.0</td>\n",
       "      <td>0.0</td>\n",
       "      <td>0.0</td>\n",
       "      <td>0.0</td>\n",
       "      <td>0.0</td>\n",
       "      <td>689.0</td>\n",
       "      <td>0.0</td>\n",
       "      <td>0.0</td>\n",
       "      <td>0.0</td>\n",
       "      <td>0.0</td>\n",
       "      <td>1</td>\n",
       "    </tr>\n",
       "    <tr>\n",
       "      <th>1</th>\n",
       "      <td>2</td>\n",
       "      <td>120000</td>\n",
       "      <td>2</td>\n",
       "      <td>2</td>\n",
       "      <td>2</td>\n",
       "      <td>26</td>\n",
       "      <td>-1</td>\n",
       "      <td>2</td>\n",
       "      <td>0</td>\n",
       "      <td>0</td>\n",
       "      <td>0</td>\n",
       "      <td>2</td>\n",
       "      <td>2682.0</td>\n",
       "      <td>1725.0</td>\n",
       "      <td>2682.0</td>\n",
       "      <td>3272.0</td>\n",
       "      <td>3455.0</td>\n",
       "      <td>3261.0</td>\n",
       "      <td>0.0</td>\n",
       "      <td>1000.0</td>\n",
       "      <td>1000.0</td>\n",
       "      <td>1000.0</td>\n",
       "      <td>0.0</td>\n",
       "      <td>2000.0</td>\n",
       "      <td>1</td>\n",
       "    </tr>\n",
       "    <tr>\n",
       "      <th>2</th>\n",
       "      <td>3</td>\n",
       "      <td>90000</td>\n",
       "      <td>2</td>\n",
       "      <td>2</td>\n",
       "      <td>2</td>\n",
       "      <td>34</td>\n",
       "      <td>0</td>\n",
       "      <td>0</td>\n",
       "      <td>0</td>\n",
       "      <td>0</td>\n",
       "      <td>0</td>\n",
       "      <td>0</td>\n",
       "      <td>29239.0</td>\n",
       "      <td>14027.0</td>\n",
       "      <td>13559.0</td>\n",
       "      <td>14331.0</td>\n",
       "      <td>14948.0</td>\n",
       "      <td>15549.0</td>\n",
       "      <td>1518.0</td>\n",
       "      <td>1500.0</td>\n",
       "      <td>1000.0</td>\n",
       "      <td>1000.0</td>\n",
       "      <td>1000.0</td>\n",
       "      <td>5000.0</td>\n",
       "      <td>0</td>\n",
       "    </tr>\n",
       "    <tr>\n",
       "      <th>3</th>\n",
       "      <td>4</td>\n",
       "      <td>50000</td>\n",
       "      <td>2</td>\n",
       "      <td>2</td>\n",
       "      <td>1</td>\n",
       "      <td>37</td>\n",
       "      <td>0</td>\n",
       "      <td>0</td>\n",
       "      <td>0</td>\n",
       "      <td>0</td>\n",
       "      <td>0</td>\n",
       "      <td>0</td>\n",
       "      <td>46990.0</td>\n",
       "      <td>48233.0</td>\n",
       "      <td>49291.0</td>\n",
       "      <td>28314.0</td>\n",
       "      <td>28959.0</td>\n",
       "      <td>29547.0</td>\n",
       "      <td>2000.0</td>\n",
       "      <td>2019.0</td>\n",
       "      <td>1200.0</td>\n",
       "      <td>1100.0</td>\n",
       "      <td>1069.0</td>\n",
       "      <td>1000.0</td>\n",
       "      <td>0</td>\n",
       "    </tr>\n",
       "    <tr>\n",
       "      <th>4</th>\n",
       "      <td>5</td>\n",
       "      <td>50000</td>\n",
       "      <td>1</td>\n",
       "      <td>2</td>\n",
       "      <td>1</td>\n",
       "      <td>57</td>\n",
       "      <td>-1</td>\n",
       "      <td>0</td>\n",
       "      <td>-1</td>\n",
       "      <td>0</td>\n",
       "      <td>0</td>\n",
       "      <td>0</td>\n",
       "      <td>8617.0</td>\n",
       "      <td>5670.0</td>\n",
       "      <td>35835.0</td>\n",
       "      <td>20940.0</td>\n",
       "      <td>19146.0</td>\n",
       "      <td>19131.0</td>\n",
       "      <td>2000.0</td>\n",
       "      <td>36681.0</td>\n",
       "      <td>10000.0</td>\n",
       "      <td>9000.0</td>\n",
       "      <td>689.0</td>\n",
       "      <td>679.0</td>\n",
       "      <td>0</td>\n",
       "    </tr>\n",
       "  </tbody>\n",
       "</table>\n",
       "</div>"
      ],
      "text/plain": [
       "   ID  LIMIT_BAL  SEX  EDUCATION  MARRIAGE  AGE  PAY_1  PAY_2  PAY_3  PAY_4  \\\n",
       "0   1      20000    2          2         1   24      2      2     -1     -1   \n",
       "1   2     120000    2          2         2   26     -1      2      0      0   \n",
       "2   3      90000    2          2         2   34      0      0      0      0   \n",
       "3   4      50000    2          2         1   37      0      0      0      0   \n",
       "4   5      50000    1          2         1   57     -1      0     -1      0   \n",
       "\n",
       "   PAY_5  PAY_6  BILL_AMT1  BILL_AMT2  BILL_AMT3  BILL_AMT4  BILL_AMT5  \\\n",
       "0     -2     -2     3913.0     3102.0      689.0        0.0        0.0   \n",
       "1      0      2     2682.0     1725.0     2682.0     3272.0     3455.0   \n",
       "2      0      0    29239.0    14027.0    13559.0    14331.0    14948.0   \n",
       "3      0      0    46990.0    48233.0    49291.0    28314.0    28959.0   \n",
       "4      0      0     8617.0     5670.0    35835.0    20940.0    19146.0   \n",
       "\n",
       "   BILL_AMT6  PAY_AMT1  PAY_AMT2  PAY_AMT3  PAY_AMT4  PAY_AMT5  PAY_AMT6  \\\n",
       "0        0.0       0.0     689.0       0.0       0.0       0.0       0.0   \n",
       "1     3261.0       0.0    1000.0    1000.0    1000.0       0.0    2000.0   \n",
       "2    15549.0    1518.0    1500.0    1000.0    1000.0    1000.0    5000.0   \n",
       "3    29547.0    2000.0    2019.0    1200.0    1100.0    1069.0    1000.0   \n",
       "4    19131.0    2000.0   36681.0   10000.0    9000.0     689.0     679.0   \n",
       "\n",
       "   DEFAULT  \n",
       "0        1  \n",
       "1        1  \n",
       "2        0  \n",
       "3        0  \n",
       "4        0  "
      ]
     },
     "execution_count": 2,
     "metadata": {},
     "output_type": "execute_result"
    }
   ],
   "source": [
    "df1=pd.read_csv('credit_card.csv')\n",
    "df1.head()"
   ]
  },
  {
   "cell_type": "code",
   "execution_count": 3,
   "metadata": {},
   "outputs": [
    {
     "data": {
      "text/plain": [
       "(30000, 25)"
      ]
     },
     "execution_count": 3,
     "metadata": {},
     "output_type": "execute_result"
    }
   ],
   "source": [
    "df1.shape"
   ]
  },
  {
   "cell_type": "markdown",
   "metadata": {},
   "source": [
    "## Removing Duplicates"
   ]
  },
  {
   "cell_type": "code",
   "execution_count": 4,
   "metadata": {},
   "outputs": [],
   "source": [
    "df1=df1.drop('ID',axis=1)"
   ]
  },
  {
   "cell_type": "code",
   "execution_count": 5,
   "metadata": {},
   "outputs": [
    {
     "data": {
      "text/plain": [
       "(35, 24)"
      ]
     },
     "execution_count": 5,
     "metadata": {},
     "output_type": "execute_result"
    }
   ],
   "source": [
    "df1[df1.duplicated()].shape"
   ]
  },
  {
   "cell_type": "code",
   "execution_count": 6,
   "metadata": {},
   "outputs": [],
   "source": [
    "df=df1.drop_duplicates(keep='first')"
   ]
  },
  {
   "cell_type": "code",
   "execution_count": 7,
   "metadata": {},
   "outputs": [
    {
     "data": {
      "text/plain": [
       "(29965, 24)"
      ]
     },
     "execution_count": 7,
     "metadata": {},
     "output_type": "execute_result"
    }
   ],
   "source": [
    "df.shape"
   ]
  },
  {
   "cell_type": "code",
   "execution_count": 8,
   "metadata": {},
   "outputs": [
    {
     "data": {
      "text/html": [
       "<div>\n",
       "<style scoped>\n",
       "    .dataframe tbody tr th:only-of-type {\n",
       "        vertical-align: middle;\n",
       "    }\n",
       "\n",
       "    .dataframe tbody tr th {\n",
       "        vertical-align: top;\n",
       "    }\n",
       "\n",
       "    .dataframe thead th {\n",
       "        text-align: right;\n",
       "    }\n",
       "</style>\n",
       "<table border=\"1\" class=\"dataframe\">\n",
       "  <thead>\n",
       "    <tr style=\"text-align: right;\">\n",
       "      <th></th>\n",
       "      <th>LIMIT_BAL</th>\n",
       "      <th>SEX</th>\n",
       "      <th>EDUCATION</th>\n",
       "      <th>MARRIAGE</th>\n",
       "      <th>AGE</th>\n",
       "      <th>PAY_1</th>\n",
       "      <th>PAY_2</th>\n",
       "      <th>PAY_3</th>\n",
       "      <th>PAY_4</th>\n",
       "      <th>PAY_5</th>\n",
       "      <th>PAY_6</th>\n",
       "      <th>BILL_AMT1</th>\n",
       "      <th>BILL_AMT2</th>\n",
       "      <th>BILL_AMT3</th>\n",
       "      <th>BILL_AMT4</th>\n",
       "      <th>BILL_AMT5</th>\n",
       "      <th>BILL_AMT6</th>\n",
       "      <th>PAY_AMT1</th>\n",
       "      <th>PAY_AMT2</th>\n",
       "      <th>PAY_AMT3</th>\n",
       "      <th>PAY_AMT4</th>\n",
       "      <th>PAY_AMT5</th>\n",
       "      <th>PAY_AMT6</th>\n",
       "      <th>DEFAULT</th>\n",
       "    </tr>\n",
       "  </thead>\n",
       "  <tbody>\n",
       "    <tr>\n",
       "      <th>0</th>\n",
       "      <td>20000</td>\n",
       "      <td>2</td>\n",
       "      <td>2</td>\n",
       "      <td>1</td>\n",
       "      <td>24</td>\n",
       "      <td>2</td>\n",
       "      <td>2</td>\n",
       "      <td>-1</td>\n",
       "      <td>-1</td>\n",
       "      <td>-2</td>\n",
       "      <td>-2</td>\n",
       "      <td>3913.0</td>\n",
       "      <td>3102.0</td>\n",
       "      <td>689.0</td>\n",
       "      <td>0.0</td>\n",
       "      <td>0.0</td>\n",
       "      <td>0.0</td>\n",
       "      <td>0.0</td>\n",
       "      <td>689.0</td>\n",
       "      <td>0.0</td>\n",
       "      <td>0.0</td>\n",
       "      <td>0.0</td>\n",
       "      <td>0.0</td>\n",
       "      <td>1</td>\n",
       "    </tr>\n",
       "    <tr>\n",
       "      <th>1</th>\n",
       "      <td>120000</td>\n",
       "      <td>2</td>\n",
       "      <td>2</td>\n",
       "      <td>2</td>\n",
       "      <td>26</td>\n",
       "      <td>-1</td>\n",
       "      <td>2</td>\n",
       "      <td>0</td>\n",
       "      <td>0</td>\n",
       "      <td>0</td>\n",
       "      <td>2</td>\n",
       "      <td>2682.0</td>\n",
       "      <td>1725.0</td>\n",
       "      <td>2682.0</td>\n",
       "      <td>3272.0</td>\n",
       "      <td>3455.0</td>\n",
       "      <td>3261.0</td>\n",
       "      <td>0.0</td>\n",
       "      <td>1000.0</td>\n",
       "      <td>1000.0</td>\n",
       "      <td>1000.0</td>\n",
       "      <td>0.0</td>\n",
       "      <td>2000.0</td>\n",
       "      <td>1</td>\n",
       "    </tr>\n",
       "    <tr>\n",
       "      <th>2</th>\n",
       "      <td>90000</td>\n",
       "      <td>2</td>\n",
       "      <td>2</td>\n",
       "      <td>2</td>\n",
       "      <td>34</td>\n",
       "      <td>0</td>\n",
       "      <td>0</td>\n",
       "      <td>0</td>\n",
       "      <td>0</td>\n",
       "      <td>0</td>\n",
       "      <td>0</td>\n",
       "      <td>29239.0</td>\n",
       "      <td>14027.0</td>\n",
       "      <td>13559.0</td>\n",
       "      <td>14331.0</td>\n",
       "      <td>14948.0</td>\n",
       "      <td>15549.0</td>\n",
       "      <td>1518.0</td>\n",
       "      <td>1500.0</td>\n",
       "      <td>1000.0</td>\n",
       "      <td>1000.0</td>\n",
       "      <td>1000.0</td>\n",
       "      <td>5000.0</td>\n",
       "      <td>0</td>\n",
       "    </tr>\n",
       "    <tr>\n",
       "      <th>3</th>\n",
       "      <td>50000</td>\n",
       "      <td>2</td>\n",
       "      <td>2</td>\n",
       "      <td>1</td>\n",
       "      <td>37</td>\n",
       "      <td>0</td>\n",
       "      <td>0</td>\n",
       "      <td>0</td>\n",
       "      <td>0</td>\n",
       "      <td>0</td>\n",
       "      <td>0</td>\n",
       "      <td>46990.0</td>\n",
       "      <td>48233.0</td>\n",
       "      <td>49291.0</td>\n",
       "      <td>28314.0</td>\n",
       "      <td>28959.0</td>\n",
       "      <td>29547.0</td>\n",
       "      <td>2000.0</td>\n",
       "      <td>2019.0</td>\n",
       "      <td>1200.0</td>\n",
       "      <td>1100.0</td>\n",
       "      <td>1069.0</td>\n",
       "      <td>1000.0</td>\n",
       "      <td>0</td>\n",
       "    </tr>\n",
       "    <tr>\n",
       "      <th>4</th>\n",
       "      <td>50000</td>\n",
       "      <td>1</td>\n",
       "      <td>2</td>\n",
       "      <td>1</td>\n",
       "      <td>57</td>\n",
       "      <td>-1</td>\n",
       "      <td>0</td>\n",
       "      <td>-1</td>\n",
       "      <td>0</td>\n",
       "      <td>0</td>\n",
       "      <td>0</td>\n",
       "      <td>8617.0</td>\n",
       "      <td>5670.0</td>\n",
       "      <td>35835.0</td>\n",
       "      <td>20940.0</td>\n",
       "      <td>19146.0</td>\n",
       "      <td>19131.0</td>\n",
       "      <td>2000.0</td>\n",
       "      <td>36681.0</td>\n",
       "      <td>10000.0</td>\n",
       "      <td>9000.0</td>\n",
       "      <td>689.0</td>\n",
       "      <td>679.0</td>\n",
       "      <td>0</td>\n",
       "    </tr>\n",
       "  </tbody>\n",
       "</table>\n",
       "</div>"
      ],
      "text/plain": [
       "   LIMIT_BAL  SEX  EDUCATION  MARRIAGE  AGE  PAY_1  PAY_2  PAY_3  PAY_4  \\\n",
       "0      20000    2          2         1   24      2      2     -1     -1   \n",
       "1     120000    2          2         2   26     -1      2      0      0   \n",
       "2      90000    2          2         2   34      0      0      0      0   \n",
       "3      50000    2          2         1   37      0      0      0      0   \n",
       "4      50000    1          2         1   57     -1      0     -1      0   \n",
       "\n",
       "   PAY_5  PAY_6  BILL_AMT1  BILL_AMT2  BILL_AMT3  BILL_AMT4  BILL_AMT5  \\\n",
       "0     -2     -2     3913.0     3102.0      689.0        0.0        0.0   \n",
       "1      0      2     2682.0     1725.0     2682.0     3272.0     3455.0   \n",
       "2      0      0    29239.0    14027.0    13559.0    14331.0    14948.0   \n",
       "3      0      0    46990.0    48233.0    49291.0    28314.0    28959.0   \n",
       "4      0      0     8617.0     5670.0    35835.0    20940.0    19146.0   \n",
       "\n",
       "   BILL_AMT6  PAY_AMT1  PAY_AMT2  PAY_AMT3  PAY_AMT4  PAY_AMT5  PAY_AMT6  \\\n",
       "0        0.0       0.0     689.0       0.0       0.0       0.0       0.0   \n",
       "1     3261.0       0.0    1000.0    1000.0    1000.0       0.0    2000.0   \n",
       "2    15549.0    1518.0    1500.0    1000.0    1000.0    1000.0    5000.0   \n",
       "3    29547.0    2000.0    2019.0    1200.0    1100.0    1069.0    1000.0   \n",
       "4    19131.0    2000.0   36681.0   10000.0    9000.0     689.0     679.0   \n",
       "\n",
       "   DEFAULT  \n",
       "0        1  \n",
       "1        1  \n",
       "2        0  \n",
       "3        0  \n",
       "4        0  "
      ]
     },
     "execution_count": 8,
     "metadata": {},
     "output_type": "execute_result"
    }
   ],
   "source": [
    "df.head()"
   ]
  },
  {
   "cell_type": "markdown",
   "metadata": {},
   "source": [
    "## Frequency count"
   ]
  },
  {
   "cell_type": "code",
   "execution_count": 9,
   "metadata": {
    "scrolled": true
   },
   "outputs": [
    {
     "data": {
      "text/plain": [
       "2    18091\n",
       "1    11874\n",
       "Name: SEX, dtype: int64"
      ]
     },
     "execution_count": 9,
     "metadata": {},
     "output_type": "execute_result"
    }
   ],
   "source": [
    "df['SEX'].value_counts()"
   ]
  },
  {
   "cell_type": "code",
   "execution_count": 10,
   "metadata": {},
   "outputs": [
    {
     "data": {
      "text/plain": [
       "2    14019\n",
       "1    10563\n",
       "3     4915\n",
       "5      280\n",
       "4      123\n",
       "6       51\n",
       "0       14\n",
       "Name: EDUCATION, dtype: int64"
      ]
     },
     "execution_count": 10,
     "metadata": {},
     "output_type": "execute_result"
    }
   ],
   "source": [
    "df['EDUCATION'].value_counts()"
   ]
  },
  {
   "cell_type": "code",
   "execution_count": 11,
   "metadata": {},
   "outputs": [
    {
     "data": {
      "text/plain": [
       "2    15945\n",
       "1    13643\n",
       "3      323\n",
       "0       54\n",
       "Name: MARRIAGE, dtype: int64"
      ]
     },
     "execution_count": 11,
     "metadata": {},
     "output_type": "execute_result"
    }
   ],
   "source": [
    "df['MARRIAGE'].value_counts()"
   ]
  },
  {
   "cell_type": "code",
   "execution_count": 12,
   "metadata": {},
   "outputs": [
    {
     "data": {
      "text/plain": [
       "0    0.778742\n",
       "1    0.221258\n",
       "Name: DEFAULT, dtype: float64"
      ]
     },
     "execution_count": 12,
     "metadata": {},
     "output_type": "execute_result"
    }
   ],
   "source": [
    "df['DEFAULT'].value_counts(1)"
   ]
  },
  {
   "cell_type": "markdown",
   "metadata": {},
   "source": [
    "## Converting Categorical to Numerical"
   ]
  },
  {
   "cell_type": "code",
   "execution_count": 13,
   "metadata": {
    "scrolled": true
   },
   "outputs": [],
   "source": [
    "df['SEX']=df['SEX'].map({1:'Male',2:'Female'})"
   ]
  },
  {
   "cell_type": "code",
   "execution_count": 14,
   "metadata": {},
   "outputs": [],
   "source": [
    "df['EDUCATION']=df['EDUCATION'].map({1:'GraduateSchool',2:'University',3:'HighSchool',4:'Others',0:'Others',5:'Others',6:'Others'})"
   ]
  },
  {
   "cell_type": "code",
   "execution_count": 15,
   "metadata": {},
   "outputs": [],
   "source": [
    "df['MARRIAGE']=df['MARRIAGE'].map({1:'Married',2:'Single',3:'Others',0:'Others'})"
   ]
  },
  {
   "cell_type": "code",
   "execution_count": 16,
   "metadata": {},
   "outputs": [
    {
     "data": {
      "text/html": [
       "<div>\n",
       "<style scoped>\n",
       "    .dataframe tbody tr th:only-of-type {\n",
       "        vertical-align: middle;\n",
       "    }\n",
       "\n",
       "    .dataframe tbody tr th {\n",
       "        vertical-align: top;\n",
       "    }\n",
       "\n",
       "    .dataframe thead th {\n",
       "        text-align: right;\n",
       "    }\n",
       "</style>\n",
       "<table border=\"1\" class=\"dataframe\">\n",
       "  <thead>\n",
       "    <tr style=\"text-align: right;\">\n",
       "      <th></th>\n",
       "      <th>LIMIT_BAL</th>\n",
       "      <th>SEX</th>\n",
       "      <th>EDUCATION</th>\n",
       "      <th>MARRIAGE</th>\n",
       "      <th>AGE</th>\n",
       "      <th>PAY_1</th>\n",
       "      <th>PAY_2</th>\n",
       "      <th>PAY_3</th>\n",
       "      <th>PAY_4</th>\n",
       "      <th>PAY_5</th>\n",
       "      <th>PAY_6</th>\n",
       "      <th>BILL_AMT1</th>\n",
       "      <th>BILL_AMT2</th>\n",
       "      <th>BILL_AMT3</th>\n",
       "      <th>BILL_AMT4</th>\n",
       "      <th>BILL_AMT5</th>\n",
       "      <th>BILL_AMT6</th>\n",
       "      <th>PAY_AMT1</th>\n",
       "      <th>PAY_AMT2</th>\n",
       "      <th>PAY_AMT3</th>\n",
       "      <th>PAY_AMT4</th>\n",
       "      <th>PAY_AMT5</th>\n",
       "      <th>PAY_AMT6</th>\n",
       "      <th>DEFAULT</th>\n",
       "    </tr>\n",
       "  </thead>\n",
       "  <tbody>\n",
       "    <tr>\n",
       "      <th>0</th>\n",
       "      <td>20000</td>\n",
       "      <td>Female</td>\n",
       "      <td>University</td>\n",
       "      <td>Married</td>\n",
       "      <td>24</td>\n",
       "      <td>2</td>\n",
       "      <td>2</td>\n",
       "      <td>-1</td>\n",
       "      <td>-1</td>\n",
       "      <td>-2</td>\n",
       "      <td>-2</td>\n",
       "      <td>3913.0</td>\n",
       "      <td>3102.0</td>\n",
       "      <td>689.0</td>\n",
       "      <td>0.0</td>\n",
       "      <td>0.0</td>\n",
       "      <td>0.0</td>\n",
       "      <td>0.0</td>\n",
       "      <td>689.0</td>\n",
       "      <td>0.0</td>\n",
       "      <td>0.0</td>\n",
       "      <td>0.0</td>\n",
       "      <td>0.0</td>\n",
       "      <td>1</td>\n",
       "    </tr>\n",
       "    <tr>\n",
       "      <th>1</th>\n",
       "      <td>120000</td>\n",
       "      <td>Female</td>\n",
       "      <td>University</td>\n",
       "      <td>Single</td>\n",
       "      <td>26</td>\n",
       "      <td>-1</td>\n",
       "      <td>2</td>\n",
       "      <td>0</td>\n",
       "      <td>0</td>\n",
       "      <td>0</td>\n",
       "      <td>2</td>\n",
       "      <td>2682.0</td>\n",
       "      <td>1725.0</td>\n",
       "      <td>2682.0</td>\n",
       "      <td>3272.0</td>\n",
       "      <td>3455.0</td>\n",
       "      <td>3261.0</td>\n",
       "      <td>0.0</td>\n",
       "      <td>1000.0</td>\n",
       "      <td>1000.0</td>\n",
       "      <td>1000.0</td>\n",
       "      <td>0.0</td>\n",
       "      <td>2000.0</td>\n",
       "      <td>1</td>\n",
       "    </tr>\n",
       "    <tr>\n",
       "      <th>2</th>\n",
       "      <td>90000</td>\n",
       "      <td>Female</td>\n",
       "      <td>University</td>\n",
       "      <td>Single</td>\n",
       "      <td>34</td>\n",
       "      <td>0</td>\n",
       "      <td>0</td>\n",
       "      <td>0</td>\n",
       "      <td>0</td>\n",
       "      <td>0</td>\n",
       "      <td>0</td>\n",
       "      <td>29239.0</td>\n",
       "      <td>14027.0</td>\n",
       "      <td>13559.0</td>\n",
       "      <td>14331.0</td>\n",
       "      <td>14948.0</td>\n",
       "      <td>15549.0</td>\n",
       "      <td>1518.0</td>\n",
       "      <td>1500.0</td>\n",
       "      <td>1000.0</td>\n",
       "      <td>1000.0</td>\n",
       "      <td>1000.0</td>\n",
       "      <td>5000.0</td>\n",
       "      <td>0</td>\n",
       "    </tr>\n",
       "    <tr>\n",
       "      <th>3</th>\n",
       "      <td>50000</td>\n",
       "      <td>Female</td>\n",
       "      <td>University</td>\n",
       "      <td>Married</td>\n",
       "      <td>37</td>\n",
       "      <td>0</td>\n",
       "      <td>0</td>\n",
       "      <td>0</td>\n",
       "      <td>0</td>\n",
       "      <td>0</td>\n",
       "      <td>0</td>\n",
       "      <td>46990.0</td>\n",
       "      <td>48233.0</td>\n",
       "      <td>49291.0</td>\n",
       "      <td>28314.0</td>\n",
       "      <td>28959.0</td>\n",
       "      <td>29547.0</td>\n",
       "      <td>2000.0</td>\n",
       "      <td>2019.0</td>\n",
       "      <td>1200.0</td>\n",
       "      <td>1100.0</td>\n",
       "      <td>1069.0</td>\n",
       "      <td>1000.0</td>\n",
       "      <td>0</td>\n",
       "    </tr>\n",
       "    <tr>\n",
       "      <th>4</th>\n",
       "      <td>50000</td>\n",
       "      <td>Male</td>\n",
       "      <td>University</td>\n",
       "      <td>Married</td>\n",
       "      <td>57</td>\n",
       "      <td>-1</td>\n",
       "      <td>0</td>\n",
       "      <td>-1</td>\n",
       "      <td>0</td>\n",
       "      <td>0</td>\n",
       "      <td>0</td>\n",
       "      <td>8617.0</td>\n",
       "      <td>5670.0</td>\n",
       "      <td>35835.0</td>\n",
       "      <td>20940.0</td>\n",
       "      <td>19146.0</td>\n",
       "      <td>19131.0</td>\n",
       "      <td>2000.0</td>\n",
       "      <td>36681.0</td>\n",
       "      <td>10000.0</td>\n",
       "      <td>9000.0</td>\n",
       "      <td>689.0</td>\n",
       "      <td>679.0</td>\n",
       "      <td>0</td>\n",
       "    </tr>\n",
       "  </tbody>\n",
       "</table>\n",
       "</div>"
      ],
      "text/plain": [
       "   LIMIT_BAL     SEX   EDUCATION MARRIAGE  AGE  PAY_1  PAY_2  PAY_3  PAY_4  \\\n",
       "0      20000  Female  University  Married   24      2      2     -1     -1   \n",
       "1     120000  Female  University   Single   26     -1      2      0      0   \n",
       "2      90000  Female  University   Single   34      0      0      0      0   \n",
       "3      50000  Female  University  Married   37      0      0      0      0   \n",
       "4      50000    Male  University  Married   57     -1      0     -1      0   \n",
       "\n",
       "   PAY_5  PAY_6  BILL_AMT1  BILL_AMT2  BILL_AMT3  BILL_AMT4  BILL_AMT5  \\\n",
       "0     -2     -2     3913.0     3102.0      689.0        0.0        0.0   \n",
       "1      0      2     2682.0     1725.0     2682.0     3272.0     3455.0   \n",
       "2      0      0    29239.0    14027.0    13559.0    14331.0    14948.0   \n",
       "3      0      0    46990.0    48233.0    49291.0    28314.0    28959.0   \n",
       "4      0      0     8617.0     5670.0    35835.0    20940.0    19146.0   \n",
       "\n",
       "   BILL_AMT6  PAY_AMT1  PAY_AMT2  PAY_AMT3  PAY_AMT4  PAY_AMT5  PAY_AMT6  \\\n",
       "0        0.0       0.0     689.0       0.0       0.0       0.0       0.0   \n",
       "1     3261.0       0.0    1000.0    1000.0    1000.0       0.0    2000.0   \n",
       "2    15549.0    1518.0    1500.0    1000.0    1000.0    1000.0    5000.0   \n",
       "3    29547.0    2000.0    2019.0    1200.0    1100.0    1069.0    1000.0   \n",
       "4    19131.0    2000.0   36681.0   10000.0    9000.0     689.0     679.0   \n",
       "\n",
       "   DEFAULT  \n",
       "0        1  \n",
       "1        1  \n",
       "2        0  \n",
       "3        0  \n",
       "4        0  "
      ]
     },
     "execution_count": 16,
     "metadata": {},
     "output_type": "execute_result"
    }
   ],
   "source": [
    "df.head()"
   ]
  },
  {
   "cell_type": "code",
   "execution_count": 17,
   "metadata": {},
   "outputs": [],
   "source": [
    "df=pd.get_dummies(df,drop_first=True)"
   ]
  },
  {
   "cell_type": "code",
   "execution_count": 18,
   "metadata": {},
   "outputs": [
    {
     "data": {
      "text/html": [
       "<div>\n",
       "<style scoped>\n",
       "    .dataframe tbody tr th:only-of-type {\n",
       "        vertical-align: middle;\n",
       "    }\n",
       "\n",
       "    .dataframe tbody tr th {\n",
       "        vertical-align: top;\n",
       "    }\n",
       "\n",
       "    .dataframe thead th {\n",
       "        text-align: right;\n",
       "    }\n",
       "</style>\n",
       "<table border=\"1\" class=\"dataframe\">\n",
       "  <thead>\n",
       "    <tr style=\"text-align: right;\">\n",
       "      <th></th>\n",
       "      <th>LIMIT_BAL</th>\n",
       "      <th>AGE</th>\n",
       "      <th>PAY_1</th>\n",
       "      <th>PAY_2</th>\n",
       "      <th>PAY_3</th>\n",
       "      <th>PAY_4</th>\n",
       "      <th>PAY_5</th>\n",
       "      <th>PAY_6</th>\n",
       "      <th>BILL_AMT1</th>\n",
       "      <th>BILL_AMT2</th>\n",
       "      <th>BILL_AMT3</th>\n",
       "      <th>BILL_AMT4</th>\n",
       "      <th>BILL_AMT5</th>\n",
       "      <th>BILL_AMT6</th>\n",
       "      <th>PAY_AMT1</th>\n",
       "      <th>PAY_AMT2</th>\n",
       "      <th>PAY_AMT3</th>\n",
       "      <th>PAY_AMT4</th>\n",
       "      <th>PAY_AMT5</th>\n",
       "      <th>PAY_AMT6</th>\n",
       "      <th>DEFAULT</th>\n",
       "      <th>SEX_Male</th>\n",
       "      <th>EDUCATION_HighSchool</th>\n",
       "      <th>EDUCATION_Others</th>\n",
       "      <th>EDUCATION_University</th>\n",
       "      <th>MARRIAGE_Others</th>\n",
       "      <th>MARRIAGE_Single</th>\n",
       "    </tr>\n",
       "  </thead>\n",
       "  <tbody>\n",
       "    <tr>\n",
       "      <th>0</th>\n",
       "      <td>20000</td>\n",
       "      <td>24</td>\n",
       "      <td>2</td>\n",
       "      <td>2</td>\n",
       "      <td>-1</td>\n",
       "      <td>-1</td>\n",
       "      <td>-2</td>\n",
       "      <td>-2</td>\n",
       "      <td>3913.0</td>\n",
       "      <td>3102.0</td>\n",
       "      <td>689.0</td>\n",
       "      <td>0.0</td>\n",
       "      <td>0.0</td>\n",
       "      <td>0.0</td>\n",
       "      <td>0.0</td>\n",
       "      <td>689.0</td>\n",
       "      <td>0.0</td>\n",
       "      <td>0.0</td>\n",
       "      <td>0.0</td>\n",
       "      <td>0.0</td>\n",
       "      <td>1</td>\n",
       "      <td>0</td>\n",
       "      <td>0</td>\n",
       "      <td>0</td>\n",
       "      <td>1</td>\n",
       "      <td>0</td>\n",
       "      <td>0</td>\n",
       "    </tr>\n",
       "    <tr>\n",
       "      <th>1</th>\n",
       "      <td>120000</td>\n",
       "      <td>26</td>\n",
       "      <td>-1</td>\n",
       "      <td>2</td>\n",
       "      <td>0</td>\n",
       "      <td>0</td>\n",
       "      <td>0</td>\n",
       "      <td>2</td>\n",
       "      <td>2682.0</td>\n",
       "      <td>1725.0</td>\n",
       "      <td>2682.0</td>\n",
       "      <td>3272.0</td>\n",
       "      <td>3455.0</td>\n",
       "      <td>3261.0</td>\n",
       "      <td>0.0</td>\n",
       "      <td>1000.0</td>\n",
       "      <td>1000.0</td>\n",
       "      <td>1000.0</td>\n",
       "      <td>0.0</td>\n",
       "      <td>2000.0</td>\n",
       "      <td>1</td>\n",
       "      <td>0</td>\n",
       "      <td>0</td>\n",
       "      <td>0</td>\n",
       "      <td>1</td>\n",
       "      <td>0</td>\n",
       "      <td>1</td>\n",
       "    </tr>\n",
       "    <tr>\n",
       "      <th>2</th>\n",
       "      <td>90000</td>\n",
       "      <td>34</td>\n",
       "      <td>0</td>\n",
       "      <td>0</td>\n",
       "      <td>0</td>\n",
       "      <td>0</td>\n",
       "      <td>0</td>\n",
       "      <td>0</td>\n",
       "      <td>29239.0</td>\n",
       "      <td>14027.0</td>\n",
       "      <td>13559.0</td>\n",
       "      <td>14331.0</td>\n",
       "      <td>14948.0</td>\n",
       "      <td>15549.0</td>\n",
       "      <td>1518.0</td>\n",
       "      <td>1500.0</td>\n",
       "      <td>1000.0</td>\n",
       "      <td>1000.0</td>\n",
       "      <td>1000.0</td>\n",
       "      <td>5000.0</td>\n",
       "      <td>0</td>\n",
       "      <td>0</td>\n",
       "      <td>0</td>\n",
       "      <td>0</td>\n",
       "      <td>1</td>\n",
       "      <td>0</td>\n",
       "      <td>1</td>\n",
       "    </tr>\n",
       "    <tr>\n",
       "      <th>3</th>\n",
       "      <td>50000</td>\n",
       "      <td>37</td>\n",
       "      <td>0</td>\n",
       "      <td>0</td>\n",
       "      <td>0</td>\n",
       "      <td>0</td>\n",
       "      <td>0</td>\n",
       "      <td>0</td>\n",
       "      <td>46990.0</td>\n",
       "      <td>48233.0</td>\n",
       "      <td>49291.0</td>\n",
       "      <td>28314.0</td>\n",
       "      <td>28959.0</td>\n",
       "      <td>29547.0</td>\n",
       "      <td>2000.0</td>\n",
       "      <td>2019.0</td>\n",
       "      <td>1200.0</td>\n",
       "      <td>1100.0</td>\n",
       "      <td>1069.0</td>\n",
       "      <td>1000.0</td>\n",
       "      <td>0</td>\n",
       "      <td>0</td>\n",
       "      <td>0</td>\n",
       "      <td>0</td>\n",
       "      <td>1</td>\n",
       "      <td>0</td>\n",
       "      <td>0</td>\n",
       "    </tr>\n",
       "    <tr>\n",
       "      <th>4</th>\n",
       "      <td>50000</td>\n",
       "      <td>57</td>\n",
       "      <td>-1</td>\n",
       "      <td>0</td>\n",
       "      <td>-1</td>\n",
       "      <td>0</td>\n",
       "      <td>0</td>\n",
       "      <td>0</td>\n",
       "      <td>8617.0</td>\n",
       "      <td>5670.0</td>\n",
       "      <td>35835.0</td>\n",
       "      <td>20940.0</td>\n",
       "      <td>19146.0</td>\n",
       "      <td>19131.0</td>\n",
       "      <td>2000.0</td>\n",
       "      <td>36681.0</td>\n",
       "      <td>10000.0</td>\n",
       "      <td>9000.0</td>\n",
       "      <td>689.0</td>\n",
       "      <td>679.0</td>\n",
       "      <td>0</td>\n",
       "      <td>1</td>\n",
       "      <td>0</td>\n",
       "      <td>0</td>\n",
       "      <td>1</td>\n",
       "      <td>0</td>\n",
       "      <td>0</td>\n",
       "    </tr>\n",
       "  </tbody>\n",
       "</table>\n",
       "</div>"
      ],
      "text/plain": [
       "   LIMIT_BAL  AGE  PAY_1  PAY_2  PAY_3  PAY_4  PAY_5  PAY_6  BILL_AMT1  \\\n",
       "0      20000   24      2      2     -1     -1     -2     -2     3913.0   \n",
       "1     120000   26     -1      2      0      0      0      2     2682.0   \n",
       "2      90000   34      0      0      0      0      0      0    29239.0   \n",
       "3      50000   37      0      0      0      0      0      0    46990.0   \n",
       "4      50000   57     -1      0     -1      0      0      0     8617.0   \n",
       "\n",
       "   BILL_AMT2  BILL_AMT3  BILL_AMT4  BILL_AMT5  BILL_AMT6  PAY_AMT1  PAY_AMT2  \\\n",
       "0     3102.0      689.0        0.0        0.0        0.0       0.0     689.0   \n",
       "1     1725.0     2682.0     3272.0     3455.0     3261.0       0.0    1000.0   \n",
       "2    14027.0    13559.0    14331.0    14948.0    15549.0    1518.0    1500.0   \n",
       "3    48233.0    49291.0    28314.0    28959.0    29547.0    2000.0    2019.0   \n",
       "4     5670.0    35835.0    20940.0    19146.0    19131.0    2000.0   36681.0   \n",
       "\n",
       "   PAY_AMT3  PAY_AMT4  PAY_AMT5  PAY_AMT6  DEFAULT  SEX_Male  \\\n",
       "0       0.0       0.0       0.0       0.0        1         0   \n",
       "1    1000.0    1000.0       0.0    2000.0        1         0   \n",
       "2    1000.0    1000.0    1000.0    5000.0        0         0   \n",
       "3    1200.0    1100.0    1069.0    1000.0        0         0   \n",
       "4   10000.0    9000.0     689.0     679.0        0         1   \n",
       "\n",
       "   EDUCATION_HighSchool  EDUCATION_Others  EDUCATION_University  \\\n",
       "0                     0                 0                     1   \n",
       "1                     0                 0                     1   \n",
       "2                     0                 0                     1   \n",
       "3                     0                 0                     1   \n",
       "4                     0                 0                     1   \n",
       "\n",
       "   MARRIAGE_Others  MARRIAGE_Single  \n",
       "0                0                0  \n",
       "1                0                1  \n",
       "2                0                1  \n",
       "3                0                0  \n",
       "4                0                0  "
      ]
     },
     "execution_count": 18,
     "metadata": {},
     "output_type": "execute_result"
    }
   ],
   "source": [
    "df.head()"
   ]
  },
  {
   "cell_type": "markdown",
   "metadata": {},
   "source": [
    "## Base Model Building"
   ]
  },
  {
   "cell_type": "code",
   "execution_count": 19,
   "metadata": {},
   "outputs": [],
   "source": [
    "from sklearn.model_selection import train_test_split\n",
    "import statsmodels.api as sm"
   ]
  },
  {
   "cell_type": "code",
   "execution_count": 20,
   "metadata": {},
   "outputs": [],
   "source": [
    "x=df.drop('DEFAULT',axis=1)\n",
    "y=df['DEFAULT']"
   ]
  },
  {
   "cell_type": "code",
   "execution_count": 21,
   "metadata": {},
   "outputs": [],
   "source": [
    "X_train, X_test, y_train, y_test=train_test_split(x,y,test_size=0.3,random_state=1)"
   ]
  },
  {
   "cell_type": "markdown",
   "metadata": {},
   "source": [
    "### Logit Model"
   ]
  },
  {
   "cell_type": "code",
   "execution_count": 22,
   "metadata": {},
   "outputs": [],
   "source": [
    "X_train_c=sm.add_constant(X_train)\n",
    "X_test_c=sm.add_constant(X_test)"
   ]
  },
  {
   "cell_type": "code",
   "execution_count": 23,
   "metadata": {},
   "outputs": [
    {
     "name": "stdout",
     "output_type": "stream",
     "text": [
      "Optimization terminated successfully.\n",
      "         Current function value: 0.461738\n",
      "         Iterations 7\n"
     ]
    }
   ],
   "source": [
    "Logit_model=sm.Logit(y_train,X_train_c)\n",
    "result=Logit_model.fit()"
   ]
  },
  {
   "cell_type": "code",
   "execution_count": 24,
   "metadata": {
    "scrolled": true
   },
   "outputs": [
    {
     "data": {
      "text/html": [
       "<table class=\"simpletable\">\n",
       "<caption>Logit Regression Results</caption>\n",
       "<tr>\n",
       "  <th>Dep. Variable:</th>        <td>DEFAULT</td>     <th>  No. Observations:  </th>  <td> 20975</td> \n",
       "</tr>\n",
       "<tr>\n",
       "  <th>Model:</th>                 <td>Logit</td>      <th>  Df Residuals:      </th>  <td> 20948</td> \n",
       "</tr>\n",
       "<tr>\n",
       "  <th>Method:</th>                 <td>MLE</td>       <th>  Df Model:          </th>  <td>    26</td> \n",
       "</tr>\n",
       "<tr>\n",
       "  <th>Date:</th>            <td>Fri, 26 Jun 2020</td> <th>  Pseudo R-squ.:     </th>  <td>0.1243</td> \n",
       "</tr>\n",
       "<tr>\n",
       "  <th>Time:</th>                <td>23:30:07</td>     <th>  Log-Likelihood:    </th> <td> -9684.9</td>\n",
       "</tr>\n",
       "<tr>\n",
       "  <th>converged:</th>             <td>True</td>       <th>  LL-Null:           </th> <td> -11060.</td>\n",
       "</tr>\n",
       "<tr>\n",
       "  <th>Covariance Type:</th>     <td>nonrobust</td>    <th>  LLR p-value:       </th>  <td> 0.000</td> \n",
       "</tr>\n",
       "</table>\n",
       "<table class=\"simpletable\">\n",
       "<tr>\n",
       "            <td></td>              <th>coef</th>     <th>std err</th>      <th>z</th>      <th>P>|z|</th>  <th>[0.025</th>    <th>0.975]</th>  \n",
       "</tr>\n",
       "<tr>\n",
       "  <th>const</th>                <td>   -1.1162</td> <td>    0.099</td> <td>  -11.265</td> <td> 0.000</td> <td>   -1.310</td> <td>   -0.922</td>\n",
       "</tr>\n",
       "<tr>\n",
       "  <th>LIMIT_BAL</th>            <td>-7.467e-07</td> <td> 1.89e-07</td> <td>   -3.954</td> <td> 0.000</td> <td>-1.12e-06</td> <td>-3.77e-07</td>\n",
       "</tr>\n",
       "<tr>\n",
       "  <th>AGE</th>                  <td>    0.0050</td> <td>    0.002</td> <td>    2.250</td> <td> 0.024</td> <td>    0.001</td> <td>    0.009</td>\n",
       "</tr>\n",
       "<tr>\n",
       "  <th>PAY_1</th>                <td>    0.5765</td> <td>    0.021</td> <td>   26.912</td> <td> 0.000</td> <td>    0.535</td> <td>    0.619</td>\n",
       "</tr>\n",
       "<tr>\n",
       "  <th>PAY_2</th>                <td>    0.1128</td> <td>    0.024</td> <td>    4.667</td> <td> 0.000</td> <td>    0.065</td> <td>    0.160</td>\n",
       "</tr>\n",
       "<tr>\n",
       "  <th>PAY_3</th>                <td>    0.0659</td> <td>    0.027</td> <td>    2.439</td> <td> 0.015</td> <td>    0.013</td> <td>    0.119</td>\n",
       "</tr>\n",
       "<tr>\n",
       "  <th>PAY_4</th>                <td>    0.0033</td> <td>    0.030</td> <td>    0.109</td> <td> 0.913</td> <td>   -0.055</td> <td>    0.062</td>\n",
       "</tr>\n",
       "<tr>\n",
       "  <th>PAY_5</th>                <td>    0.0455</td> <td>    0.032</td> <td>    1.410</td> <td> 0.159</td> <td>   -0.018</td> <td>    0.109</td>\n",
       "</tr>\n",
       "<tr>\n",
       "  <th>PAY_6</th>                <td>    0.0130</td> <td>    0.026</td> <td>    0.492</td> <td> 0.623</td> <td>   -0.039</td> <td>    0.065</td>\n",
       "</tr>\n",
       "<tr>\n",
       "  <th>BILL_AMT1</th>            <td>-4.556e-06</td> <td> 1.28e-06</td> <td>   -3.566</td> <td> 0.000</td> <td>-7.06e-06</td> <td>-2.05e-06</td>\n",
       "</tr>\n",
       "<tr>\n",
       "  <th>BILL_AMT2</th>            <td>  8.41e-07</td> <td> 1.75e-06</td> <td>    0.480</td> <td> 0.631</td> <td>-2.59e-06</td> <td> 4.27e-06</td>\n",
       "</tr>\n",
       "<tr>\n",
       "  <th>BILL_AMT3</th>            <td> 1.691e-06</td> <td> 1.62e-06</td> <td>    1.042</td> <td> 0.298</td> <td>-1.49e-06</td> <td> 4.87e-06</td>\n",
       "</tr>\n",
       "<tr>\n",
       "  <th>BILL_AMT4</th>            <td> 5.484e-07</td> <td> 1.61e-06</td> <td>    0.340</td> <td> 0.734</td> <td>-2.62e-06</td> <td> 3.71e-06</td>\n",
       "</tr>\n",
       "<tr>\n",
       "  <th>BILL_AMT5</th>            <td> 8.276e-07</td> <td> 1.75e-06</td> <td>    0.472</td> <td> 0.637</td> <td>-2.61e-06</td> <td> 4.26e-06</td>\n",
       "</tr>\n",
       "<tr>\n",
       "  <th>BILL_AMT6</th>            <td>-1.819e-07</td> <td> 1.34e-06</td> <td>   -0.135</td> <td> 0.892</td> <td>-2.82e-06</td> <td> 2.45e-06</td>\n",
       "</tr>\n",
       "<tr>\n",
       "  <th>PAY_AMT1</th>             <td>-1.461e-05</td> <td> 2.87e-06</td> <td>   -5.083</td> <td> 0.000</td> <td>-2.02e-05</td> <td>-8.98e-06</td>\n",
       "</tr>\n",
       "<tr>\n",
       "  <th>PAY_AMT2</th>             <td>-7.899e-06</td> <td> 2.32e-06</td> <td>   -3.410</td> <td> 0.001</td> <td>-1.24e-05</td> <td>-3.36e-06</td>\n",
       "</tr>\n",
       "<tr>\n",
       "  <th>PAY_AMT3</th>             <td>-2.898e-06</td> <td> 2.01e-06</td> <td>   -1.441</td> <td> 0.150</td> <td>-6.84e-06</td> <td> 1.04e-06</td>\n",
       "</tr>\n",
       "<tr>\n",
       "  <th>PAY_AMT4</th>             <td>-3.039e-06</td> <td> 2.11e-06</td> <td>   -1.443</td> <td> 0.149</td> <td>-7.17e-06</td> <td> 1.09e-06</td>\n",
       "</tr>\n",
       "<tr>\n",
       "  <th>PAY_AMT5</th>             <td>-1.683e-06</td> <td> 1.97e-06</td> <td>   -0.855</td> <td> 0.392</td> <td>-5.54e-06</td> <td> 2.17e-06</td>\n",
       "</tr>\n",
       "<tr>\n",
       "  <th>PAY_AMT6</th>             <td>-1.449e-06</td> <td> 1.46e-06</td> <td>   -0.991</td> <td> 0.322</td> <td>-4.32e-06</td> <td> 1.42e-06</td>\n",
       "</tr>\n",
       "<tr>\n",
       "  <th>SEX_Male</th>             <td>    0.1444</td> <td>    0.037</td> <td>    3.929</td> <td> 0.000</td> <td>    0.072</td> <td>    0.216</td>\n",
       "</tr>\n",
       "<tr>\n",
       "  <th>EDUCATION_HighSchool</th> <td>   -0.1099</td> <td>    0.057</td> <td>   -1.936</td> <td> 0.053</td> <td>   -0.221</td> <td>    0.001</td>\n",
       "</tr>\n",
       "<tr>\n",
       "  <th>EDUCATION_Others</th>     <td>   -0.9916</td> <td>    0.210</td> <td>   -4.727</td> <td> 0.000</td> <td>   -1.403</td> <td>   -0.580</td>\n",
       "</tr>\n",
       "<tr>\n",
       "  <th>EDUCATION_University</th> <td>   -0.0749</td> <td>    0.043</td> <td>   -1.750</td> <td> 0.080</td> <td>   -0.159</td> <td>    0.009</td>\n",
       "</tr>\n",
       "<tr>\n",
       "  <th>MARRIAGE_Others</th>      <td>   -0.2842</td> <td>    0.165</td> <td>   -1.727</td> <td> 0.084</td> <td>   -0.607</td> <td>    0.038</td>\n",
       "</tr>\n",
       "<tr>\n",
       "  <th>MARRIAGE_Single</th>      <td>   -0.2027</td> <td>    0.042</td> <td>   -4.879</td> <td> 0.000</td> <td>   -0.284</td> <td>   -0.121</td>\n",
       "</tr>\n",
       "</table>"
      ],
      "text/plain": [
       "<class 'statsmodels.iolib.summary.Summary'>\n",
       "\"\"\"\n",
       "                           Logit Regression Results                           \n",
       "==============================================================================\n",
       "Dep. Variable:                DEFAULT   No. Observations:                20975\n",
       "Model:                          Logit   Df Residuals:                    20948\n",
       "Method:                           MLE   Df Model:                           26\n",
       "Date:                Fri, 26 Jun 2020   Pseudo R-squ.:                  0.1243\n",
       "Time:                        23:30:07   Log-Likelihood:                -9684.9\n",
       "converged:                       True   LL-Null:                       -11060.\n",
       "Covariance Type:            nonrobust   LLR p-value:                     0.000\n",
       "========================================================================================\n",
       "                           coef    std err          z      P>|z|      [0.025      0.975]\n",
       "----------------------------------------------------------------------------------------\n",
       "const                   -1.1162      0.099    -11.265      0.000      -1.310      -0.922\n",
       "LIMIT_BAL            -7.467e-07   1.89e-07     -3.954      0.000   -1.12e-06   -3.77e-07\n",
       "AGE                      0.0050      0.002      2.250      0.024       0.001       0.009\n",
       "PAY_1                    0.5765      0.021     26.912      0.000       0.535       0.619\n",
       "PAY_2                    0.1128      0.024      4.667      0.000       0.065       0.160\n",
       "PAY_3                    0.0659      0.027      2.439      0.015       0.013       0.119\n",
       "PAY_4                    0.0033      0.030      0.109      0.913      -0.055       0.062\n",
       "PAY_5                    0.0455      0.032      1.410      0.159      -0.018       0.109\n",
       "PAY_6                    0.0130      0.026      0.492      0.623      -0.039       0.065\n",
       "BILL_AMT1            -4.556e-06   1.28e-06     -3.566      0.000   -7.06e-06   -2.05e-06\n",
       "BILL_AMT2              8.41e-07   1.75e-06      0.480      0.631   -2.59e-06    4.27e-06\n",
       "BILL_AMT3             1.691e-06   1.62e-06      1.042      0.298   -1.49e-06    4.87e-06\n",
       "BILL_AMT4             5.484e-07   1.61e-06      0.340      0.734   -2.62e-06    3.71e-06\n",
       "BILL_AMT5             8.276e-07   1.75e-06      0.472      0.637   -2.61e-06    4.26e-06\n",
       "BILL_AMT6            -1.819e-07   1.34e-06     -0.135      0.892   -2.82e-06    2.45e-06\n",
       "PAY_AMT1             -1.461e-05   2.87e-06     -5.083      0.000   -2.02e-05   -8.98e-06\n",
       "PAY_AMT2             -7.899e-06   2.32e-06     -3.410      0.001   -1.24e-05   -3.36e-06\n",
       "PAY_AMT3             -2.898e-06   2.01e-06     -1.441      0.150   -6.84e-06    1.04e-06\n",
       "PAY_AMT4             -3.039e-06   2.11e-06     -1.443      0.149   -7.17e-06    1.09e-06\n",
       "PAY_AMT5             -1.683e-06   1.97e-06     -0.855      0.392   -5.54e-06    2.17e-06\n",
       "PAY_AMT6             -1.449e-06   1.46e-06     -0.991      0.322   -4.32e-06    1.42e-06\n",
       "SEX_Male                 0.1444      0.037      3.929      0.000       0.072       0.216\n",
       "EDUCATION_HighSchool    -0.1099      0.057     -1.936      0.053      -0.221       0.001\n",
       "EDUCATION_Others        -0.9916      0.210     -4.727      0.000      -1.403      -0.580\n",
       "EDUCATION_University    -0.0749      0.043     -1.750      0.080      -0.159       0.009\n",
       "MARRIAGE_Others         -0.2842      0.165     -1.727      0.084      -0.607       0.038\n",
       "MARRIAGE_Single         -0.2027      0.042     -4.879      0.000      -0.284      -0.121\n",
       "========================================================================================\n",
       "\"\"\""
      ]
     },
     "execution_count": 24,
     "metadata": {},
     "output_type": "execute_result"
    }
   ],
   "source": [
    "result.summary()"
   ]
  },
  {
   "cell_type": "code",
   "execution_count": 25,
   "metadata": {},
   "outputs": [
    {
     "data": {
      "text/plain": [
       "19379    0.200251\n",
       "3295     0.552985\n",
       "1541     0.246874\n",
       "21170    0.160230\n",
       "3273     0.219986\n",
       "dtype: float64"
      ]
     },
     "execution_count": 25,
     "metadata": {},
     "output_type": "execute_result"
    }
   ],
   "source": [
    "y_prob=result.predict(X_test_c)\n",
    "y_prob.head()"
   ]
  },
  {
   "cell_type": "code",
   "execution_count": 26,
   "metadata": {},
   "outputs": [],
   "source": [
    "y_test=pd.DataFrame(y_test)\n",
    "y_test['Prob']=y_prob"
   ]
  },
  {
   "cell_type": "code",
   "execution_count": 27,
   "metadata": {},
   "outputs": [
    {
     "data": {
      "text/html": [
       "<div>\n",
       "<style scoped>\n",
       "    .dataframe tbody tr th:only-of-type {\n",
       "        vertical-align: middle;\n",
       "    }\n",
       "\n",
       "    .dataframe tbody tr th {\n",
       "        vertical-align: top;\n",
       "    }\n",
       "\n",
       "    .dataframe thead th {\n",
       "        text-align: right;\n",
       "    }\n",
       "</style>\n",
       "<table border=\"1\" class=\"dataframe\">\n",
       "  <thead>\n",
       "    <tr style=\"text-align: right;\">\n",
       "      <th></th>\n",
       "      <th>DEFAULT</th>\n",
       "      <th>Prob</th>\n",
       "      <th>Pred</th>\n",
       "    </tr>\n",
       "  </thead>\n",
       "  <tbody>\n",
       "    <tr>\n",
       "      <th>19379</th>\n",
       "      <td>0</td>\n",
       "      <td>0.200251</td>\n",
       "      <td>0</td>\n",
       "    </tr>\n",
       "    <tr>\n",
       "      <th>3295</th>\n",
       "      <td>1</td>\n",
       "      <td>0.552985</td>\n",
       "      <td>1</td>\n",
       "    </tr>\n",
       "    <tr>\n",
       "      <th>1541</th>\n",
       "      <td>0</td>\n",
       "      <td>0.246874</td>\n",
       "      <td>0</td>\n",
       "    </tr>\n",
       "    <tr>\n",
       "      <th>21170</th>\n",
       "      <td>0</td>\n",
       "      <td>0.160230</td>\n",
       "      <td>0</td>\n",
       "    </tr>\n",
       "    <tr>\n",
       "      <th>3273</th>\n",
       "      <td>0</td>\n",
       "      <td>0.219986</td>\n",
       "      <td>0</td>\n",
       "    </tr>\n",
       "  </tbody>\n",
       "</table>\n",
       "</div>"
      ],
      "text/plain": [
       "       DEFAULT      Prob  Pred\n",
       "19379        0  0.200251     0\n",
       "3295         1  0.552985     1\n",
       "1541         0  0.246874     0\n",
       "21170        0  0.160230     0\n",
       "3273         0  0.219986     0"
      ]
     },
     "execution_count": 27,
     "metadata": {},
     "output_type": "execute_result"
    }
   ],
   "source": [
    "y_test['Pred']=y_test['Prob'].apply(lambda x:0 if x<0.5 else 1)\n",
    "y_test.head()"
   ]
  },
  {
   "cell_type": "code",
   "execution_count": 28,
   "metadata": {},
   "outputs": [],
   "source": [
    "from sklearn.metrics import confusion_matrix,classification_report,cohen_kappa_score,matthews_corrcoef,roc_curve,roc_auc_score,accuracy_score"
   ]
  },
  {
   "cell_type": "code",
   "execution_count": 29,
   "metadata": {},
   "outputs": [
    {
     "data": {
      "text/plain": [
       "array([[6775,  206],\n",
       "       [1509,  500]], dtype=int64)"
      ]
     },
     "execution_count": 29,
     "metadata": {},
     "output_type": "execute_result"
    }
   ],
   "source": [
    "cm=confusion_matrix(y_test['DEFAULT'],y_test['Pred'])\n",
    "cm"
   ]
  },
  {
   "cell_type": "code",
   "execution_count": 30,
   "metadata": {},
   "outputs": [
    {
     "data": {
      "text/html": [
       "<div>\n",
       "<style scoped>\n",
       "    .dataframe tbody tr th:only-of-type {\n",
       "        vertical-align: middle;\n",
       "    }\n",
       "\n",
       "    .dataframe tbody tr th {\n",
       "        vertical-align: top;\n",
       "    }\n",
       "\n",
       "    .dataframe thead th {\n",
       "        text-align: right;\n",
       "    }\n",
       "</style>\n",
       "<table border=\"1\" class=\"dataframe\">\n",
       "  <thead>\n",
       "    <tr style=\"text-align: right;\">\n",
       "      <th></th>\n",
       "      <th>Predicted:0</th>\n",
       "      <th>Predicted:1</th>\n",
       "    </tr>\n",
       "  </thead>\n",
       "  <tbody>\n",
       "    <tr>\n",
       "      <th>Actual:0</th>\n",
       "      <td>6775</td>\n",
       "      <td>206</td>\n",
       "    </tr>\n",
       "    <tr>\n",
       "      <th>Actual:1</th>\n",
       "      <td>1509</td>\n",
       "      <td>500</td>\n",
       "    </tr>\n",
       "  </tbody>\n",
       "</table>\n",
       "</div>"
      ],
      "text/plain": [
       "          Predicted:0  Predicted:1\n",
       "Actual:0         6775          206\n",
       "Actual:1         1509          500"
      ]
     },
     "execution_count": 30,
     "metadata": {},
     "output_type": "execute_result"
    }
   ],
   "source": [
    "cm = pd.DataFrame(data=cm,columns=['Predicted:0','Predicted:1'],index=['Actual:0','Actual:1'])\n",
    "cm"
   ]
  },
  {
   "cell_type": "code",
   "execution_count": 31,
   "metadata": {},
   "outputs": [
    {
     "data": {
      "image/png": "[encoded data removed]",
      "text/plain": [
       "<Figure size 432x288 with 2 Axes>"
      ]
     },
     "metadata": {
      "needs_background": "light"
     },
     "output_type": "display_data"
    }
   ],
   "source": [
    "sns.heatmap(data=cm,annot=True,fmt='g')\n",
    "plt.show()"
   ]
  },
  {
   "cell_type": "code",
   "execution_count": 32,
   "metadata": {},
   "outputs": [
    {
     "data": {
      "image/png": "[encoded data removed]",
      "text/plain": [
       "<Figure size 432x288 with 1 Axes>"
      ]
     },
     "metadata": {
      "needs_background": "light"
     },
     "output_type": "display_data"
    }
   ],
   "source": [
    "fpr,tpr,thresholds=roc_curve(y_test['DEFAULT'],y_test['Pred'])\n",
    "plt.plot(fpr,tpr,color='r')\n",
    "plt.xlabel('FPR')\n",
    "plt.ylabel('TPR')\n",
    "plt.plot(fpr,fpr,color='g')\n",
    "plt.show()"
   ]
  },
  {
   "cell_type": "code",
   "execution_count": 33,
   "metadata": {
    "scrolled": true
   },
   "outputs": [
    {
     "name": "stdout",
     "output_type": "stream",
     "text": [
      "Cohen kappa Score: 0.2852557365762092\n",
      "Matthews coeff: 0.3397084470785984\n",
      "Roc Auc Score: 0.6096856867203158\n",
      "Accuracy Score: 0.8092324805339266\n",
      "              precision    recall  f1-score   support\n",
      "\n",
      "           0       0.82      0.97      0.89      6981\n",
      "           1       0.71      0.25      0.37      2009\n",
      "\n",
      "    accuracy                           0.81      8990\n",
      "   macro avg       0.76      0.61      0.63      8990\n",
      "weighted avg       0.79      0.81      0.77      8990\n",
      "\n"
     ]
    }
   ],
   "source": [
    "print('Cohen kappa Score:',cohen_kappa_score(y_test['DEFAULT'],y_test['Pred']))\n",
    "print('Matthews coeff:',matthews_corrcoef(y_test['DEFAULT'],y_test['Pred']))\n",
    "print('Roc Auc Score:',roc_auc_score(y_test['DEFAULT'],y_test['Pred']))\n",
    "print('Accuracy Score:',accuracy_score(y_test['DEFAULT'],y_test['Pred']))\n",
    "print(classification_report(y_test['DEFAULT'],y_test['Pred']))"
   ]
  },
  {
   "cell_type": "markdown",
   "metadata": {},
   "source": [
    "### Logistic Regression"
   ]
  },
  {
   "cell_type": "code",
   "execution_count": 34,
   "metadata": {},
   "outputs": [],
   "source": [
    "from sklearn.linear_model import LogisticRegression"
   ]
  },
  {
   "cell_type": "code",
   "execution_count": 35,
   "metadata": {},
   "outputs": [],
   "source": [
    "lr=LogisticRegression(class_weight=({1:77,0:22}))"
   ]
  },
  {
   "cell_type": "code",
   "execution_count": 36,
   "metadata": {},
   "outputs": [],
   "source": [
    "x=df.drop('DEFAULT',axis=1)\n",
    "y=df['DEFAULT']"
   ]
  },
  {
   "cell_type": "code",
   "execution_count": 37,
   "metadata": {},
   "outputs": [],
   "source": [
    "X_train, X_test, y_train, y_test = train_test_split(x,y,test_size=0.3,random_state=1)"
   ]
  },
  {
   "cell_type": "code",
   "execution_count": 38,
   "metadata": {},
   "outputs": [],
   "source": [
    "lr_model=lr.fit(X_train,y_train)\n",
    "ypred_lr=lr_model.predict(X_test)"
   ]
  },
  {
   "cell_type": "code",
   "execution_count": 39,
   "metadata": {},
   "outputs": [
    {
     "name": "stdout",
     "output_type": "stream",
     "text": [
      "Cohen kappa Score: 0.15579203908647232\n",
      "Matthews coeff: 0.16326377492839989\n",
      "Roc Auc Score: 0.5933329383196045\n",
      "Accuracy Score: 0.6489432703003337\n",
      "              precision    recall  f1-score   support\n",
      "\n",
      "           0       0.83      0.69      0.75      6981\n",
      "           1       0.32      0.49      0.39      2009\n",
      "\n",
      "    accuracy                           0.65      8990\n",
      "   macro avg       0.57      0.59      0.57      8990\n",
      "weighted avg       0.71      0.65      0.67      8990\n",
      "\n",
      "[[4844 2137]\n",
      " [1019  990]]\n"
     ]
    }
   ],
   "source": [
    "print('Cohen kappa Score:',cohen_kappa_score(y_test,ypred_lr))\n",
    "print('Matthews coeff:',matthews_corrcoef(y_test,ypred_lr))\n",
    "print('Roc Auc Score:',roc_auc_score(y_test,ypred_lr))\n",
    "print('Accuracy Score:',accuracy_score(y_test,ypred_lr))\n",
    "print(classification_report(y_test,ypred_lr))\n",
    "print(confusion_matrix(y_test,ypred_lr))"
   ]
  },
  {
   "cell_type": "markdown",
   "metadata": {},
   "source": [
    "### Decision Tree"
   ]
  },
  {
   "cell_type": "code",
   "execution_count": 40,
   "metadata": {},
   "outputs": [],
   "source": [
    "from sklearn.tree import DecisionTreeClassifier"
   ]
  },
  {
   "cell_type": "code",
   "execution_count": 41,
   "metadata": {},
   "outputs": [],
   "source": [
    "dt=DecisionTreeClassifier()"
   ]
  },
  {
   "cell_type": "code",
   "execution_count": 42,
   "metadata": {},
   "outputs": [],
   "source": [
    "dt_model=dt.fit(X_train,y_train)\n",
    "ypred_dt=dt_model.predict(X_test)"
   ]
  },
  {
   "cell_type": "code",
   "execution_count": 43,
   "metadata": {},
   "outputs": [
    {
     "name": "stdout",
     "output_type": "stream",
     "text": [
      "Cohen kappa Score: 0.21171285216040647\n",
      "Matthews coeff: 0.21182208515075696\n",
      "Roc Auc Score: 0.6077703335990764\n",
      "Accuracy Score: 0.72146829810901\n",
      "              precision    recall  f1-score   support\n",
      "\n",
      "           0       0.83      0.81      0.82      6981\n",
      "           1       0.38      0.40      0.39      2009\n",
      "\n",
      "    accuracy                           0.72      8990\n",
      "   macro avg       0.60      0.61      0.61      8990\n",
      "weighted avg       0.73      0.72      0.72      8990\n",
      "\n",
      "[[5678 1303]\n",
      " [1201  808]]\n"
     ]
    }
   ],
   "source": [
    "print('Cohen kappa Score:',cohen_kappa_score(y_test,ypred_dt))\n",
    "print('Matthews coeff:',matthews_corrcoef(y_test,ypred_dt))\n",
    "print('Roc Auc Score:',roc_auc_score(y_test,ypred_dt))\n",
    "print('Accuracy Score:',accuracy_score(y_test,ypred_dt))\n",
    "print(classification_report(y_test,ypred_dt))\n",
    "print(confusion_matrix(y_test,ypred_dt))"
   ]
  },
  {
   "cell_type": "markdown",
   "metadata": {},
   "source": [
    "### Random Forest"
   ]
  },
  {
   "cell_type": "code",
   "execution_count": 44,
   "metadata": {},
   "outputs": [],
   "source": [
    "from sklearn.ensemble import RandomForestClassifier"
   ]
  },
  {
   "cell_type": "code",
   "execution_count": 45,
   "metadata": {},
   "outputs": [],
   "source": [
    "rf=RandomForestClassifier()"
   ]
  },
  {
   "cell_type": "code",
   "execution_count": 46,
   "metadata": {},
   "outputs": [],
   "source": [
    "rf_model=rf.fit(X_train,y_train)\n",
    "ypred_rf=rf_model.predict(X_test)"
   ]
  },
  {
   "cell_type": "code",
   "execution_count": 47,
   "metadata": {},
   "outputs": [
    {
     "name": "stdout",
     "output_type": "stream",
     "text": [
      "Cohen kappa Score: 0.3678099333028495\n",
      "Matthews coeff: 0.3882052932497079\n",
      "Roc Auc Score: 0.6562614774126657\n",
      "Accuracy Score: 0.8135706340378198\n",
      "              precision    recall  f1-score   support\n",
      "\n",
      "           0       0.84      0.94      0.89      6981\n",
      "           1       0.64      0.37      0.47      2009\n",
      "\n",
      "    accuracy                           0.81      8990\n",
      "   macro avg       0.74      0.66      0.68      8990\n",
      "weighted avg       0.80      0.81      0.79      8990\n",
      "\n",
      "[[6567  414]\n",
      " [1262  747]]\n"
     ]
    }
   ],
   "source": [
    "print('Cohen kappa Score:',cohen_kappa_score(y_test,ypred_rf))\n",
    "print('Matthews coeff:',matthews_corrcoef(y_test,ypred_rf))\n",
    "print('Roc Auc Score:',roc_auc_score(y_test,ypred_rf))\n",
    "print('Accuracy Score:',accuracy_score(y_test,ypred_rf))\n",
    "print(classification_report(y_test,ypred_rf))\n",
    "print(confusion_matrix(y_test,ypred_rf))"
   ]
  },
  {
   "cell_type": "markdown",
   "metadata": {},
   "source": [
    "### Naive Baye's"
   ]
  },
  {
   "cell_type": "code",
   "execution_count": 48,
   "metadata": {},
   "outputs": [],
   "source": [
    "from sklearn.naive_bayes import GaussianNB"
   ]
  },
  {
   "cell_type": "code",
   "execution_count": 49,
   "metadata": {},
   "outputs": [],
   "source": [
    "nb=GaussianNB()"
   ]
  },
  {
   "cell_type": "code",
   "execution_count": 50,
   "metadata": {},
   "outputs": [],
   "source": [
    "nb_model=nb.fit(X_train,y_train)\n",
    "ypred_nb=nb_model.predict(X_test)"
   ]
  },
  {
   "cell_type": "code",
   "execution_count": 51,
   "metadata": {},
   "outputs": [
    {
     "name": "stdout",
     "output_type": "stream",
     "text": [
      "Cohen kappa Score: 0.0673246722309816\n",
      "Matthews coeff: 0.1272824385933174\n",
      "Roc Auc Score: 0.5634371014434472\n",
      "Accuracy Score: 0.3899888765294772\n",
      "              precision    recall  f1-score   support\n",
      "\n",
      "           0       0.88      0.25      0.39      6981\n",
      "           1       0.25      0.88      0.39      2009\n",
      "\n",
      "    accuracy                           0.39      8990\n",
      "   macro avg       0.56      0.56      0.39      8990\n",
      "weighted avg       0.74      0.39      0.39      8990\n",
      "\n",
      "[[1744 5237]\n",
      " [ 247 1762]]\n"
     ]
    }
   ],
   "source": [
    "print('Cohen kappa Score:',cohen_kappa_score(y_test,ypred_nb))\n",
    "print('Matthews coeff:',matthews_corrcoef(y_test,ypred_nb))\n",
    "print('Roc Auc Score:',roc_auc_score(y_test,ypred_nb))\n",
    "print('Accuracy Score:',accuracy_score(y_test,ypred_nb))\n",
    "print(classification_report(y_test,ypred_nb))\n",
    "print(confusion_matrix(y_test,ypred_nb))"
   ]
  },
  {
   "cell_type": "markdown",
   "metadata": {},
   "source": [
    "### KNN"
   ]
  },
  {
   "cell_type": "code",
   "execution_count": 52,
   "metadata": {},
   "outputs": [],
   "source": [
    "from sklearn.neighbors import KNeighborsClassifier\n",
    "from sklearn.preprocessing import StandardScaler"
   ]
  },
  {
   "cell_type": "code",
   "execution_count": 53,
   "metadata": {},
   "outputs": [],
   "source": [
    "sc=StandardScaler()\n",
    "x_scaled=sc.fit_transform(x)"
   ]
  },
  {
   "cell_type": "code",
   "execution_count": 54,
   "metadata": {},
   "outputs": [],
   "source": [
    "X_train_s, X_test, y_train_s, y_test = train_test_split(x_scaled,y,test_size=0.3,random_state=1)"
   ]
  },
  {
   "cell_type": "code",
   "execution_count": 55,
   "metadata": {},
   "outputs": [],
   "source": [
    "knn=KNeighborsClassifier()"
   ]
  },
  {
   "cell_type": "code",
   "execution_count": 56,
   "metadata": {},
   "outputs": [],
   "source": [
    "model_knn=knn.fit(X_train_s,y_train_s)\n",
    "ypred_knn=model_knn.predict(X_test)"
   ]
  },
  {
   "cell_type": "code",
   "execution_count": 57,
   "metadata": {},
   "outputs": [
    {
     "name": "stdout",
     "output_type": "stream",
     "text": [
      "Cohen kappa Score: 0.2965032647917436\n",
      "Matthews coeff: 0.30944987533454715\n",
      "Roc Auc Score: 0.627990794041054\n",
      "Accuracy Score: 0.789210233592881\n",
      "              precision    recall  f1-score   support\n",
      "\n",
      "           0       0.83      0.92      0.87      6981\n",
      "           1       0.55      0.34      0.42      2009\n",
      "\n",
      "    accuracy                           0.79      8990\n",
      "   macro avg       0.69      0.63      0.64      8990\n",
      "weighted avg       0.77      0.79      0.77      8990\n",
      "\n",
      "[[6419  562]\n",
      " [1333  676]]\n"
     ]
    }
   ],
   "source": [
    "print('Cohen kappa Score:',cohen_kappa_score(y_test,ypred_knn))\n",
    "print('Matthews coeff:',matthews_corrcoef(y_test,ypred_knn))\n",
    "print('Roc Auc Score:',roc_auc_score(y_test,ypred_knn))\n",
    "print('Accuracy Score:',accuracy_score(y_test,ypred_knn))\n",
    "print(classification_report(y_test,ypred_knn))\n",
    "print(confusion_matrix(y_test,ypred_knn))"
   ]
  },
  {
   "cell_type": "code",
   "execution_count": 58,
   "metadata": {},
   "outputs": [],
   "source": [
    "from sklearn.metrics import plot_roc_curve"
   ]
  },
  {
   "cell_type": "code",
   "execution_count": 59,
   "metadata": {},
   "outputs": [
    {
     "data": {
      "image/png": "[encoded data removed]",
      "text/plain": [
       "<Figure size 432x288 with 1 Axes>"
      ]
     },
     "metadata": {
      "needs_background": "light"
     },
     "output_type": "display_data"
    }
   ],
   "source": [
    "disp=plot_roc_curve(lr,X_test,y_test)\n",
    "plot_roc_curve(dt,X_test,y_test,ax=disp.ax_);\n",
    "plot_roc_curve(rf,X_test,y_test,ax=disp.ax_);\n",
    "plot_roc_curve(nb,X_test,y_test,ax=disp.ax_);\n",
    "plot_roc_curve(knn,X_test,y_test,ax=disp.ax_);\n",
    "#plt.figure(figsize=(25,8))\n",
    "plt.title('ROC Curve')\n",
    "plt.show()"
   ]
  },
  {
   "cell_type": "markdown",
   "metadata": {},
   "source": [
    "## Recursive feature elimination and cross-validation"
   ]
  },
  {
   "cell_type": "code",
   "execution_count": 60,
   "metadata": {},
   "outputs": [],
   "source": [
    "#https://scikit-learn.org/stable/modules/generated/sklearn.feature_selection.RFECV.html"
   ]
  },
  {
   "cell_type": "code",
   "execution_count": 161,
   "metadata": {},
   "outputs": [],
   "source": [
    "from sklearn.feature_selection import RFECV\n",
    "from sklearn.model_selection import StratifiedKFold"
   ]
  },
  {
   "cell_type": "code",
   "execution_count": 162,
   "metadata": {},
   "outputs": [],
   "source": [
    "x=df.drop('DEFAULT',axis=1)\n",
    "y=df['DEFAULT']"
   ]
  },
  {
   "cell_type": "code",
   "execution_count": 163,
   "metadata": {},
   "outputs": [],
   "source": [
    "X_train, X_test, y_train, y_test=train_test_split(x,y,test_size=0.2,random_state=1)"
   ]
  },
  {
   "cell_type": "markdown",
   "metadata": {},
   "source": [
    "#### Logistic Regression "
   ]
  },
  {
   "cell_type": "code",
   "execution_count": 164,
   "metadata": {},
   "outputs": [],
   "source": [
    "lr_rfecv=RFECV(estimator=lr,step=1,cv=StratifiedKFold(10,random_state=0),scoring='f1_weighted')"
   ]
  },
  {
   "cell_type": "code",
   "execution_count": 165,
   "metadata": {},
   "outputs": [
    {
     "data": {
      "text/plain": [
       "RFECV(cv=StratifiedKFold(n_splits=10, random_state=0, shuffle=False),\n",
       "      estimator=LogisticRegression(C=1.0, class_weight={0: 22, 1: 77},\n",
       "                                   dual=False, fit_intercept=True,\n",
       "                                   intercept_scaling=1, l1_ratio=None,\n",
       "                                   max_iter=100, multi_class='auto',\n",
       "                                   n_jobs=None, penalty='l2', random_state=None,\n",
       "                                   solver='lbfgs', tol=0.0001, verbose=0,\n",
       "                                   warm_start=False),\n",
       "      min_features_to_select=1, n_jobs=None, scoring='f1_weighted', step=1,\n",
       "      verbose=0)"
      ]
     },
     "execution_count": 165,
     "metadata": {},
     "output_type": "execute_result"
    }
   ],
   "source": [
    "lr_rfecv.fit(X_train,y_train)"
   ]
  },
  {
   "cell_type": "code",
   "execution_count": 166,
   "metadata": {},
   "outputs": [
    {
     "data": {
      "text/plain": [
       "3"
      ]
     },
     "execution_count": 166,
     "metadata": {},
     "output_type": "execute_result"
    }
   ],
   "source": [
    "lr_rfecv.n_features_"
   ]
  },
  {
   "cell_type": "code",
   "execution_count": 167,
   "metadata": {},
   "outputs": [
    {
     "data": {
      "text/plain": [
       "array([False, False,  True, False, False, False, False, False, False,\n",
       "       False, False, False, False, False, False, False, False, False,\n",
       "       False, False, False, False,  True, False, False,  True])"
      ]
     },
     "execution_count": 167,
     "metadata": {},
     "output_type": "execute_result"
    }
   ],
   "source": [
    "lr_rfecv.support_"
   ]
  },
  {
   "cell_type": "code",
   "execution_count": 169,
   "metadata": {},
   "outputs": [
    {
     "data": {
      "text/plain": [
       "Index(['LIMIT_BAL', 'AGE', 'PAY_2', 'PAY_3', 'PAY_4', 'PAY_5', 'PAY_6',\n",
       "       'BILL_AMT1', 'BILL_AMT2', 'BILL_AMT3', 'BILL_AMT4', 'BILL_AMT5',\n",
       "       'BILL_AMT6', 'PAY_AMT1', 'PAY_AMT2', 'PAY_AMT3', 'PAY_AMT4', 'PAY_AMT5',\n",
       "       'PAY_AMT6', 'SEX_Male', 'EDUCATION_HighSchool', 'EDUCATION_University',\n",
       "       'MARRIAGE_Others'],\n",
       "      dtype='object')"
      ]
     },
     "execution_count": 169,
     "metadata": {},
     "output_type": "execute_result"
    }
   ],
   "source": [
    "x.iloc[:,np.where(lr_rfecv.support_==False)[0]].columns"
   ]
  },
  {
   "cell_type": "code",
   "execution_count": 170,
   "metadata": {},
   "outputs": [],
   "source": [
    "lr_xtrain=X_train.drop(['LIMIT_BAL', 'AGE', 'PAY_2', 'PAY_3', 'PAY_4', 'PAY_5', 'PAY_6',\n",
    "       'BILL_AMT1', 'BILL_AMT2', 'BILL_AMT3', 'BILL_AMT4', 'BILL_AMT5',\n",
    "       'BILL_AMT6', 'PAY_AMT1', 'PAY_AMT2', 'PAY_AMT3', 'PAY_AMT4', 'PAY_AMT5',\n",
    "       'PAY_AMT6', 'SEX_Male', 'EDUCATION_HighSchool', 'EDUCATION_University',\n",
    "       'MARRIAGE_Others'],axis=1)\n",
    "lr_xtest=X_test.drop(['LIMIT_BAL', 'AGE', 'PAY_2', 'PAY_3', 'PAY_4', 'PAY_5', 'PAY_6',\n",
    "       'BILL_AMT1', 'BILL_AMT2', 'BILL_AMT3', 'BILL_AMT4', 'BILL_AMT5',\n",
    "       'BILL_AMT6', 'PAY_AMT1', 'PAY_AMT2', 'PAY_AMT3', 'PAY_AMT4', 'PAY_AMT5',\n",
    "       'PAY_AMT6', 'SEX_Male', 'EDUCATION_HighSchool', 'EDUCATION_University',\n",
    "       'MARRIAGE_Others'],axis=1)"
   ]
  },
  {
   "cell_type": "code",
   "execution_count": 171,
   "metadata": {},
   "outputs": [],
   "source": [
    "lr_model_rfecv=lr.fit(lr_xtrain,y_train)\n",
    "ypred_lr_rfecv=lr_model_rfecv.predict(lr_xtest)"
   ]
  },
  {
   "cell_type": "code",
   "execution_count": 172,
   "metadata": {},
   "outputs": [
    {
     "name": "stdout",
     "output_type": "stream",
     "text": [
      "Cohen kappa Score: 0.36179651695692017\n",
      "Matthews coeff: 0.36192089418008955\n",
      "Roc Auc Score: 0.6835778806544506\n",
      "Accuracy Score: 0.7765726681127982\n",
      "              precision    recall  f1-score   support\n",
      "\n",
      "           0       0.86      0.85      0.86      4665\n",
      "           1       0.50      0.52      0.51      1328\n",
      "\n",
      "    accuracy                           0.78      5993\n",
      "   macro avg       0.68      0.68      0.68      5993\n",
      "weighted avg       0.78      0.78      0.78      5993\n",
      "\n",
      "[[3968  697]\n",
      " [ 642  686]]\n"
     ]
    }
   ],
   "source": [
    "print('Cohen kappa Score:',cohen_kappa_score(y_test,ypred_lr_rfecv))\n",
    "print('Matthews coeff:',matthews_corrcoef(y_test,ypred_lr_rfecv))\n",
    "print('Roc Auc Score:',roc_auc_score(y_test,ypred_lr_rfecv))\n",
    "print('Accuracy Score:',accuracy_score(y_test,ypred_lr_rfecv))\n",
    "print(classification_report(y_test,ypred_lr_rfecv))\n",
    "print(confusion_matrix(y_test,ypred_lr_rfecv))"
   ]
  },
  {
   "cell_type": "markdown",
   "metadata": {},
   "source": [
    "#### Decision Tree"
   ]
  },
  {
   "cell_type": "code",
   "execution_count": 173,
   "metadata": {},
   "outputs": [],
   "source": [
    "dt_rfecv=RFECV(estimator=dt,step=1,cv=StratifiedKFold(10,random_state=0),scoring='f1_weighted')"
   ]
  },
  {
   "cell_type": "code",
   "execution_count": 74,
   "metadata": {},
   "outputs": [
    {
     "data": {
      "text/plain": [
       "RFECV(cv=StratifiedKFold(n_splits=10, random_state=0, shuffle=False),\n",
       "      estimator=DecisionTreeClassifier(ccp_alpha=0.0, class_weight=None,\n",
       "                                       criterion='gini', max_depth=None,\n",
       "                                       max_features=None, max_leaf_nodes=None,\n",
       "                                       min_impurity_decrease=0.0,\n",
       "                                       min_impurity_split=None,\n",
       "                                       min_samples_leaf=1, min_samples_split=2,\n",
       "                                       min_weight_fraction_leaf=0.0,\n",
       "                                       presort='deprecated', random_state=None,\n",
       "                                       splitter='best'),\n",
       "      min_features_to_select=1, n_jobs=None, scoring='f1_weighted', step=1,\n",
       "      verbose=0)"
      ]
     },
     "execution_count": 74,
     "metadata": {},
     "output_type": "execute_result"
    }
   ],
   "source": [
    "dt_rfecv.fit(X_train,y_train)"
   ]
  },
  {
   "cell_type": "code",
   "execution_count": 75,
   "metadata": {},
   "outputs": [
    {
     "data": {
      "text/plain": [
       "15"
      ]
     },
     "execution_count": 75,
     "metadata": {},
     "output_type": "execute_result"
    }
   ],
   "source": [
    "dt_rfecv.n_features_"
   ]
  },
  {
   "cell_type": "code",
   "execution_count": 76,
   "metadata": {},
   "outputs": [
    {
     "data": {
      "text/plain": [
       "array([ True,  True,  True, False, False, False, False, False,  True,\n",
       "        True,  True,  True,  True,  True,  True,  True,  True,  True,\n",
       "        True,  True, False, False, False, False, False, False])"
      ]
     },
     "execution_count": 76,
     "metadata": {},
     "output_type": "execute_result"
    }
   ],
   "source": [
    "dt_rfecv.support_"
   ]
  },
  {
   "cell_type": "code",
   "execution_count": 77,
   "metadata": {},
   "outputs": [
    {
     "data": {
      "text/plain": [
       "array(['PAY_2', 'PAY_3', 'PAY_4', 'PAY_5', 'PAY_6', 'SEX_Male',\n",
       "       'EDUCATION_HighSchool', 'EDUCATION_Others', 'EDUCATION_University',\n",
       "       'MARRIAGE_Others', 'MARRIAGE_Single'], dtype=object)"
      ]
     },
     "execution_count": 77,
     "metadata": {},
     "output_type": "execute_result"
    }
   ],
   "source": [
    "a=x.iloc[:,np.where(dt_rfecv.support_==False)[0]].columns\n",
    "a.values"
   ]
  },
  {
   "cell_type": "code",
   "execution_count": 78,
   "metadata": {},
   "outputs": [],
   "source": [
    "dt_xtrain=X_train.drop(['PAY_2', 'PAY_3', 'PAY_4', 'PAY_5', 'PAY_6','SEX_Male', 'EDUCATION_HighSchool',\n",
    "       'EDUCATION_Others', 'EDUCATION_University', 'MARRIAGE_Others',\n",
    "       'MARRIAGE_Single'],axis=1)\n",
    "dt_xtest=X_test.drop(['PAY_2', 'PAY_3', 'PAY_4', 'PAY_5', 'PAY_6','SEX_Male', 'EDUCATION_HighSchool',\n",
    "       'EDUCATION_Others', 'EDUCATION_University', 'MARRIAGE_Others',\n",
    "       'MARRIAGE_Single'],axis=1)"
   ]
  },
  {
   "cell_type": "code",
   "execution_count": 79,
   "metadata": {},
   "outputs": [],
   "source": [
    "dt_rfecv=dt.fit(dt_xtrain,y_train)\n",
    "ypred_dt_rfecv=dt_rfecv.predict(dt_xtest)"
   ]
  },
  {
   "cell_type": "code",
   "execution_count": 80,
   "metadata": {},
   "outputs": [
    {
     "name": "stdout",
     "output_type": "stream",
     "text": [
      "Cohen kappa Score: 0.20280754777038124\n",
      "Matthews coeff: 0.2029640928651514\n",
      "Roc Auc Score: 0.6036705503686772\n",
      "Accuracy Score: 0.7188386450859335\n",
      "              precision    recall  f1-score   support\n",
      "\n",
      "           0       0.83      0.81      0.82      4665\n",
      "           1       0.37      0.40      0.38      1328\n",
      "\n",
      "    accuracy                           0.72      5993\n",
      "   macro avg       0.60      0.60      0.60      5993\n",
      "weighted avg       0.73      0.72      0.72      5993\n",
      "\n",
      "[[3781  884]\n",
      " [ 801  527]]\n"
     ]
    }
   ],
   "source": [
    "print('Cohen kappa Score:',cohen_kappa_score(y_test,ypred_dt_rfecv))\n",
    "print('Matthews coeff:',matthews_corrcoef(y_test,ypred_dt_rfecv))\n",
    "print('Roc Auc Score:',roc_auc_score(y_test,ypred_dt_rfecv))\n",
    "print('Accuracy Score:',accuracy_score(y_test,ypred_dt_rfecv))\n",
    "print(classification_report(y_test,ypred_dt_rfecv))\n",
    "print(confusion_matrix(y_test,ypred_dt_rfecv))"
   ]
  },
  {
   "cell_type": "markdown",
   "metadata": {},
   "source": [
    "#### Random Forest"
   ]
  },
  {
   "cell_type": "code",
   "execution_count": 81,
   "metadata": {},
   "outputs": [],
   "source": [
    "rf_rfecv=RFECV(estimator=rf,step=1,cv=StratifiedKFold(10,random_state=0),scoring='f1_weighted')"
   ]
  },
  {
   "cell_type": "code",
   "execution_count": 82,
   "metadata": {},
   "outputs": [
    {
     "data": {
      "text/plain": [
       "RFECV(cv=StratifiedKFold(n_splits=10, random_state=0, shuffle=False),\n",
       "      estimator=RandomForestClassifier(bootstrap=True, ccp_alpha=0.0,\n",
       "                                       class_weight=None, criterion='gini',\n",
       "                                       max_depth=None, max_features='auto',\n",
       "                                       max_leaf_nodes=None, max_samples=None,\n",
       "                                       min_impurity_decrease=0.0,\n",
       "                                       min_impurity_split=None,\n",
       "                                       min_samples_leaf=1, min_samples_split=2,\n",
       "                                       min_weight_fraction_leaf=0.0,\n",
       "                                       n_estimators=100, n_jobs=None,\n",
       "                                       oob_score=False, random_state=None,\n",
       "                                       verbose=0, warm_start=False),\n",
       "      min_features_to_select=1, n_jobs=None, scoring='f1_weighted', step=1,\n",
       "      verbose=0)"
      ]
     },
     "execution_count": 82,
     "metadata": {},
     "output_type": "execute_result"
    }
   ],
   "source": [
    "rf_rfecv.fit(X_train,y_train)"
   ]
  },
  {
   "cell_type": "code",
   "execution_count": 315,
   "metadata": {},
   "outputs": [
    {
     "data": {
      "text/plain": [
       "23"
      ]
     },
     "execution_count": 315,
     "metadata": {},
     "output_type": "execute_result"
    }
   ],
   "source": [
    "rf_rfecv.n_features_"
   ]
  },
  {
   "cell_type": "code",
   "execution_count": 316,
   "metadata": {},
   "outputs": [
    {
     "data": {
      "text/plain": [
       "array([ True,  True,  True,  True,  True,  True,  True,  True,  True,\n",
       "        True,  True,  True,  True,  True,  True,  True,  True,  True,\n",
       "        True,  True,  True, False, False,  True, False,  True])"
      ]
     },
     "execution_count": 316,
     "metadata": {},
     "output_type": "execute_result"
    }
   ],
   "source": [
    "rf_rfecv.support_"
   ]
  },
  {
   "cell_type": "code",
   "execution_count": 317,
   "metadata": {},
   "outputs": [
    {
     "data": {
      "text/plain": [
       "Index(['EDUCATION_HighSchool', 'EDUCATION_Others', 'MARRIAGE_Others'], dtype='object')"
      ]
     },
     "execution_count": 317,
     "metadata": {},
     "output_type": "execute_result"
    }
   ],
   "source": [
    "x.iloc[:,np.where(rf_rfecv.support_==False)[0]].columns"
   ]
  },
  {
   "cell_type": "code",
   "execution_count": 318,
   "metadata": {},
   "outputs": [],
   "source": [
    "rf_xtrain=X_train.drop(['EDUCATION_HighSchool', 'EDUCATION_Others', 'MARRIAGE_Others'],axis=1)\n",
    "rf_xtest=X_test.drop(['EDUCATION_HighSchool', 'EDUCATION_Others', 'MARRIAGE_Others'],axis=1)"
   ]
  },
  {
   "cell_type": "code",
   "execution_count": 319,
   "metadata": {},
   "outputs": [],
   "source": [
    "rf_rfecv=dt.fit(rf_xtrain,y_train)\n",
    "ypred_rf_rfecv=rf_rfecv.predict(rf_xtest)"
   ]
  },
  {
   "cell_type": "code",
   "execution_count": 320,
   "metadata": {},
   "outputs": [
    {
     "name": "stdout",
     "output_type": "stream",
     "text": [
      "Cohen kappa Score: 0.21998289530624293\n",
      "Matthews coeff: 0.2201649219516125\n",
      "Roc Auc Score: 0.6125390630044292\n",
      "Accuracy Score: 0.7246787919239113\n",
      "              precision    recall  f1-score   support\n",
      "\n",
      "           0       0.83      0.81      0.82      4665\n",
      "           1       0.39      0.41      0.40      1328\n",
      "\n",
      "    accuracy                           0.72      5993\n",
      "   macro avg       0.61      0.61      0.61      5993\n",
      "weighted avg       0.73      0.72      0.73      5993\n",
      "\n",
      "[[3797  868]\n",
      " [ 782  546]]\n"
     ]
    }
   ],
   "source": [
    "print('Cohen kappa Score:',cohen_kappa_score(y_test,ypred_rf_rfecv))\n",
    "print('Matthews coeff:',matthews_corrcoef(y_test,ypred_rf_rfecv))\n",
    "print('Roc Auc Score:',roc_auc_score(y_test,ypred_rf_rfecv))\n",
    "print('Accuracy Score:',accuracy_score(y_test,ypred_rf_rfecv))\n",
    "print(classification_report(y_test,ypred_rf_rfecv))\n",
    "print(confusion_matrix(y_test,ypred_rf_rfecv))"
   ]
  },
  {
   "cell_type": "markdown",
   "metadata": {},
   "source": [
    "## SMOTE_TOMEK"
   ]
  },
  {
   "cell_type": "markdown",
   "metadata": {},
   "source": [
    "###### Combination of Over and Under Sampling"
   ]
  },
  {
   "cell_type": "code",
   "execution_count": 61,
   "metadata": {},
   "outputs": [],
   "source": [
    "from imblearn.combine import SMOTETomek\n",
    "from sklearn.model_selection import cross_val_score,KFold\n",
    "from sklearn import model_selection"
   ]
  },
  {
   "cell_type": "code",
   "execution_count": 62,
   "metadata": {},
   "outputs": [],
   "source": [
    "smt=SMOTETomek(random_state=42)"
   ]
  },
  {
   "cell_type": "code",
   "execution_count": 63,
   "metadata": {},
   "outputs": [],
   "source": [
    "x=df.drop('DEFAULT',axis=1)\n",
    "y=df['DEFAULT']"
   ]
  },
  {
   "cell_type": "code",
   "execution_count": 64,
   "metadata": {},
   "outputs": [],
   "source": [
    "x_smote,y_smote=smt.fit_sample(x,y)"
   ]
  },
  {
   "cell_type": "code",
   "execution_count": 65,
   "metadata": {},
   "outputs": [],
   "source": [
    "#https://imbalanced-learn.readthedocs.io/en/stable/combine.html#combine\n",
    "from collections import Counter"
   ]
  },
  {
   "cell_type": "code",
   "execution_count": 66,
   "metadata": {},
   "outputs": [
    {
     "name": "stdout",
     "output_type": "stream",
     "text": [
      "Orignal Data CountCounter({0: 23335, 1: 6630})\n",
      "Revised Data CountCounter({1: 22684, 0: 22684})\n"
     ]
    }
   ],
   "source": [
    "print(\"Orignal Data Count{}\".format(Counter(df[\"DEFAULT\"])))\n",
    "print(\"Revised Data Count{}\".format(Counter(y_smote)))"
   ]
  },
  {
   "cell_type": "code",
   "execution_count": 67,
   "metadata": {},
   "outputs": [],
   "source": [
    "X_train, X_test, y_train, y_test = train_test_split(x_smote,y_smote,test_size=0.2,random_state=42)"
   ]
  },
  {
   "cell_type": "markdown",
   "metadata": {},
   "source": [
    "#### Logistic Regression"
   ]
  },
  {
   "cell_type": "code",
   "execution_count": 68,
   "metadata": {},
   "outputs": [],
   "source": [
    "lr_model_smt=lr.fit(X_train,y_train)\n",
    "lr_model_smt_pred=lr_model_smt.predict(X_test)"
   ]
  },
  {
   "cell_type": "code",
   "execution_count": 69,
   "metadata": {},
   "outputs": [
    {
     "name": "stdout",
     "output_type": "stream",
     "text": [
      "Mean weighted F1-score in LR after SMOTE TOMEK 0.4095213975713533\n",
      "Bias Error in LR after SMOTE TOMEK 0.5904786024286467\n",
      "Variance Error in LR after SMOTE TOMEK 0.0001839239070164415\n",
      "Cohen kappa Score: 0.09015724467879493\n",
      "Matthews coeff: 0.16827775900263492\n",
      "Roc Auc Score: 0.5452216956016495\n",
      "Accuracy Score: 0.5436411725810006\n",
      "              precision    recall  f1-score   support\n",
      "\n",
      "           0       0.79      0.12      0.21      4554\n",
      "           1       0.52      0.97      0.68      4520\n",
      "\n",
      "    accuracy                           0.54      9074\n",
      "   macro avg       0.66      0.55      0.45      9074\n",
      "weighted avg       0.66      0.54      0.45      9074\n",
      "\n",
      "[[ 562 3992]\n",
      " [ 149 4371]]\n"
     ]
    }
   ],
   "source": [
    "kfolds=model_selection.KFold(n_splits=10,random_state=1)\n",
    "r_scores=cross_val_score(lr,X_train,y_train,cv=kfolds, scoring='f1_weighted')\n",
    "print('Mean weighted F1-score in LR after SMOTE TOMEK', r_scores.mean())\n",
    "print('Bias Error in LR after SMOTE TOMEK',1-r_scores.mean())\n",
    "print('Variance Error in LR after SMOTE TOMEK',r_scores.var())\n",
    "print('Cohen kappa Score:',cohen_kappa_score(y_test,lr_model_smt_pred))\n",
    "print('Matthews coeff:',matthews_corrcoef(y_test,lr_model_smt_pred))\n",
    "print('Roc Auc Score:',roc_auc_score(y_test,lr_model_smt_pred))\n",
    "print('Accuracy Score:',accuracy_score(y_test,lr_model_smt_pred))\n",
    "print(classification_report(y_test,lr_model_smt_pred))\n",
    "print(confusion_matrix(y_test,lr_model_smt_pred))"
   ]
  },
  {
   "cell_type": "markdown",
   "metadata": {},
   "source": [
    "#### Decision Tree"
   ]
  },
  {
   "cell_type": "code",
   "execution_count": 70,
   "metadata": {},
   "outputs": [],
   "source": [
    "dt_model_smt=dt.fit(X_train,y_train)\n",
    "dt_model_smt_pred=dt_model_smt.predict(X_test)"
   ]
  },
  {
   "cell_type": "code",
   "execution_count": 71,
   "metadata": {},
   "outputs": [
    {
     "name": "stdout",
     "output_type": "stream",
     "text": [
      "Mean weighted F1-score in DT after SMOTE TOMEK 0.8166991326082345\n",
      "Bias Error in DT after SMOTE TOMEK 0.18330086739176554\n",
      "Variance Error in DT after SMOTE TOMEK 4.0880342616996204e-05\n",
      "Cohen kappa Score: 0.6358914623765756\n",
      "Matthews coeff: 0.6359241470224214\n",
      "Roc Auc Score: 0.8179578101134469\n",
      "Accuracy Score: 0.8179413709499669\n",
      "              precision    recall  f1-score   support\n",
      "\n",
      "           0       0.82      0.81      0.82      4554\n",
      "           1       0.81      0.82      0.82      4520\n",
      "\n",
      "    accuracy                           0.82      9074\n",
      "   macro avg       0.82      0.82      0.82      9074\n",
      "weighted avg       0.82      0.82      0.82      9074\n",
      "\n",
      "[[3705  849]\n",
      " [ 803 3717]]\n"
     ]
    }
   ],
   "source": [
    "kfolds=model_selection.KFold(n_splits=10,random_state=1)\n",
    "r_scores=cross_val_score(dt,X_train,y_train,cv=kfolds, scoring='f1_weighted')\n",
    "print('Mean weighted F1-score in DT after SMOTE TOMEK', r_scores.mean())\n",
    "print('Bias Error in DT after SMOTE TOMEK',1-r_scores.mean())\n",
    "print('Variance Error in DT after SMOTE TOMEK',r_scores.var())\n",
    "print('Cohen kappa Score:',cohen_kappa_score(y_test,dt_model_smt_pred))\n",
    "print('Matthews coeff:',matthews_corrcoef(y_test,dt_model_smt_pred))\n",
    "print('Roc Auc Score:',roc_auc_score(y_test,dt_model_smt_pred))\n",
    "print('Accuracy Score:',accuracy_score(y_test,dt_model_smt_pred))\n",
    "print(classification_report(y_test,dt_model_smt_pred))\n",
    "print(confusion_matrix(y_test,dt_model_smt_pred))"
   ]
  },
  {
   "cell_type": "markdown",
   "metadata": {},
   "source": [
    "#### Random Forest"
   ]
  },
  {
   "cell_type": "code",
   "execution_count": 72,
   "metadata": {},
   "outputs": [],
   "source": [
    "rf_model_smt=rf.fit(X_train,y_train)\n",
    "rf_model_smt_pred=rf_model_smt.predict(X_test)"
   ]
  },
  {
   "cell_type": "code",
   "execution_count": 73,
   "metadata": {},
   "outputs": [
    {
     "name": "stdout",
     "output_type": "stream",
     "text": [
      "Mean weighted F1-score in RF after SMOTE TOMEK 0.8846219538733623\n",
      "Bias Error in Rf after SMOTE TOMEK 0.11537804612663771\n",
      "Variance Error in RF after SMOTE TOMEK 4.370015694084702e-05\n",
      "Cohen kappa Score: 0.7671565070637851\n",
      "Matthews coeff: 0.7710294866008781\n",
      "Roc Auc Score: 0.883434430880564\n",
      "Accuracy Score: 0.8836235397839982\n",
      "              precision    recall  f1-score   support\n",
      "\n",
      "           0       0.85      0.93      0.89      4554\n",
      "           1       0.93      0.83      0.88      4520\n",
      "\n",
      "    accuracy                           0.88      9074\n",
      "   macro avg       0.89      0.88      0.88      9074\n",
      "weighted avg       0.89      0.88      0.88      9074\n",
      "\n",
      "[[4253  301]\n",
      " [ 755 3765]]\n"
     ]
    }
   ],
   "source": [
    "kfolds=model_selection.KFold(n_splits=10,random_state=1)\n",
    "r_scores=cross_val_score(rf,X_train,y_train,cv=kfolds, scoring='f1_weighted')\n",
    "print('Mean weighted F1-score in RF after SMOTE TOMEK', r_scores.mean())\n",
    "print('Bias Error in Rf after SMOTE TOMEK',1-r_scores.mean())\n",
    "print('Variance Error in RF after SMOTE TOMEK',r_scores.var())\n",
    "print('Cohen kappa Score:',cohen_kappa_score(y_test,rf_model_smt_pred))\n",
    "print('Matthews coeff:',matthews_corrcoef(y_test,rf_model_smt_pred))\n",
    "print('Roc Auc Score:',roc_auc_score(y_test,rf_model_smt_pred))\n",
    "print('Accuracy Score:',accuracy_score(y_test,rf_model_smt_pred))\n",
    "print(classification_report(y_test,rf_model_smt_pred))\n",
    "print(confusion_matrix(y_test,rf_model_smt_pred))"
   ]
  },
  {
   "cell_type": "markdown",
   "metadata": {},
   "source": [
    "#### Naive Bayes"
   ]
  },
  {
   "cell_type": "code",
   "execution_count": 74,
   "metadata": {},
   "outputs": [],
   "source": [
    "nb_model_smt=nb.fit(X_train,y_train)\n",
    "nb_model_smt_pred=nb_model_smt.predict(X_test)"
   ]
  },
  {
   "cell_type": "code",
   "execution_count": 75,
   "metadata": {},
   "outputs": [
    {
     "name": "stdout",
     "output_type": "stream",
     "text": [
      "Mean weighted F1-score in NB after SMOTE TOMEK 0.47045778958284046\n",
      "Bias Error in NB after SMOTE TOMEK 0.5295422104171595\n",
      "Variance Error in NB after SMOTE TOMEK 8.002365024133676e-05\n",
      "Cohen kappa Score: 0.10177046857696692\n",
      "Matthews coeff: 0.15946757022437977\n",
      "Roc Auc Score: 0.551032448377581\n",
      "Accuracy Score: 0.549592241569319\n",
      "              precision    recall  f1-score   support\n",
      "\n",
      "           0       0.72      0.17      0.27      4554\n",
      "           1       0.53      0.94      0.67      4520\n",
      "\n",
      "    accuracy                           0.55      9074\n",
      "   macro avg       0.62      0.55      0.47      9074\n",
      "weighted avg       0.62      0.55      0.47      9074\n",
      "\n",
      "[[ 759 3795]\n",
      " [ 292 4228]]\n"
     ]
    }
   ],
   "source": [
    "kfolds=model_selection.KFold(n_splits=10,random_state=1)\n",
    "r_scores=cross_val_score(nb,X_train,y_train,cv=kfolds, scoring='f1_weighted')\n",
    "print('Mean weighted F1-score in NB after SMOTE TOMEK', r_scores.mean())\n",
    "print('Bias Error in NB after SMOTE TOMEK',1-r_scores.mean())\n",
    "print('Variance Error in NB after SMOTE TOMEK',r_scores.var())\n",
    "print('Cohen kappa Score:',cohen_kappa_score(y_test,nb_model_smt_pred))\n",
    "print('Matthews coeff:',matthews_corrcoef(y_test,nb_model_smt_pred))\n",
    "print('Roc Auc Score:',roc_auc_score(y_test,nb_model_smt_pred))\n",
    "print('Accuracy Score:',accuracy_score(y_test,nb_model_smt_pred))\n",
    "print(classification_report(y_test,nb_model_smt_pred))\n",
    "print(confusion_matrix(y_test,nb_model_smt_pred))"
   ]
  },
  {
   "cell_type": "markdown",
   "metadata": {},
   "source": [
    "## KNN"
   ]
  },
  {
   "cell_type": "code",
   "execution_count": 76,
   "metadata": {},
   "outputs": [],
   "source": [
    "sc=StandardScaler()"
   ]
  },
  {
   "cell_type": "code",
   "execution_count": 77,
   "metadata": {},
   "outputs": [],
   "source": [
    "xsmote_scaled=sc.fit_transform(x_smote)"
   ]
  },
  {
   "cell_type": "code",
   "execution_count": 78,
   "metadata": {},
   "outputs": [],
   "source": [
    "X_train_ssc, X_test, y_train_ssc, y_test = train_test_split(xsmote_scaled,y_smote,test_size=0.3,random_state=1)"
   ]
  },
  {
   "cell_type": "code",
   "execution_count": 79,
   "metadata": {},
   "outputs": [],
   "source": [
    "knn=KNeighborsClassifier()"
   ]
  },
  {
   "cell_type": "code",
   "execution_count": 80,
   "metadata": {},
   "outputs": [],
   "source": [
    "knn_model_smt=knn.fit(X_train_ssc,y_train_ssc)\n",
    "knn_model_smt_pred=nb_model_smt.predict(X_test)"
   ]
  },
  {
   "cell_type": "code",
   "execution_count": 81,
   "metadata": {},
   "outputs": [
    {
     "name": "stdout",
     "output_type": "stream",
     "text": [
      "Mean weighted F1-score in NB after SMOTE TOMEK 0.7917374696194577\n",
      "Bias Error in NB after SMOTE TOMEK 0.20826253038054232\n",
      "Variance Error in NB after SMOTE TOMEK 4.355979154133736e-05\n",
      "Cohen kappa Score: 0.0\n",
      "Roc Auc Score: 0.5\n",
      "Accuracy Score: 0.49606935566820953\n",
      "              precision    recall  f1-score   support\n",
      "\n",
      "           0       0.00      0.00      0.00      6859\n",
      "           1       0.50      1.00      0.66      6752\n",
      "\n",
      "    accuracy                           0.50     13611\n",
      "   macro avg       0.25      0.50      0.33     13611\n",
      "weighted avg       0.25      0.50      0.33     13611\n",
      "\n",
      "[[   0 6859]\n",
      " [   0 6752]]\n"
     ]
    }
   ],
   "source": [
    "kfolds=model_selection.KFold(n_splits=10,random_state=1)\n",
    "r_scores=cross_val_score(knn,X_train_ssc,y_train_ssc,cv=kfolds, scoring='f1_weighted')\n",
    "print('Mean weighted F1-score in NB after SMOTE TOMEK', r_scores.mean())\n",
    "print('Bias Error in NB after SMOTE TOMEK',1-r_scores.mean())\n",
    "print('Variance Error in NB after SMOTE TOMEK',r_scores.var())\n",
    "print('Cohen kappa Score:',cohen_kappa_score(y_test,knn_model_smt_pred))\n",
    "#print('Matthews coeff:',matthews_corrcoef(y_test,knn_model_smt_pred))\n",
    "print('Roc Auc Score:',roc_auc_score(y_test,knn_model_smt_pred))\n",
    "print('Accuracy Score:',accuracy_score(y_test,knn_model_smt_pred))\n",
    "print(classification_report(y_test,knn_model_smt_pred))\n",
    "print(confusion_matrix(y_test,knn_model_smt_pred))"
   ]
  },
  {
   "cell_type": "markdown",
   "metadata": {},
   "source": [
    "# Feature Engineering"
   ]
  },
  {
   "cell_type": "code",
   "execution_count": 82,
   "metadata": {},
   "outputs": [],
   "source": [
    "df2=pd.read_csv('credit_card.csv')\n",
    "df2=df2.drop('ID',axis=1)"
   ]
  },
  {
   "cell_type": "code",
   "execution_count": 83,
   "metadata": {},
   "outputs": [
    {
     "data": {
      "text/plain": [
       "(29965, 24)"
      ]
     },
     "execution_count": 83,
     "metadata": {},
     "output_type": "execute_result"
    }
   ],
   "source": [
    "df=df2.drop_duplicates(keep='first')\n",
    "df.shape"
   ]
  },
  {
   "cell_type": "code",
   "execution_count": 84,
   "metadata": {},
   "outputs": [
    {
     "data": {
      "text/html": [
       "<div>\n",
       "<style scoped>\n",
       "    .dataframe tbody tr th:only-of-type {\n",
       "        vertical-align: middle;\n",
       "    }\n",
       "\n",
       "    .dataframe tbody tr th {\n",
       "        vertical-align: top;\n",
       "    }\n",
       "\n",
       "    .dataframe thead th {\n",
       "        text-align: right;\n",
       "    }\n",
       "</style>\n",
       "<table border=\"1\" class=\"dataframe\">\n",
       "  <thead>\n",
       "    <tr style=\"text-align: right;\">\n",
       "      <th></th>\n",
       "      <th>LIMIT_BAL</th>\n",
       "      <th>SEX</th>\n",
       "      <th>EDUCATION</th>\n",
       "      <th>MARRIAGE</th>\n",
       "      <th>AGE</th>\n",
       "      <th>PAY_1</th>\n",
       "      <th>PAY_2</th>\n",
       "      <th>PAY_3</th>\n",
       "      <th>PAY_4</th>\n",
       "      <th>PAY_5</th>\n",
       "      <th>PAY_6</th>\n",
       "      <th>BILL_AMT1</th>\n",
       "      <th>BILL_AMT2</th>\n",
       "      <th>BILL_AMT3</th>\n",
       "      <th>BILL_AMT4</th>\n",
       "      <th>BILL_AMT5</th>\n",
       "      <th>BILL_AMT6</th>\n",
       "      <th>PAY_AMT1</th>\n",
       "      <th>PAY_AMT2</th>\n",
       "      <th>PAY_AMT3</th>\n",
       "      <th>PAY_AMT4</th>\n",
       "      <th>PAY_AMT5</th>\n",
       "      <th>PAY_AMT6</th>\n",
       "      <th>DEFAULT</th>\n",
       "    </tr>\n",
       "  </thead>\n",
       "  <tbody>\n",
       "    <tr>\n",
       "      <th>0</th>\n",
       "      <td>20000</td>\n",
       "      <td>2</td>\n",
       "      <td>2</td>\n",
       "      <td>1</td>\n",
       "      <td>24</td>\n",
       "      <td>2</td>\n",
       "      <td>2</td>\n",
       "      <td>-1</td>\n",
       "      <td>-1</td>\n",
       "      <td>-2</td>\n",
       "      <td>-2</td>\n",
       "      <td>3913.0</td>\n",
       "      <td>3102.0</td>\n",
       "      <td>689.0</td>\n",
       "      <td>0.0</td>\n",
       "      <td>0.0</td>\n",
       "      <td>0.0</td>\n",
       "      <td>0.0</td>\n",
       "      <td>689.0</td>\n",
       "      <td>0.0</td>\n",
       "      <td>0.0</td>\n",
       "      <td>0.0</td>\n",
       "      <td>0.0</td>\n",
       "      <td>1</td>\n",
       "    </tr>\n",
       "    <tr>\n",
       "      <th>1</th>\n",
       "      <td>120000</td>\n",
       "      <td>2</td>\n",
       "      <td>2</td>\n",
       "      <td>2</td>\n",
       "      <td>26</td>\n",
       "      <td>-1</td>\n",
       "      <td>2</td>\n",
       "      <td>0</td>\n",
       "      <td>0</td>\n",
       "      <td>0</td>\n",
       "      <td>2</td>\n",
       "      <td>2682.0</td>\n",
       "      <td>1725.0</td>\n",
       "      <td>2682.0</td>\n",
       "      <td>3272.0</td>\n",
       "      <td>3455.0</td>\n",
       "      <td>3261.0</td>\n",
       "      <td>0.0</td>\n",
       "      <td>1000.0</td>\n",
       "      <td>1000.0</td>\n",
       "      <td>1000.0</td>\n",
       "      <td>0.0</td>\n",
       "      <td>2000.0</td>\n",
       "      <td>1</td>\n",
       "    </tr>\n",
       "    <tr>\n",
       "      <th>2</th>\n",
       "      <td>90000</td>\n",
       "      <td>2</td>\n",
       "      <td>2</td>\n",
       "      <td>2</td>\n",
       "      <td>34</td>\n",
       "      <td>0</td>\n",
       "      <td>0</td>\n",
       "      <td>0</td>\n",
       "      <td>0</td>\n",
       "      <td>0</td>\n",
       "      <td>0</td>\n",
       "      <td>29239.0</td>\n",
       "      <td>14027.0</td>\n",
       "      <td>13559.0</td>\n",
       "      <td>14331.0</td>\n",
       "      <td>14948.0</td>\n",
       "      <td>15549.0</td>\n",
       "      <td>1518.0</td>\n",
       "      <td>1500.0</td>\n",
       "      <td>1000.0</td>\n",
       "      <td>1000.0</td>\n",
       "      <td>1000.0</td>\n",
       "      <td>5000.0</td>\n",
       "      <td>0</td>\n",
       "    </tr>\n",
       "    <tr>\n",
       "      <th>3</th>\n",
       "      <td>50000</td>\n",
       "      <td>2</td>\n",
       "      <td>2</td>\n",
       "      <td>1</td>\n",
       "      <td>37</td>\n",
       "      <td>0</td>\n",
       "      <td>0</td>\n",
       "      <td>0</td>\n",
       "      <td>0</td>\n",
       "      <td>0</td>\n",
       "      <td>0</td>\n",
       "      <td>46990.0</td>\n",
       "      <td>48233.0</td>\n",
       "      <td>49291.0</td>\n",
       "      <td>28314.0</td>\n",
       "      <td>28959.0</td>\n",
       "      <td>29547.0</td>\n",
       "      <td>2000.0</td>\n",
       "      <td>2019.0</td>\n",
       "      <td>1200.0</td>\n",
       "      <td>1100.0</td>\n",
       "      <td>1069.0</td>\n",
       "      <td>1000.0</td>\n",
       "      <td>0</td>\n",
       "    </tr>\n",
       "    <tr>\n",
       "      <th>4</th>\n",
       "      <td>50000</td>\n",
       "      <td>1</td>\n",
       "      <td>2</td>\n",
       "      <td>1</td>\n",
       "      <td>57</td>\n",
       "      <td>-1</td>\n",
       "      <td>0</td>\n",
       "      <td>-1</td>\n",
       "      <td>0</td>\n",
       "      <td>0</td>\n",
       "      <td>0</td>\n",
       "      <td>8617.0</td>\n",
       "      <td>5670.0</td>\n",
       "      <td>35835.0</td>\n",
       "      <td>20940.0</td>\n",
       "      <td>19146.0</td>\n",
       "      <td>19131.0</td>\n",
       "      <td>2000.0</td>\n",
       "      <td>36681.0</td>\n",
       "      <td>10000.0</td>\n",
       "      <td>9000.0</td>\n",
       "      <td>689.0</td>\n",
       "      <td>679.0</td>\n",
       "      <td>0</td>\n",
       "    </tr>\n",
       "  </tbody>\n",
       "</table>\n",
       "</div>"
      ],
      "text/plain": [
       "   LIMIT_BAL  SEX  EDUCATION  MARRIAGE  AGE  PAY_1  PAY_2  PAY_3  PAY_4  \\\n",
       "0      20000    2          2         1   24      2      2     -1     -1   \n",
       "1     120000    2          2         2   26     -1      2      0      0   \n",
       "2      90000    2          2         2   34      0      0      0      0   \n",
       "3      50000    2          2         1   37      0      0      0      0   \n",
       "4      50000    1          2         1   57     -1      0     -1      0   \n",
       "\n",
       "   PAY_5  PAY_6  BILL_AMT1  BILL_AMT2  BILL_AMT3  BILL_AMT4  BILL_AMT5  \\\n",
       "0     -2     -2     3913.0     3102.0      689.0        0.0        0.0   \n",
       "1      0      2     2682.0     1725.0     2682.0     3272.0     3455.0   \n",
       "2      0      0    29239.0    14027.0    13559.0    14331.0    14948.0   \n",
       "3      0      0    46990.0    48233.0    49291.0    28314.0    28959.0   \n",
       "4      0      0     8617.0     5670.0    35835.0    20940.0    19146.0   \n",
       "\n",
       "   BILL_AMT6  PAY_AMT1  PAY_AMT2  PAY_AMT3  PAY_AMT4  PAY_AMT5  PAY_AMT6  \\\n",
       "0        0.0       0.0     689.0       0.0       0.0       0.0       0.0   \n",
       "1     3261.0       0.0    1000.0    1000.0    1000.0       0.0    2000.0   \n",
       "2    15549.0    1518.0    1500.0    1000.0    1000.0    1000.0    5000.0   \n",
       "3    29547.0    2000.0    2019.0    1200.0    1100.0    1069.0    1000.0   \n",
       "4    19131.0    2000.0   36681.0   10000.0    9000.0     689.0     679.0   \n",
       "\n",
       "   DEFAULT  \n",
       "0        1  \n",
       "1        1  \n",
       "2        0  \n",
       "3        0  \n",
       "4        0  "
      ]
     },
     "execution_count": 84,
     "metadata": {},
     "output_type": "execute_result"
    }
   ],
   "source": [
    "df.head()"
   ]
  },
  {
   "cell_type": "code",
   "execution_count": 85,
   "metadata": {},
   "outputs": [],
   "source": [
    "df['SEX']=df['SEX'].map({1:'Male',2:'Female'})"
   ]
  },
  {
   "cell_type": "code",
   "execution_count": 86,
   "metadata": {},
   "outputs": [],
   "source": [
    "df['EDUCATION']=df['EDUCATION'].map({1:'GraduateSchool',2:'University',3:'HighSchool',4:'Others',0:'Others',5:'Others',6:'Others'})"
   ]
  },
  {
   "cell_type": "code",
   "execution_count": 87,
   "metadata": {},
   "outputs": [],
   "source": [
    "df['MARRIAGE']=df['MARRIAGE'].map({1:'Married',2:'Single',3:'Others',0:'Others'})"
   ]
  },
  {
   "cell_type": "markdown",
   "metadata": {},
   "source": [
    "### New Feature Creation"
   ]
  },
  {
   "cell_type": "code",
   "execution_count": 88,
   "metadata": {},
   "outputs": [],
   "source": [
    "df['DEMOGRAPHICS']=df['SEX'].astype('str')+'_'+df['EDUCATION']+'_'+df['MARRIAGE']"
   ]
  },
  {
   "cell_type": "code",
   "execution_count": 89,
   "metadata": {},
   "outputs": [],
   "source": [
    "def age_cat(y):\n",
    "    if y>=20 and y<40:\n",
    "        return \"Young\"\n",
    "    elif y>=40 and y<60:\n",
    "        return \"Middle Aged\"\n",
    "    elif y>=60 and y<80:\n",
    "        return \"Senior Citizens\""
   ]
  },
  {
   "cell_type": "code",
   "execution_count": 90,
   "metadata": {},
   "outputs": [],
   "source": [
    "df['Age_Category']=df['AGE'].apply(age_cat)"
   ]
  },
  {
   "cell_type": "code",
   "execution_count": 91,
   "metadata": {},
   "outputs": [],
   "source": [
    "def limit_cat(x):\n",
    "    if x>=10000 and x<208000:\n",
    "        return \"Low Limit Holder\"\n",
    "    elif x>=208000 and x<406000:\n",
    "        return \"Medium Limit Holder\"\n",
    "    elif x>=406000 and x<604000:\n",
    "        return \"High Limit Holder\"\n",
    "    elif x>=604000 and x<802000:\n",
    "        return \"Very High Limit Holder\"\n",
    "    elif x>=802000 and x<1000000:\n",
    "        return \"Ultra High Limit Holder\""
   ]
  },
  {
   "cell_type": "code",
   "execution_count": 92,
   "metadata": {},
   "outputs": [],
   "source": [
    "df['Credit_Limit_Category']=df['LIMIT_BAL'].apply(limit_cat)"
   ]
  },
  {
   "cell_type": "code",
   "execution_count": 93,
   "metadata": {},
   "outputs": [],
   "source": [
    "df['TOTAL_RISK_VALUE']=df['PAY_1']+df['PAY_2']+df['PAY_3']+df['PAY_4']+df['PAY_5']+df['PAY_6']"
   ]
  },
  {
   "cell_type": "code",
   "execution_count": 94,
   "metadata": {},
   "outputs": [],
   "source": [
    "df[\"Avg.Bill\"]=(df[\"BILL_AMT1\"]+df[\"BILL_AMT2\"]+df[\"BILL_AMT3\"]+df[\"BILL_AMT4\"]+df[\"BILL_AMT5\"]+df[\"BILL_AMT6\"])/6"
   ]
  },
  {
   "cell_type": "code",
   "execution_count": 95,
   "metadata": {},
   "outputs": [],
   "source": [
    "df[\"Avg.Outstanding\"]=((df[\"BILL_AMT6\"]-df[\"PAY_AMT5\"])+(df[\"BILL_AMT5\"]-df[\"PAY_AMT4\"])+(df[\"BILL_AMT4\"]-df[\"PAY_AMT3\"])+(df[\"BILL_AMT3\"]-df[\"PAY_AMT2\"])+(df[\"BILL_AMT2\"]-df[\"PAY_AMT1\"]))/5"
   ]
  },
  {
   "cell_type": "code",
   "execution_count": 96,
   "metadata": {},
   "outputs": [],
   "source": [
    "df[\"Avg.Pay\"]=(df[\"PAY_AMT1\"]+df[\"PAY_AMT2\"]+df[\"PAY_AMT3\"]+df[\"PAY_AMT4\"]+df[\"PAY_AMT5\"]+df[\"PAY_AMT6\"])/6"
   ]
  },
  {
   "cell_type": "code",
   "execution_count": 97,
   "metadata": {},
   "outputs": [
    {
     "data": {
      "text/plain": [
       "(29965, 31)"
      ]
     },
     "execution_count": 97,
     "metadata": {},
     "output_type": "execute_result"
    }
   ],
   "source": [
    "df.shape"
   ]
  },
  {
   "cell_type": "code",
   "execution_count": 98,
   "metadata": {},
   "outputs": [
    {
     "data": {
      "text/html": [
       "<div>\n",
       "<style scoped>\n",
       "    .dataframe tbody tr th:only-of-type {\n",
       "        vertical-align: middle;\n",
       "    }\n",
       "\n",
       "    .dataframe tbody tr th {\n",
       "        vertical-align: top;\n",
       "    }\n",
       "\n",
       "    .dataframe thead th {\n",
       "        text-align: right;\n",
       "    }\n",
       "</style>\n",
       "<table border=\"1\" class=\"dataframe\">\n",
       "  <thead>\n",
       "    <tr style=\"text-align: right;\">\n",
       "      <th></th>\n",
       "      <th>LIMIT_BAL</th>\n",
       "      <th>SEX</th>\n",
       "      <th>EDUCATION</th>\n",
       "      <th>MARRIAGE</th>\n",
       "      <th>AGE</th>\n",
       "      <th>PAY_1</th>\n",
       "      <th>PAY_2</th>\n",
       "      <th>PAY_3</th>\n",
       "      <th>PAY_4</th>\n",
       "      <th>PAY_5</th>\n",
       "      <th>PAY_6</th>\n",
       "      <th>BILL_AMT1</th>\n",
       "      <th>BILL_AMT2</th>\n",
       "      <th>BILL_AMT3</th>\n",
       "      <th>BILL_AMT4</th>\n",
       "      <th>BILL_AMT5</th>\n",
       "      <th>BILL_AMT6</th>\n",
       "      <th>PAY_AMT1</th>\n",
       "      <th>PAY_AMT2</th>\n",
       "      <th>PAY_AMT3</th>\n",
       "      <th>PAY_AMT4</th>\n",
       "      <th>PAY_AMT5</th>\n",
       "      <th>PAY_AMT6</th>\n",
       "      <th>DEFAULT</th>\n",
       "      <th>DEMOGRAPHICS</th>\n",
       "      <th>Age_Category</th>\n",
       "      <th>Credit_Limit_Category</th>\n",
       "      <th>TOTAL_RISK_VALUE</th>\n",
       "      <th>Avg.Bill</th>\n",
       "      <th>Avg.Outstanding</th>\n",
       "      <th>Avg.Pay</th>\n",
       "    </tr>\n",
       "  </thead>\n",
       "  <tbody>\n",
       "    <tr>\n",
       "      <th>0</th>\n",
       "      <td>20000</td>\n",
       "      <td>Female</td>\n",
       "      <td>University</td>\n",
       "      <td>Married</td>\n",
       "      <td>24</td>\n",
       "      <td>2</td>\n",
       "      <td>2</td>\n",
       "      <td>-1</td>\n",
       "      <td>-1</td>\n",
       "      <td>-2</td>\n",
       "      <td>-2</td>\n",
       "      <td>3913.0</td>\n",
       "      <td>3102.0</td>\n",
       "      <td>689.0</td>\n",
       "      <td>0.0</td>\n",
       "      <td>0.0</td>\n",
       "      <td>0.0</td>\n",
       "      <td>0.0</td>\n",
       "      <td>689.0</td>\n",
       "      <td>0.0</td>\n",
       "      <td>0.0</td>\n",
       "      <td>0.0</td>\n",
       "      <td>0.0</td>\n",
       "      <td>1</td>\n",
       "      <td>Female_University_Married</td>\n",
       "      <td>Young</td>\n",
       "      <td>Low Limit Holder</td>\n",
       "      <td>-2</td>\n",
       "      <td>1284.000000</td>\n",
       "      <td>620.4</td>\n",
       "      <td>114.833333</td>\n",
       "    </tr>\n",
       "    <tr>\n",
       "      <th>1</th>\n",
       "      <td>120000</td>\n",
       "      <td>Female</td>\n",
       "      <td>University</td>\n",
       "      <td>Single</td>\n",
       "      <td>26</td>\n",
       "      <td>-1</td>\n",
       "      <td>2</td>\n",
       "      <td>0</td>\n",
       "      <td>0</td>\n",
       "      <td>0</td>\n",
       "      <td>2</td>\n",
       "      <td>2682.0</td>\n",
       "      <td>1725.0</td>\n",
       "      <td>2682.0</td>\n",
       "      <td>3272.0</td>\n",
       "      <td>3455.0</td>\n",
       "      <td>3261.0</td>\n",
       "      <td>0.0</td>\n",
       "      <td>1000.0</td>\n",
       "      <td>1000.0</td>\n",
       "      <td>1000.0</td>\n",
       "      <td>0.0</td>\n",
       "      <td>2000.0</td>\n",
       "      <td>1</td>\n",
       "      <td>Female_University_Single</td>\n",
       "      <td>Young</td>\n",
       "      <td>Low Limit Holder</td>\n",
       "      <td>3</td>\n",
       "      <td>2846.166667</td>\n",
       "      <td>2279.0</td>\n",
       "      <td>833.333333</td>\n",
       "    </tr>\n",
       "    <tr>\n",
       "      <th>2</th>\n",
       "      <td>90000</td>\n",
       "      <td>Female</td>\n",
       "      <td>University</td>\n",
       "      <td>Single</td>\n",
       "      <td>34</td>\n",
       "      <td>0</td>\n",
       "      <td>0</td>\n",
       "      <td>0</td>\n",
       "      <td>0</td>\n",
       "      <td>0</td>\n",
       "      <td>0</td>\n",
       "      <td>29239.0</td>\n",
       "      <td>14027.0</td>\n",
       "      <td>13559.0</td>\n",
       "      <td>14331.0</td>\n",
       "      <td>14948.0</td>\n",
       "      <td>15549.0</td>\n",
       "      <td>1518.0</td>\n",
       "      <td>1500.0</td>\n",
       "      <td>1000.0</td>\n",
       "      <td>1000.0</td>\n",
       "      <td>1000.0</td>\n",
       "      <td>5000.0</td>\n",
       "      <td>0</td>\n",
       "      <td>Female_University_Single</td>\n",
       "      <td>Young</td>\n",
       "      <td>Low Limit Holder</td>\n",
       "      <td>0</td>\n",
       "      <td>16942.166667</td>\n",
       "      <td>13279.2</td>\n",
       "      <td>1836.333333</td>\n",
       "    </tr>\n",
       "    <tr>\n",
       "      <th>3</th>\n",
       "      <td>50000</td>\n",
       "      <td>Female</td>\n",
       "      <td>University</td>\n",
       "      <td>Married</td>\n",
       "      <td>37</td>\n",
       "      <td>0</td>\n",
       "      <td>0</td>\n",
       "      <td>0</td>\n",
       "      <td>0</td>\n",
       "      <td>0</td>\n",
       "      <td>0</td>\n",
       "      <td>46990.0</td>\n",
       "      <td>48233.0</td>\n",
       "      <td>49291.0</td>\n",
       "      <td>28314.0</td>\n",
       "      <td>28959.0</td>\n",
       "      <td>29547.0</td>\n",
       "      <td>2000.0</td>\n",
       "      <td>2019.0</td>\n",
       "      <td>1200.0</td>\n",
       "      <td>1100.0</td>\n",
       "      <td>1069.0</td>\n",
       "      <td>1000.0</td>\n",
       "      <td>0</td>\n",
       "      <td>Female_University_Married</td>\n",
       "      <td>Young</td>\n",
       "      <td>Low Limit Holder</td>\n",
       "      <td>0</td>\n",
       "      <td>38555.666667</td>\n",
       "      <td>35391.2</td>\n",
       "      <td>1398.000000</td>\n",
       "    </tr>\n",
       "    <tr>\n",
       "      <th>4</th>\n",
       "      <td>50000</td>\n",
       "      <td>Male</td>\n",
       "      <td>University</td>\n",
       "      <td>Married</td>\n",
       "      <td>57</td>\n",
       "      <td>-1</td>\n",
       "      <td>0</td>\n",
       "      <td>-1</td>\n",
       "      <td>0</td>\n",
       "      <td>0</td>\n",
       "      <td>0</td>\n",
       "      <td>8617.0</td>\n",
       "      <td>5670.0</td>\n",
       "      <td>35835.0</td>\n",
       "      <td>20940.0</td>\n",
       "      <td>19146.0</td>\n",
       "      <td>19131.0</td>\n",
       "      <td>2000.0</td>\n",
       "      <td>36681.0</td>\n",
       "      <td>10000.0</td>\n",
       "      <td>9000.0</td>\n",
       "      <td>689.0</td>\n",
       "      <td>679.0</td>\n",
       "      <td>0</td>\n",
       "      <td>Male_University_Married</td>\n",
       "      <td>Middle Aged</td>\n",
       "      <td>Low Limit Holder</td>\n",
       "      <td>-2</td>\n",
       "      <td>18223.166667</td>\n",
       "      <td>8470.4</td>\n",
       "      <td>9841.500000</td>\n",
       "    </tr>\n",
       "  </tbody>\n",
       "</table>\n",
       "</div>"
      ],
      "text/plain": [
       "   LIMIT_BAL     SEX   EDUCATION MARRIAGE  AGE  PAY_1  PAY_2  PAY_3  PAY_4  \\\n",
       "0      20000  Female  University  Married   24      2      2     -1     -1   \n",
       "1     120000  Female  University   Single   26     -1      2      0      0   \n",
       "2      90000  Female  University   Single   34      0      0      0      0   \n",
       "3      50000  Female  University  Married   37      0      0      0      0   \n",
       "4      50000    Male  University  Married   57     -1      0     -1      0   \n",
       "\n",
       "   PAY_5  PAY_6  BILL_AMT1  BILL_AMT2  BILL_AMT3  BILL_AMT4  BILL_AMT5  \\\n",
       "0     -2     -2     3913.0     3102.0      689.0        0.0        0.0   \n",
       "1      0      2     2682.0     1725.0     2682.0     3272.0     3455.0   \n",
       "2      0      0    29239.0    14027.0    13559.0    14331.0    14948.0   \n",
       "3      0      0    46990.0    48233.0    49291.0    28314.0    28959.0   \n",
       "4      0      0     8617.0     5670.0    35835.0    20940.0    19146.0   \n",
       "\n",
       "   BILL_AMT6  PAY_AMT1  PAY_AMT2  PAY_AMT3  PAY_AMT4  PAY_AMT5  PAY_AMT6  \\\n",
       "0        0.0       0.0     689.0       0.0       0.0       0.0       0.0   \n",
       "1     3261.0       0.0    1000.0    1000.0    1000.0       0.0    2000.0   \n",
       "2    15549.0    1518.0    1500.0    1000.0    1000.0    1000.0    5000.0   \n",
       "3    29547.0    2000.0    2019.0    1200.0    1100.0    1069.0    1000.0   \n",
       "4    19131.0    2000.0   36681.0   10000.0    9000.0     689.0     679.0   \n",
       "\n",
       "   DEFAULT               DEMOGRAPHICS Age_Category Credit_Limit_Category  \\\n",
       "0        1  Female_University_Married        Young      Low Limit Holder   \n",
       "1        1   Female_University_Single        Young      Low Limit Holder   \n",
       "2        0   Female_University_Single        Young      Low Limit Holder   \n",
       "3        0  Female_University_Married        Young      Low Limit Holder   \n",
       "4        0    Male_University_Married  Middle Aged      Low Limit Holder   \n",
       "\n",
       "   TOTAL_RISK_VALUE      Avg.Bill  Avg.Outstanding      Avg.Pay  \n",
       "0                -2   1284.000000            620.4   114.833333  \n",
       "1                 3   2846.166667           2279.0   833.333333  \n",
       "2                 0  16942.166667          13279.2  1836.333333  \n",
       "3                 0  38555.666667          35391.2  1398.000000  \n",
       "4                -2  18223.166667           8470.4  9841.500000  "
      ]
     },
     "execution_count": 98,
     "metadata": {},
     "output_type": "execute_result"
    }
   ],
   "source": [
    "df.head()"
   ]
  },
  {
   "cell_type": "code",
   "execution_count": 99,
   "metadata": {},
   "outputs": [],
   "source": [
    "df.drop(['LIMIT_BAL','SEX','EDUCATION','MARRIAGE','AGE','PAY_1','PAY_2',\n",
    "       'PAY_3', 'PAY_4', 'PAY_5', 'PAY_6', 'BILL_AMT1', 'BILL_AMT2',\n",
    "       'BILL_AMT3', 'BILL_AMT4', 'BILL_AMT5', 'BILL_AMT6', 'PAY_AMT1',\n",
    "       'PAY_AMT2', 'PAY_AMT3', 'PAY_AMT4', 'PAY_AMT5', 'PAY_AMT6'],axis=1,inplace=True)"
   ]
  },
  {
   "cell_type": "code",
   "execution_count": 100,
   "metadata": {},
   "outputs": [
    {
     "data": {
      "text/html": [
       "<div>\n",
       "<style scoped>\n",
       "    .dataframe tbody tr th:only-of-type {\n",
       "        vertical-align: middle;\n",
       "    }\n",
       "\n",
       "    .dataframe tbody tr th {\n",
       "        vertical-align: top;\n",
       "    }\n",
       "\n",
       "    .dataframe thead th {\n",
       "        text-align: right;\n",
       "    }\n",
       "</style>\n",
       "<table border=\"1\" class=\"dataframe\">\n",
       "  <thead>\n",
       "    <tr style=\"text-align: right;\">\n",
       "      <th></th>\n",
       "      <th>DEFAULT</th>\n",
       "      <th>DEMOGRAPHICS</th>\n",
       "      <th>Age_Category</th>\n",
       "      <th>Credit_Limit_Category</th>\n",
       "      <th>TOTAL_RISK_VALUE</th>\n",
       "      <th>Avg.Bill</th>\n",
       "      <th>Avg.Outstanding</th>\n",
       "      <th>Avg.Pay</th>\n",
       "    </tr>\n",
       "  </thead>\n",
       "  <tbody>\n",
       "    <tr>\n",
       "      <th>0</th>\n",
       "      <td>1</td>\n",
       "      <td>Female_University_Married</td>\n",
       "      <td>Young</td>\n",
       "      <td>Low Limit Holder</td>\n",
       "      <td>-2</td>\n",
       "      <td>1284.000000</td>\n",
       "      <td>620.4</td>\n",
       "      <td>114.833333</td>\n",
       "    </tr>\n",
       "    <tr>\n",
       "      <th>1</th>\n",
       "      <td>1</td>\n",
       "      <td>Female_University_Single</td>\n",
       "      <td>Young</td>\n",
       "      <td>Low Limit Holder</td>\n",
       "      <td>3</td>\n",
       "      <td>2846.166667</td>\n",
       "      <td>2279.0</td>\n",
       "      <td>833.333333</td>\n",
       "    </tr>\n",
       "    <tr>\n",
       "      <th>2</th>\n",
       "      <td>0</td>\n",
       "      <td>Female_University_Single</td>\n",
       "      <td>Young</td>\n",
       "      <td>Low Limit Holder</td>\n",
       "      <td>0</td>\n",
       "      <td>16942.166667</td>\n",
       "      <td>13279.2</td>\n",
       "      <td>1836.333333</td>\n",
       "    </tr>\n",
       "    <tr>\n",
       "      <th>3</th>\n",
       "      <td>0</td>\n",
       "      <td>Female_University_Married</td>\n",
       "      <td>Young</td>\n",
       "      <td>Low Limit Holder</td>\n",
       "      <td>0</td>\n",
       "      <td>38555.666667</td>\n",
       "      <td>35391.2</td>\n",
       "      <td>1398.000000</td>\n",
       "    </tr>\n",
       "    <tr>\n",
       "      <th>4</th>\n",
       "      <td>0</td>\n",
       "      <td>Male_University_Married</td>\n",
       "      <td>Middle Aged</td>\n",
       "      <td>Low Limit Holder</td>\n",
       "      <td>-2</td>\n",
       "      <td>18223.166667</td>\n",
       "      <td>8470.4</td>\n",
       "      <td>9841.500000</td>\n",
       "    </tr>\n",
       "  </tbody>\n",
       "</table>\n",
       "</div>"
      ],
      "text/plain": [
       "   DEFAULT               DEMOGRAPHICS Age_Category Credit_Limit_Category  \\\n",
       "0        1  Female_University_Married        Young      Low Limit Holder   \n",
       "1        1   Female_University_Single        Young      Low Limit Holder   \n",
       "2        0   Female_University_Single        Young      Low Limit Holder   \n",
       "3        0  Female_University_Married        Young      Low Limit Holder   \n",
       "4        0    Male_University_Married  Middle Aged      Low Limit Holder   \n",
       "\n",
       "   TOTAL_RISK_VALUE      Avg.Bill  Avg.Outstanding      Avg.Pay  \n",
       "0                -2   1284.000000            620.4   114.833333  \n",
       "1                 3   2846.166667           2279.0   833.333333  \n",
       "2                 0  16942.166667          13279.2  1836.333333  \n",
       "3                 0  38555.666667          35391.2  1398.000000  \n",
       "4                -2  18223.166667           8470.4  9841.500000  "
      ]
     },
     "execution_count": 100,
     "metadata": {},
     "output_type": "execute_result"
    }
   ],
   "source": [
    "df.head()"
   ]
  },
  {
   "cell_type": "code",
   "execution_count": 101,
   "metadata": {},
   "outputs": [],
   "source": [
    "df=pd.get_dummies(df,drop_first=True)"
   ]
  },
  {
   "cell_type": "code",
   "execution_count": 102,
   "metadata": {},
   "outputs": [
    {
     "data": {
      "text/html": [
       "<div>\n",
       "<style scoped>\n",
       "    .dataframe tbody tr th:only-of-type {\n",
       "        vertical-align: middle;\n",
       "    }\n",
       "\n",
       "    .dataframe tbody tr th {\n",
       "        vertical-align: top;\n",
       "    }\n",
       "\n",
       "    .dataframe thead th {\n",
       "        text-align: right;\n",
       "    }\n",
       "</style>\n",
       "<table border=\"1\" class=\"dataframe\">\n",
       "  <thead>\n",
       "    <tr style=\"text-align: right;\">\n",
       "      <th></th>\n",
       "      <th>DEFAULT</th>\n",
       "      <th>TOTAL_RISK_VALUE</th>\n",
       "      <th>Avg.Bill</th>\n",
       "      <th>Avg.Outstanding</th>\n",
       "      <th>Avg.Pay</th>\n",
       "      <th>DEMOGRAPHICS_Female_GraduateSchool_Others</th>\n",
       "      <th>DEMOGRAPHICS_Female_GraduateSchool_Single</th>\n",
       "      <th>DEMOGRAPHICS_Female_HighSchool_Married</th>\n",
       "      <th>DEMOGRAPHICS_Female_HighSchool_Others</th>\n",
       "      <th>DEMOGRAPHICS_Female_HighSchool_Single</th>\n",
       "      <th>DEMOGRAPHICS_Female_Others_Married</th>\n",
       "      <th>DEMOGRAPHICS_Female_Others_Others</th>\n",
       "      <th>DEMOGRAPHICS_Female_Others_Single</th>\n",
       "      <th>DEMOGRAPHICS_Female_University_Married</th>\n",
       "      <th>DEMOGRAPHICS_Female_University_Others</th>\n",
       "      <th>DEMOGRAPHICS_Female_University_Single</th>\n",
       "      <th>DEMOGRAPHICS_Male_GraduateSchool_Married</th>\n",
       "      <th>DEMOGRAPHICS_Male_GraduateSchool_Others</th>\n",
       "      <th>DEMOGRAPHICS_Male_GraduateSchool_Single</th>\n",
       "      <th>DEMOGRAPHICS_Male_HighSchool_Married</th>\n",
       "      <th>DEMOGRAPHICS_Male_HighSchool_Others</th>\n",
       "      <th>DEMOGRAPHICS_Male_HighSchool_Single</th>\n",
       "      <th>DEMOGRAPHICS_Male_Others_Married</th>\n",
       "      <th>DEMOGRAPHICS_Male_Others_Others</th>\n",
       "      <th>DEMOGRAPHICS_Male_Others_Single</th>\n",
       "      <th>DEMOGRAPHICS_Male_University_Married</th>\n",
       "      <th>DEMOGRAPHICS_Male_University_Others</th>\n",
       "      <th>DEMOGRAPHICS_Male_University_Single</th>\n",
       "      <th>Age_Category_Senior Citizens</th>\n",
       "      <th>Age_Category_Young</th>\n",
       "      <th>Credit_Limit_Category_Low Limit Holder</th>\n",
       "      <th>Credit_Limit_Category_Medium Limit Holder</th>\n",
       "      <th>Credit_Limit_Category_Very High Limit Holder</th>\n",
       "    </tr>\n",
       "  </thead>\n",
       "  <tbody>\n",
       "    <tr>\n",
       "      <th>0</th>\n",
       "      <td>1</td>\n",
       "      <td>-2</td>\n",
       "      <td>1284.000000</td>\n",
       "      <td>620.4</td>\n",
       "      <td>114.833333</td>\n",
       "      <td>0</td>\n",
       "      <td>0</td>\n",
       "      <td>0</td>\n",
       "      <td>0</td>\n",
       "      <td>0</td>\n",
       "      <td>0</td>\n",
       "      <td>0</td>\n",
       "      <td>0</td>\n",
       "      <td>1</td>\n",
       "      <td>0</td>\n",
       "      <td>0</td>\n",
       "      <td>0</td>\n",
       "      <td>0</td>\n",
       "      <td>0</td>\n",
       "      <td>0</td>\n",
       "      <td>0</td>\n",
       "      <td>0</td>\n",
       "      <td>0</td>\n",
       "      <td>0</td>\n",
       "      <td>0</td>\n",
       "      <td>0</td>\n",
       "      <td>0</td>\n",
       "      <td>0</td>\n",
       "      <td>0</td>\n",
       "      <td>1</td>\n",
       "      <td>1</td>\n",
       "      <td>0</td>\n",
       "      <td>0</td>\n",
       "    </tr>\n",
       "    <tr>\n",
       "      <th>1</th>\n",
       "      <td>1</td>\n",
       "      <td>3</td>\n",
       "      <td>2846.166667</td>\n",
       "      <td>2279.0</td>\n",
       "      <td>833.333333</td>\n",
       "      <td>0</td>\n",
       "      <td>0</td>\n",
       "      <td>0</td>\n",
       "      <td>0</td>\n",
       "      <td>0</td>\n",
       "      <td>0</td>\n",
       "      <td>0</td>\n",
       "      <td>0</td>\n",
       "      <td>0</td>\n",
       "      <td>0</td>\n",
       "      <td>1</td>\n",
       "      <td>0</td>\n",
       "      <td>0</td>\n",
       "      <td>0</td>\n",
       "      <td>0</td>\n",
       "      <td>0</td>\n",
       "      <td>0</td>\n",
       "      <td>0</td>\n",
       "      <td>0</td>\n",
       "      <td>0</td>\n",
       "      <td>0</td>\n",
       "      <td>0</td>\n",
       "      <td>0</td>\n",
       "      <td>0</td>\n",
       "      <td>1</td>\n",
       "      <td>1</td>\n",
       "      <td>0</td>\n",
       "      <td>0</td>\n",
       "    </tr>\n",
       "    <tr>\n",
       "      <th>2</th>\n",
       "      <td>0</td>\n",
       "      <td>0</td>\n",
       "      <td>16942.166667</td>\n",
       "      <td>13279.2</td>\n",
       "      <td>1836.333333</td>\n",
       "      <td>0</td>\n",
       "      <td>0</td>\n",
       "      <td>0</td>\n",
       "      <td>0</td>\n",
       "      <td>0</td>\n",
       "      <td>0</td>\n",
       "      <td>0</td>\n",
       "      <td>0</td>\n",
       "      <td>0</td>\n",
       "      <td>0</td>\n",
       "      <td>1</td>\n",
       "      <td>0</td>\n",
       "      <td>0</td>\n",
       "      <td>0</td>\n",
       "      <td>0</td>\n",
       "      <td>0</td>\n",
       "      <td>0</td>\n",
       "      <td>0</td>\n",
       "      <td>0</td>\n",
       "      <td>0</td>\n",
       "      <td>0</td>\n",
       "      <td>0</td>\n",
       "      <td>0</td>\n",
       "      <td>0</td>\n",
       "      <td>1</td>\n",
       "      <td>1</td>\n",
       "      <td>0</td>\n",
       "      <td>0</td>\n",
       "    </tr>\n",
       "    <tr>\n",
       "      <th>3</th>\n",
       "      <td>0</td>\n",
       "      <td>0</td>\n",
       "      <td>38555.666667</td>\n",
       "      <td>35391.2</td>\n",
       "      <td>1398.000000</td>\n",
       "      <td>0</td>\n",
       "      <td>0</td>\n",
       "      <td>0</td>\n",
       "      <td>0</td>\n",
       "      <td>0</td>\n",
       "      <td>0</td>\n",
       "      <td>0</td>\n",
       "      <td>0</td>\n",
       "      <td>1</td>\n",
       "      <td>0</td>\n",
       "      <td>0</td>\n",
       "      <td>0</td>\n",
       "      <td>0</td>\n",
       "      <td>0</td>\n",
       "      <td>0</td>\n",
       "      <td>0</td>\n",
       "      <td>0</td>\n",
       "      <td>0</td>\n",
       "      <td>0</td>\n",
       "      <td>0</td>\n",
       "      <td>0</td>\n",
       "      <td>0</td>\n",
       "      <td>0</td>\n",
       "      <td>0</td>\n",
       "      <td>1</td>\n",
       "      <td>1</td>\n",
       "      <td>0</td>\n",
       "      <td>0</td>\n",
       "    </tr>\n",
       "    <tr>\n",
       "      <th>4</th>\n",
       "      <td>0</td>\n",
       "      <td>-2</td>\n",
       "      <td>18223.166667</td>\n",
       "      <td>8470.4</td>\n",
       "      <td>9841.500000</td>\n",
       "      <td>0</td>\n",
       "      <td>0</td>\n",
       "      <td>0</td>\n",
       "      <td>0</td>\n",
       "      <td>0</td>\n",
       "      <td>0</td>\n",
       "      <td>0</td>\n",
       "      <td>0</td>\n",
       "      <td>0</td>\n",
       "      <td>0</td>\n",
       "      <td>0</td>\n",
       "      <td>0</td>\n",
       "      <td>0</td>\n",
       "      <td>0</td>\n",
       "      <td>0</td>\n",
       "      <td>0</td>\n",
       "      <td>0</td>\n",
       "      <td>0</td>\n",
       "      <td>0</td>\n",
       "      <td>0</td>\n",
       "      <td>1</td>\n",
       "      <td>0</td>\n",
       "      <td>0</td>\n",
       "      <td>0</td>\n",
       "      <td>0</td>\n",
       "      <td>1</td>\n",
       "      <td>0</td>\n",
       "      <td>0</td>\n",
       "    </tr>\n",
       "  </tbody>\n",
       "</table>\n",
       "</div>"
      ],
      "text/plain": [
       "   DEFAULT  TOTAL_RISK_VALUE      Avg.Bill  Avg.Outstanding      Avg.Pay  \\\n",
       "0        1                -2   1284.000000            620.4   114.833333   \n",
       "1        1                 3   2846.166667           2279.0   833.333333   \n",
       "2        0                 0  16942.166667          13279.2  1836.333333   \n",
       "3        0                 0  38555.666667          35391.2  1398.000000   \n",
       "4        0                -2  18223.166667           8470.4  9841.500000   \n",
       "\n",
       "   DEMOGRAPHICS_Female_GraduateSchool_Others  \\\n",
       "0                                          0   \n",
       "1                                          0   \n",
       "2                                          0   \n",
       "3                                          0   \n",
       "4                                          0   \n",
       "\n",
       "   DEMOGRAPHICS_Female_GraduateSchool_Single  \\\n",
       "0                                          0   \n",
       "1                                          0   \n",
       "2                                          0   \n",
       "3                                          0   \n",
       "4                                          0   \n",
       "\n",
       "   DEMOGRAPHICS_Female_HighSchool_Married  \\\n",
       "0                                       0   \n",
       "1                                       0   \n",
       "2                                       0   \n",
       "3                                       0   \n",
       "4                                       0   \n",
       "\n",
       "   DEMOGRAPHICS_Female_HighSchool_Others  \\\n",
       "0                                      0   \n",
       "1                                      0   \n",
       "2                                      0   \n",
       "3                                      0   \n",
       "4                                      0   \n",
       "\n",
       "   DEMOGRAPHICS_Female_HighSchool_Single  DEMOGRAPHICS_Female_Others_Married  \\\n",
       "0                                      0                                   0   \n",
       "1                                      0                                   0   \n",
       "2                                      0                                   0   \n",
       "3                                      0                                   0   \n",
       "4                                      0                                   0   \n",
       "\n",
       "   DEMOGRAPHICS_Female_Others_Others  DEMOGRAPHICS_Female_Others_Single  \\\n",
       "0                                  0                                  0   \n",
       "1                                  0                                  0   \n",
       "2                                  0                                  0   \n",
       "3                                  0                                  0   \n",
       "4                                  0                                  0   \n",
       "\n",
       "   DEMOGRAPHICS_Female_University_Married  \\\n",
       "0                                       1   \n",
       "1                                       0   \n",
       "2                                       0   \n",
       "3                                       1   \n",
       "4                                       0   \n",
       "\n",
       "   DEMOGRAPHICS_Female_University_Others  \\\n",
       "0                                      0   \n",
       "1                                      0   \n",
       "2                                      0   \n",
       "3                                      0   \n",
       "4                                      0   \n",
       "\n",
       "   DEMOGRAPHICS_Female_University_Single  \\\n",
       "0                                      0   \n",
       "1                                      1   \n",
       "2                                      1   \n",
       "3                                      0   \n",
       "4                                      0   \n",
       "\n",
       "   DEMOGRAPHICS_Male_GraduateSchool_Married  \\\n",
       "0                                         0   \n",
       "1                                         0   \n",
       "2                                         0   \n",
       "3                                         0   \n",
       "4                                         0   \n",
       "\n",
       "   DEMOGRAPHICS_Male_GraduateSchool_Others  \\\n",
       "0                                        0   \n",
       "1                                        0   \n",
       "2                                        0   \n",
       "3                                        0   \n",
       "4                                        0   \n",
       "\n",
       "   DEMOGRAPHICS_Male_GraduateSchool_Single  \\\n",
       "0                                        0   \n",
       "1                                        0   \n",
       "2                                        0   \n",
       "3                                        0   \n",
       "4                                        0   \n",
       "\n",
       "   DEMOGRAPHICS_Male_HighSchool_Married  DEMOGRAPHICS_Male_HighSchool_Others  \\\n",
       "0                                     0                                    0   \n",
       "1                                     0                                    0   \n",
       "2                                     0                                    0   \n",
       "3                                     0                                    0   \n",
       "4                                     0                                    0   \n",
       "\n",
       "   DEMOGRAPHICS_Male_HighSchool_Single  DEMOGRAPHICS_Male_Others_Married  \\\n",
       "0                                    0                                 0   \n",
       "1                                    0                                 0   \n",
       "2                                    0                                 0   \n",
       "3                                    0                                 0   \n",
       "4                                    0                                 0   \n",
       "\n",
       "   DEMOGRAPHICS_Male_Others_Others  DEMOGRAPHICS_Male_Others_Single  \\\n",
       "0                                0                                0   \n",
       "1                                0                                0   \n",
       "2                                0                                0   \n",
       "3                                0                                0   \n",
       "4                                0                                0   \n",
       "\n",
       "   DEMOGRAPHICS_Male_University_Married  DEMOGRAPHICS_Male_University_Others  \\\n",
       "0                                     0                                    0   \n",
       "1                                     0                                    0   \n",
       "2                                     0                                    0   \n",
       "3                                     0                                    0   \n",
       "4                                     1                                    0   \n",
       "\n",
       "   DEMOGRAPHICS_Male_University_Single  Age_Category_Senior Citizens  \\\n",
       "0                                    0                             0   \n",
       "1                                    0                             0   \n",
       "2                                    0                             0   \n",
       "3                                    0                             0   \n",
       "4                                    0                             0   \n",
       "\n",
       "   Age_Category_Young  Credit_Limit_Category_Low Limit Holder  \\\n",
       "0                   1                                       1   \n",
       "1                   1                                       1   \n",
       "2                   1                                       1   \n",
       "3                   1                                       1   \n",
       "4                   0                                       1   \n",
       "\n",
       "   Credit_Limit_Category_Medium Limit Holder  \\\n",
       "0                                          0   \n",
       "1                                          0   \n",
       "2                                          0   \n",
       "3                                          0   \n",
       "4                                          0   \n",
       "\n",
       "   Credit_Limit_Category_Very High Limit Holder  \n",
       "0                                             0  \n",
       "1                                             0  \n",
       "2                                             0  \n",
       "3                                             0  \n",
       "4                                             0  "
      ]
     },
     "execution_count": 102,
     "metadata": {},
     "output_type": "execute_result"
    }
   ],
   "source": [
    "df.head()"
   ]
  },
  {
   "cell_type": "code",
   "execution_count": 103,
   "metadata": {},
   "outputs": [
    {
     "data": {
      "text/plain": [
       "(29965, 33)"
      ]
     },
     "execution_count": 103,
     "metadata": {},
     "output_type": "execute_result"
    }
   ],
   "source": [
    "df.shape"
   ]
  },
  {
   "cell_type": "code",
   "execution_count": 104,
   "metadata": {},
   "outputs": [
    {
     "data": {
      "text/plain": [
       "0    0.778742\n",
       "1    0.221258\n",
       "Name: DEFAULT, dtype: float64"
      ]
     },
     "execution_count": 104,
     "metadata": {},
     "output_type": "execute_result"
    }
   ],
   "source": [
    "df['DEFAULT'].value_counts(1)"
   ]
  },
  {
   "cell_type": "code",
   "execution_count": 105,
   "metadata": {},
   "outputs": [],
   "source": [
    "from sklearn.model_selection import train_test_split"
   ]
  },
  {
   "cell_type": "code",
   "execution_count": 106,
   "metadata": {},
   "outputs": [],
   "source": [
    "from sklearn.metrics import confusion_matrix,classification_report,cohen_kappa_score,matthews_corrcoef,roc_curve,roc_auc_score,accuracy_score"
   ]
  },
  {
   "cell_type": "code",
   "execution_count": 107,
   "metadata": {},
   "outputs": [],
   "source": [
    "x=df.drop('DEFAULT',axis=1)\n",
    "y=df['DEFAULT']"
   ]
  },
  {
   "cell_type": "code",
   "execution_count": 108,
   "metadata": {},
   "outputs": [],
   "source": [
    "X_train, X_test, y_train, y_test = train_test_split(x,y,test_size=0.3,random_state=42)"
   ]
  },
  {
   "cell_type": "markdown",
   "metadata": {},
   "source": [
    "### Logit Model"
   ]
  },
  {
   "cell_type": "code",
   "execution_count": 109,
   "metadata": {},
   "outputs": [],
   "source": [
    "X_train_c=sm.add_constant(X_train)\n",
    "X_test_c=sm.add_constant(X_test)"
   ]
  },
  {
   "cell_type": "code",
   "execution_count": 110,
   "metadata": {},
   "outputs": [
    {
     "name": "stdout",
     "output_type": "stream",
     "text": [
      "Warning: Maximum number of iterations has been exceeded.\n",
      "         Current function value: 0.476627\n",
      "         Iterations: 35\n"
     ]
    }
   ],
   "source": [
    "Logit_model=sm.Logit(y_train,X_train_c)\n",
    "result=Logit_model.fit()"
   ]
  },
  {
   "cell_type": "code",
   "execution_count": 111,
   "metadata": {},
   "outputs": [
    {
     "data": {
      "text/html": [
       "<table class=\"simpletable\">\n",
       "<caption>Logit Regression Results</caption>\n",
       "<tr>\n",
       "  <th>Dep. Variable:</th>        <td>DEFAULT</td>     <th>  No. Observations:  </th>  <td> 20975</td> \n",
       "</tr>\n",
       "<tr>\n",
       "  <th>Model:</th>                 <td>Logit</td>      <th>  Df Residuals:      </th>  <td> 20942</td> \n",
       "</tr>\n",
       "<tr>\n",
       "  <th>Method:</th>                 <td>MLE</td>       <th>  Df Model:          </th>  <td>    32</td> \n",
       "</tr>\n",
       "<tr>\n",
       "  <th>Date:</th>            <td>Fri, 26 Jun 2020</td> <th>  Pseudo R-squ.:     </th>  <td>0.09579</td>\n",
       "</tr>\n",
       "<tr>\n",
       "  <th>Time:</th>                <td>23:35:45</td>     <th>  Log-Likelihood:    </th> <td> -9997.3</td>\n",
       "</tr>\n",
       "<tr>\n",
       "  <th>converged:</th>             <td>False</td>      <th>  LL-Null:           </th> <td> -11056.</td>\n",
       "</tr>\n",
       "<tr>\n",
       "  <th>Covariance Type:</th>     <td>nonrobust</td>    <th>  LLR p-value:       </th>  <td> 0.000</td> \n",
       "</tr>\n",
       "</table>\n",
       "<table class=\"simpletable\">\n",
       "<tr>\n",
       "                        <td></td>                          <th>coef</th>     <th>std err</th>      <th>z</th>      <th>P>|z|</th>  <th>[0.025</th>    <th>0.975]</th>  \n",
       "</tr>\n",
       "<tr>\n",
       "  <th>const</th>                                        <td>   -0.7711</td> <td>    0.122</td> <td>   -6.333</td> <td> 0.000</td> <td>   -1.010</td> <td>   -0.532</td>\n",
       "</tr>\n",
       "<tr>\n",
       "  <th>TOTAL_RISK_VALUE</th>                             <td>    0.1130</td> <td>    0.004</td> <td>   31.835</td> <td> 0.000</td> <td>    0.106</td> <td>    0.120</td>\n",
       "</tr>\n",
       "<tr>\n",
       "  <th>Avg.Bill</th>                                     <td>-2.432e-05</td> <td> 4.78e-06</td> <td>   -5.088</td> <td> 0.000</td> <td>-3.37e-05</td> <td> -1.5e-05</td>\n",
       "</tr>\n",
       "<tr>\n",
       "  <th>Avg.Outstanding</th>                              <td> 2.371e-05</td> <td>  4.9e-06</td> <td>    4.841</td> <td> 0.000</td> <td> 1.41e-05</td> <td> 3.33e-05</td>\n",
       "</tr>\n",
       "<tr>\n",
       "  <th>Avg.Pay</th>                                      <td>-2.937e-05</td> <td> 5.71e-06</td> <td>   -5.143</td> <td> 0.000</td> <td>-4.06e-05</td> <td>-1.82e-05</td>\n",
       "</tr>\n",
       "<tr>\n",
       "  <th>DEMOGRAPHICS_Female_GraduateSchool_Others</th>    <td>  -13.7497</td> <td>  704.159</td> <td>   -0.020</td> <td> 0.984</td> <td>-1393.876</td> <td> 1366.377</td>\n",
       "</tr>\n",
       "<tr>\n",
       "  <th>DEMOGRAPHICS_Female_GraduateSchool_Single</th>    <td>   -0.3084</td> <td>    0.088</td> <td>   -3.490</td> <td> 0.000</td> <td>   -0.482</td> <td>   -0.135</td>\n",
       "</tr>\n",
       "<tr>\n",
       "  <th>DEMOGRAPHICS_Female_HighSchool_Married</th>       <td>   -0.2575</td> <td>    0.101</td> <td>   -2.544</td> <td> 0.011</td> <td>   -0.456</td> <td>   -0.059</td>\n",
       "</tr>\n",
       "<tr>\n",
       "  <th>DEMOGRAPHICS_Female_HighSchool_Others</th>        <td>   -0.8914</td> <td>    0.349</td> <td>   -2.557</td> <td> 0.011</td> <td>   -1.575</td> <td>   -0.208</td>\n",
       "</tr>\n",
       "<tr>\n",
       "  <th>DEMOGRAPHICS_Female_HighSchool_Single</th>        <td>   -0.3385</td> <td>    0.120</td> <td>   -2.832</td> <td> 0.005</td> <td>   -0.573</td> <td>   -0.104</td>\n",
       "</tr>\n",
       "<tr>\n",
       "  <th>DEMOGRAPHICS_Female_Others_Married</th>           <td>   -1.4036</td> <td>    0.431</td> <td>   -3.258</td> <td> 0.001</td> <td>   -2.248</td> <td>   -0.559</td>\n",
       "</tr>\n",
       "<tr>\n",
       "  <th>DEMOGRAPHICS_Female_Others_Others</th>            <td>  -11.7859</td> <td>  303.570</td> <td>   -0.039</td> <td> 0.969</td> <td> -606.772</td> <td>  583.200</td>\n",
       "</tr>\n",
       "<tr>\n",
       "  <th>DEMOGRAPHICS_Female_Others_Single</th>            <td>   -0.7449</td> <td>    0.363</td> <td>   -2.052</td> <td> 0.040</td> <td>   -1.456</td> <td>   -0.034</td>\n",
       "</tr>\n",
       "<tr>\n",
       "  <th>DEMOGRAPHICS_Female_University_Married</th>       <td>   -0.1723</td> <td>    0.085</td> <td>   -2.037</td> <td> 0.042</td> <td>   -0.338</td> <td>   -0.007</td>\n",
       "</tr>\n",
       "<tr>\n",
       "  <th>DEMOGRAPHICS_Female_University_Others</th>        <td>   -0.7201</td> <td>    0.322</td> <td>   -2.239</td> <td> 0.025</td> <td>   -1.351</td> <td>   -0.090</td>\n",
       "</tr>\n",
       "<tr>\n",
       "  <th>DEMOGRAPHICS_Female_University_Single</th>        <td>   -0.3389</td> <td>    0.088</td> <td>   -3.860</td> <td> 0.000</td> <td>   -0.511</td> <td>   -0.167</td>\n",
       "</tr>\n",
       "<tr>\n",
       "  <th>DEMOGRAPHICS_Male_GraduateSchool_Married</th>     <td>    0.0438</td> <td>    0.104</td> <td>    0.422</td> <td> 0.673</td> <td>   -0.160</td> <td>    0.247</td>\n",
       "</tr>\n",
       "<tr>\n",
       "  <th>DEMOGRAPHICS_Male_GraduateSchool_Others</th>      <td>   -0.2080</td> <td>    0.588</td> <td>   -0.354</td> <td> 0.724</td> <td>   -1.361</td> <td>    0.945</td>\n",
       "</tr>\n",
       "<tr>\n",
       "  <th>DEMOGRAPHICS_Male_GraduateSchool_Single</th>      <td>   -0.2860</td> <td>    0.095</td> <td>   -3.000</td> <td> 0.003</td> <td>   -0.473</td> <td>   -0.099</td>\n",
       "</tr>\n",
       "<tr>\n",
       "  <th>DEMOGRAPHICS_Male_HighSchool_Married</th>         <td>   -0.0507</td> <td>    0.115</td> <td>   -0.442</td> <td> 0.658</td> <td>   -0.275</td> <td>    0.174</td>\n",
       "</tr>\n",
       "<tr>\n",
       "  <th>DEMOGRAPHICS_Male_HighSchool_Others</th>          <td>   -0.2622</td> <td>    0.419</td> <td>   -0.625</td> <td> 0.532</td> <td>   -1.084</td> <td>    0.560</td>\n",
       "</tr>\n",
       "<tr>\n",
       "  <th>DEMOGRAPHICS_Male_HighSchool_Single</th>          <td>   -0.2063</td> <td>    0.122</td> <td>   -1.695</td> <td> 0.090</td> <td>   -0.445</td> <td>    0.032</td>\n",
       "</tr>\n",
       "<tr>\n",
       "  <th>DEMOGRAPHICS_Male_Others_Married</th>             <td>   -0.9667</td> <td>    0.477</td> <td>   -2.026</td> <td> 0.043</td> <td>   -1.902</td> <td>   -0.032</td>\n",
       "</tr>\n",
       "<tr>\n",
       "  <th>DEMOGRAPHICS_Male_Others_Others</th>              <td> -123.2469</td> <td> 1.23e+27</td> <td>   -1e-25</td> <td> 1.000</td> <td>-2.41e+27</td> <td> 2.41e+27</td>\n",
       "</tr>\n",
       "<tr>\n",
       "  <th>DEMOGRAPHICS_Male_Others_Single</th>              <td>   -1.7925</td> <td>    0.611</td> <td>   -2.932</td> <td> 0.003</td> <td>   -2.991</td> <td>   -0.594</td>\n",
       "</tr>\n",
       "<tr>\n",
       "  <th>DEMOGRAPHICS_Male_University_Married</th>         <td>   -0.0171</td> <td>    0.093</td> <td>   -0.184</td> <td> 0.854</td> <td>   -0.199</td> <td>    0.165</td>\n",
       "</tr>\n",
       "<tr>\n",
       "  <th>DEMOGRAPHICS_Male_University_Others</th>          <td>   -0.0438</td> <td>    0.344</td> <td>   -0.127</td> <td> 0.899</td> <td>   -0.719</td> <td>    0.631</td>\n",
       "</tr>\n",
       "<tr>\n",
       "  <th>DEMOGRAPHICS_Male_University_Single</th>          <td>   -0.2592</td> <td>    0.092</td> <td>   -2.831</td> <td> 0.005</td> <td>   -0.439</td> <td>   -0.080</td>\n",
       "</tr>\n",
       "<tr>\n",
       "  <th>Age_Category_Senior Citizens</th>                 <td>    0.1579</td> <td>    0.162</td> <td>    0.977</td> <td> 0.329</td> <td>   -0.159</td> <td>    0.475</td>\n",
       "</tr>\n",
       "<tr>\n",
       "  <th>Age_Category_Young</th>                           <td>   -0.0761</td> <td>    0.043</td> <td>   -1.781</td> <td> 0.075</td> <td>   -0.160</td> <td>    0.008</td>\n",
       "</tr>\n",
       "<tr>\n",
       "  <th>Credit_Limit_Category_Low Limit Holder</th>       <td>    0.0936</td> <td>    0.099</td> <td>    0.942</td> <td> 0.346</td> <td>   -0.101</td> <td>    0.288</td>\n",
       "</tr>\n",
       "<tr>\n",
       "  <th>Credit_Limit_Category_Medium Limit Holder</th>    <td>    0.0002</td> <td>    0.101</td> <td>    0.002</td> <td> 0.999</td> <td>   -0.197</td> <td>    0.198</td>\n",
       "</tr>\n",
       "<tr>\n",
       "  <th>Credit_Limit_Category_Very High Limit Holder</th> <td>   -0.2428</td> <td>    0.487</td> <td>   -0.498</td> <td> 0.618</td> <td>   -1.198</td> <td>    0.712</td>\n",
       "</tr>\n",
       "</table>"
      ],
      "text/plain": [
       "<class 'statsmodels.iolib.summary.Summary'>\n",
       "\"\"\"\n",
       "                           Logit Regression Results                           \n",
       "==============================================================================\n",
       "Dep. Variable:                DEFAULT   No. Observations:                20975\n",
       "Model:                          Logit   Df Residuals:                    20942\n",
       "Method:                           MLE   Df Model:                           32\n",
       "Date:                Fri, 26 Jun 2020   Pseudo R-squ.:                 0.09579\n",
       "Time:                        23:35:45   Log-Likelihood:                -9997.3\n",
       "converged:                      False   LL-Null:                       -11056.\n",
       "Covariance Type:            nonrobust   LLR p-value:                     0.000\n",
       "================================================================================================================\n",
       "                                                   coef    std err          z      P>|z|      [0.025      0.975]\n",
       "----------------------------------------------------------------------------------------------------------------\n",
       "const                                           -0.7711      0.122     -6.333      0.000      -1.010      -0.532\n",
       "TOTAL_RISK_VALUE                                 0.1130      0.004     31.835      0.000       0.106       0.120\n",
       "Avg.Bill                                     -2.432e-05   4.78e-06     -5.088      0.000   -3.37e-05    -1.5e-05\n",
       "Avg.Outstanding                               2.371e-05    4.9e-06      4.841      0.000    1.41e-05    3.33e-05\n",
       "Avg.Pay                                      -2.937e-05   5.71e-06     -5.143      0.000   -4.06e-05   -1.82e-05\n",
       "DEMOGRAPHICS_Female_GraduateSchool_Others      -13.7497    704.159     -0.020      0.984   -1393.876    1366.377\n",
       "DEMOGRAPHICS_Female_GraduateSchool_Single       -0.3084      0.088     -3.490      0.000      -0.482      -0.135\n",
       "DEMOGRAPHICS_Female_HighSchool_Married          -0.2575      0.101     -2.544      0.011      -0.456      -0.059\n",
       "DEMOGRAPHICS_Female_HighSchool_Others           -0.8914      0.349     -2.557      0.011      -1.575      -0.208\n",
       "DEMOGRAPHICS_Female_HighSchool_Single           -0.3385      0.120     -2.832      0.005      -0.573      -0.104\n",
       "DEMOGRAPHICS_Female_Others_Married              -1.4036      0.431     -3.258      0.001      -2.248      -0.559\n",
       "DEMOGRAPHICS_Female_Others_Others              -11.7859    303.570     -0.039      0.969    -606.772     583.200\n",
       "DEMOGRAPHICS_Female_Others_Single               -0.7449      0.363     -2.052      0.040      -1.456      -0.034\n",
       "DEMOGRAPHICS_Female_University_Married          -0.1723      0.085     -2.037      0.042      -0.338      -0.007\n",
       "DEMOGRAPHICS_Female_University_Others           -0.7201      0.322     -2.239      0.025      -1.351      -0.090\n",
       "DEMOGRAPHICS_Female_University_Single           -0.3389      0.088     -3.860      0.000      -0.511      -0.167\n",
       "DEMOGRAPHICS_Male_GraduateSchool_Married         0.0438      0.104      0.422      0.673      -0.160       0.247\n",
       "DEMOGRAPHICS_Male_GraduateSchool_Others         -0.2080      0.588     -0.354      0.724      -1.361       0.945\n",
       "DEMOGRAPHICS_Male_GraduateSchool_Single         -0.2860      0.095     -3.000      0.003      -0.473      -0.099\n",
       "DEMOGRAPHICS_Male_HighSchool_Married            -0.0507      0.115     -0.442      0.658      -0.275       0.174\n",
       "DEMOGRAPHICS_Male_HighSchool_Others             -0.2622      0.419     -0.625      0.532      -1.084       0.560\n",
       "DEMOGRAPHICS_Male_HighSchool_Single             -0.2063      0.122     -1.695      0.090      -0.445       0.032\n",
       "DEMOGRAPHICS_Male_Others_Married                -0.9667      0.477     -2.026      0.043      -1.902      -0.032\n",
       "DEMOGRAPHICS_Male_Others_Others               -123.2469   1.23e+27     -1e-25      1.000   -2.41e+27    2.41e+27\n",
       "DEMOGRAPHICS_Male_Others_Single                 -1.7925      0.611     -2.932      0.003      -2.991      -0.594\n",
       "DEMOGRAPHICS_Male_University_Married            -0.0171      0.093     -0.184      0.854      -0.199       0.165\n",
       "DEMOGRAPHICS_Male_University_Others             -0.0438      0.344     -0.127      0.899      -0.719       0.631\n",
       "DEMOGRAPHICS_Male_University_Single             -0.2592      0.092     -2.831      0.005      -0.439      -0.080\n",
       "Age_Category_Senior Citizens                     0.1579      0.162      0.977      0.329      -0.159       0.475\n",
       "Age_Category_Young                              -0.0761      0.043     -1.781      0.075      -0.160       0.008\n",
       "Credit_Limit_Category_Low Limit Holder           0.0936      0.099      0.942      0.346      -0.101       0.288\n",
       "Credit_Limit_Category_Medium Limit Holder        0.0002      0.101      0.002      0.999      -0.197       0.198\n",
       "Credit_Limit_Category_Very High Limit Holder    -0.2428      0.487     -0.498      0.618      -1.198       0.712\n",
       "================================================================================================================\n",
       "\"\"\""
      ]
     },
     "execution_count": 111,
     "metadata": {},
     "output_type": "execute_result"
    }
   ],
   "source": [
    "result.summary()"
   ]
  },
  {
   "cell_type": "code",
   "execution_count": 112,
   "metadata": {},
   "outputs": [
    {
     "data": {
      "text/plain": [
       "29334    0.237649\n",
       "24426    0.068186\n",
       "9822     0.190189\n",
       "20887    0.250892\n",
       "21692    0.113824\n",
       "dtype: float64"
      ]
     },
     "execution_count": 112,
     "metadata": {},
     "output_type": "execute_result"
    }
   ],
   "source": [
    "y_prob=result.predict(X_test_c)\n",
    "y_prob.head()"
   ]
  },
  {
   "cell_type": "code",
   "execution_count": 113,
   "metadata": {},
   "outputs": [],
   "source": [
    "y_test=pd.DataFrame(y_test)\n",
    "y_test['Prob']=y_prob"
   ]
  },
  {
   "cell_type": "code",
   "execution_count": 114,
   "metadata": {},
   "outputs": [
    {
     "data": {
      "text/html": [
       "<div>\n",
       "<style scoped>\n",
       "    .dataframe tbody tr th:only-of-type {\n",
       "        vertical-align: middle;\n",
       "    }\n",
       "\n",
       "    .dataframe tbody tr th {\n",
       "        vertical-align: top;\n",
       "    }\n",
       "\n",
       "    .dataframe thead th {\n",
       "        text-align: right;\n",
       "    }\n",
       "</style>\n",
       "<table border=\"1\" class=\"dataframe\">\n",
       "  <thead>\n",
       "    <tr style=\"text-align: right;\">\n",
       "      <th></th>\n",
       "      <th>DEFAULT</th>\n",
       "      <th>Prob</th>\n",
       "      <th>Pred</th>\n",
       "    </tr>\n",
       "  </thead>\n",
       "  <tbody>\n",
       "    <tr>\n",
       "      <th>29334</th>\n",
       "      <td>0</td>\n",
       "      <td>0.237649</td>\n",
       "      <td>1</td>\n",
       "    </tr>\n",
       "    <tr>\n",
       "      <th>24426</th>\n",
       "      <td>0</td>\n",
       "      <td>0.068186</td>\n",
       "      <td>0</td>\n",
       "    </tr>\n",
       "    <tr>\n",
       "      <th>9822</th>\n",
       "      <td>0</td>\n",
       "      <td>0.190189</td>\n",
       "      <td>0</td>\n",
       "    </tr>\n",
       "    <tr>\n",
       "      <th>20887</th>\n",
       "      <td>0</td>\n",
       "      <td>0.250892</td>\n",
       "      <td>1</td>\n",
       "    </tr>\n",
       "    <tr>\n",
       "      <th>21692</th>\n",
       "      <td>0</td>\n",
       "      <td>0.113824</td>\n",
       "      <td>0</td>\n",
       "    </tr>\n",
       "  </tbody>\n",
       "</table>\n",
       "</div>"
      ],
      "text/plain": [
       "       DEFAULT      Prob  Pred\n",
       "29334        0  0.237649     1\n",
       "24426        0  0.068186     0\n",
       "9822         0  0.190189     0\n",
       "20887        0  0.250892     1\n",
       "21692        0  0.113824     0"
      ]
     },
     "execution_count": 114,
     "metadata": {},
     "output_type": "execute_result"
    }
   ],
   "source": [
    "y_test['Pred']=y_test['Prob'].apply(lambda x:0 if x<=0.2 else 1)\n",
    "y_test.head()"
   ]
  },
  {
   "cell_type": "code",
   "execution_count": 115,
   "metadata": {},
   "outputs": [],
   "source": [
    "from sklearn.metrics import confusion_matrix,classification_report,cohen_kappa_score,matthews_corrcoef,roc_curve,roc_auc_score,accuracy_score"
   ]
  },
  {
   "cell_type": "code",
   "execution_count": 116,
   "metadata": {},
   "outputs": [
    {
     "data": {
      "text/plain": [
       "array([[3875, 3103],\n",
       "       [ 641, 1371]], dtype=int64)"
      ]
     },
     "execution_count": 116,
     "metadata": {},
     "output_type": "execute_result"
    }
   ],
   "source": [
    "cm=confusion_matrix(y_test['DEFAULT'],y_test['Pred'])\n",
    "cm"
   ]
  },
  {
   "cell_type": "code",
   "execution_count": 117,
   "metadata": {},
   "outputs": [
    {
     "data": {
      "text/html": [
       "<div>\n",
       "<style scoped>\n",
       "    .dataframe tbody tr th:only-of-type {\n",
       "        vertical-align: middle;\n",
       "    }\n",
       "\n",
       "    .dataframe tbody tr th {\n",
       "        vertical-align: top;\n",
       "    }\n",
       "\n",
       "    .dataframe thead th {\n",
       "        text-align: right;\n",
       "    }\n",
       "</style>\n",
       "<table border=\"1\" class=\"dataframe\">\n",
       "  <thead>\n",
       "    <tr style=\"text-align: right;\">\n",
       "      <th></th>\n",
       "      <th>Predicted:0</th>\n",
       "      <th>Predicted:1</th>\n",
       "    </tr>\n",
       "  </thead>\n",
       "  <tbody>\n",
       "    <tr>\n",
       "      <th>Actual:0</th>\n",
       "      <td>3875</td>\n",
       "      <td>3103</td>\n",
       "    </tr>\n",
       "    <tr>\n",
       "      <th>Actual:1</th>\n",
       "      <td>641</td>\n",
       "      <td>1371</td>\n",
       "    </tr>\n",
       "  </tbody>\n",
       "</table>\n",
       "</div>"
      ],
      "text/plain": [
       "          Predicted:0  Predicted:1\n",
       "Actual:0         3875         3103\n",
       "Actual:1          641         1371"
      ]
     },
     "execution_count": 117,
     "metadata": {},
     "output_type": "execute_result"
    }
   ],
   "source": [
    "cm = pd.DataFrame(data=cm,columns=['Predicted:0','Predicted:1'],index=['Actual:0','Actual:1'])\n",
    "cm"
   ]
  },
  {
   "cell_type": "code",
   "execution_count": 118,
   "metadata": {},
   "outputs": [
    {
     "data": {
      "image/png": "[encoded data removed]",
      "text/plain": [
       "<Figure size 432x288 with 2 Axes>"
      ]
     },
     "metadata": {
      "needs_background": "light"
     },
     "output_type": "display_data"
    }
   ],
   "source": [
    "sns.heatmap(data=cm,annot=True,fmt='g')\n",
    "plt.show()"
   ]
  },
  {
   "cell_type": "code",
   "execution_count": 119,
   "metadata": {},
   "outputs": [
    {
     "data": {
      "image/png": "[encoded data removed]",
      "text/plain": [
       "<Figure size 432x288 with 1 Axes>"
      ]
     },
     "metadata": {
      "needs_background": "light"
     },
     "output_type": "display_data"
    }
   ],
   "source": [
    "fpr,tpr,thresholds=roc_curve(y_test['DEFAULT'],y_test['Pred'])\n",
    "plt.plot(fpr,tpr,color='r')\n",
    "plt.xlabel('FPR')\n",
    "plt.ylabel('TPR')\n",
    "plt.plot(fpr,fpr,color='g')\n",
    "plt.show()"
   ]
  },
  {
   "cell_type": "code",
   "execution_count": 120,
   "metadata": {
    "scrolled": true
   },
   "outputs": [
    {
     "name": "stdout",
     "output_type": "stream",
     "text": [
      "Cohen kappa Score: 0.16491943931394037\n",
      "Matthews coeff: 0.19733521099915785\n",
      "Roc Auc Score: 0.6183641202370187\n",
      "Accuracy Score: 0.5835372636262514\n",
      "              precision    recall  f1-score   support\n",
      "\n",
      "           0       0.86      0.56      0.67      6978\n",
      "           1       0.31      0.68      0.42      2012\n",
      "\n",
      "    accuracy                           0.58      8990\n",
      "   macro avg       0.58      0.62      0.55      8990\n",
      "weighted avg       0.73      0.58      0.62      8990\n",
      "\n"
     ]
    }
   ],
   "source": [
    "print('Cohen kappa Score:',cohen_kappa_score(y_test['DEFAULT'],y_test['Pred']))\n",
    "print('Matthews coeff:',matthews_corrcoef(y_test['DEFAULT'],y_test['Pred']))\n",
    "print('Roc Auc Score:',roc_auc_score(y_test['DEFAULT'],y_test['Pred']))\n",
    "print('Accuracy Score:',accuracy_score(y_test['DEFAULT'],y_test['Pred']))\n",
    "print(classification_report(y_test['DEFAULT'],y_test['Pred']))"
   ]
  },
  {
   "cell_type": "markdown",
   "metadata": {},
   "source": [
    "### Logistic Regression"
   ]
  },
  {
   "cell_type": "code",
   "execution_count": 121,
   "metadata": {},
   "outputs": [],
   "source": [
    "from sklearn.linear_model import LogisticRegression"
   ]
  },
  {
   "cell_type": "code",
   "execution_count": 122,
   "metadata": {},
   "outputs": [],
   "source": [
    "lr=LogisticRegression(class_weight=({1:77,0:22}))"
   ]
  },
  {
   "cell_type": "code",
   "execution_count": 123,
   "metadata": {},
   "outputs": [],
   "source": [
    "x=df.drop('DEFAULT',axis=1)\n",
    "y=df['DEFAULT']"
   ]
  },
  {
   "cell_type": "code",
   "execution_count": 124,
   "metadata": {},
   "outputs": [],
   "source": [
    "X_train, X_test, y_train, y_test = train_test_split(x,y,test_size=0.3,random_state=1)"
   ]
  },
  {
   "cell_type": "code",
   "execution_count": 125,
   "metadata": {},
   "outputs": [],
   "source": [
    "lr_model=lr.fit(X_train,y_train)\n",
    "ypred_lr=lr_model.predict(X_test)"
   ]
  },
  {
   "cell_type": "code",
   "execution_count": 126,
   "metadata": {},
   "outputs": [
    {
     "name": "stdout",
     "output_type": "stream",
     "text": [
      "Cohen kappa Score: 0.12405146714341786\n",
      "Matthews coeff: 0.12784588053769502\n",
      "Roc Auc Score: 0.5716019425263581\n",
      "Accuracy Score: 0.6490545050055617\n",
      "              precision    recall  f1-score   support\n",
      "\n",
      "           0       0.81      0.71      0.76      6981\n",
      "           1       0.30      0.43      0.35      2009\n",
      "\n",
      "    accuracy                           0.65      8990\n",
      "   macro avg       0.56      0.57      0.56      8990\n",
      "weighted avg       0.70      0.65      0.67      8990\n",
      "\n",
      "[[4968 2013]\n",
      " [1142  867]]\n"
     ]
    }
   ],
   "source": [
    "print('Cohen kappa Score:',cohen_kappa_score(y_test,ypred_lr))\n",
    "print('Matthews coeff:',matthews_corrcoef(y_test,ypred_lr))\n",
    "print('Roc Auc Score:',roc_auc_score(y_test,ypred_lr))\n",
    "print('Accuracy Score:',accuracy_score(y_test,ypred_lr))\n",
    "print(classification_report(y_test,ypred_lr))\n",
    "print(confusion_matrix(y_test,ypred_lr))"
   ]
  },
  {
   "cell_type": "markdown",
   "metadata": {},
   "source": [
    "### Decision Tree"
   ]
  },
  {
   "cell_type": "code",
   "execution_count": 127,
   "metadata": {},
   "outputs": [],
   "source": [
    "from sklearn.tree import DecisionTreeClassifier"
   ]
  },
  {
   "cell_type": "code",
   "execution_count": 128,
   "metadata": {},
   "outputs": [],
   "source": [
    "dt=DecisionTreeClassifier()"
   ]
  },
  {
   "cell_type": "code",
   "execution_count": 129,
   "metadata": {},
   "outputs": [],
   "source": [
    "dt_model=dt.fit(X_train,y_train)\n",
    "ypred_dt=dt_model.predict(X_test)"
   ]
  },
  {
   "cell_type": "code",
   "execution_count": 130,
   "metadata": {},
   "outputs": [
    {
     "name": "stdout",
     "output_type": "stream",
     "text": [
      "Cohen kappa Score: 0.19344626299640644\n",
      "Matthews coeff: 0.19344982581244852\n",
      "Roc Auc Score: 0.5970488838045725\n",
      "Accuracy Score: 0.7191323692992213\n",
      "              precision    recall  f1-score   support\n",
      "\n",
      "           0       0.82      0.82      0.82      6981\n",
      "           1       0.37      0.38      0.37      2009\n",
      "\n",
      "    accuracy                           0.72      8990\n",
      "   macro avg       0.60      0.60      0.60      8990\n",
      "weighted avg       0.72      0.72      0.72      8990\n",
      "\n",
      "[[5709 1272]\n",
      " [1253  756]]\n"
     ]
    }
   ],
   "source": [
    "print('Cohen kappa Score:',cohen_kappa_score(y_test,ypred_dt))\n",
    "print('Matthews coeff:',matthews_corrcoef(y_test,ypred_dt))\n",
    "print('Roc Auc Score:',roc_auc_score(y_test,ypred_dt))\n",
    "print('Accuracy Score:',accuracy_score(y_test,ypred_dt))\n",
    "print(classification_report(y_test,ypred_dt))\n",
    "print(confusion_matrix(y_test,ypred_dt))"
   ]
  },
  {
   "cell_type": "markdown",
   "metadata": {},
   "source": [
    "### Random Forest"
   ]
  },
  {
   "cell_type": "code",
   "execution_count": 131,
   "metadata": {},
   "outputs": [],
   "source": [
    "from sklearn.ensemble import RandomForestClassifier"
   ]
  },
  {
   "cell_type": "code",
   "execution_count": 132,
   "metadata": {},
   "outputs": [],
   "source": [
    "rf=RandomForestClassifier()"
   ]
  },
  {
   "cell_type": "code",
   "execution_count": 133,
   "metadata": {},
   "outputs": [],
   "source": [
    "rf_model=rf.fit(X_train,y_train)\n",
    "ypred_rf=rf_model.predict(X_test)"
   ]
  },
  {
   "cell_type": "code",
   "execution_count": 134,
   "metadata": {},
   "outputs": [
    {
     "name": "stdout",
     "output_type": "stream",
     "text": [
      "Cohen kappa Score: 0.27950551029274195\n",
      "Matthews coeff: 0.2981654138255767\n",
      "Roc Auc Score: 0.6171853147015197\n",
      "Accuracy Score: 0.7903225806451613\n",
      "              precision    recall  f1-score   support\n",
      "\n",
      "           0       0.82      0.93      0.87      6981\n",
      "           1       0.56      0.30      0.39      2009\n",
      "\n",
      "    accuracy                           0.79      8990\n",
      "   macro avg       0.69      0.62      0.63      8990\n",
      "weighted avg       0.76      0.79      0.77      8990\n",
      "\n",
      "[[6494  487]\n",
      " [1398  611]]\n"
     ]
    }
   ],
   "source": [
    "print('Cohen kappa Score:',cohen_kappa_score(y_test,ypred_rf))\n",
    "print('Matthews coeff:',matthews_corrcoef(y_test,ypred_rf))\n",
    "print('Roc Auc Score:',roc_auc_score(y_test,ypred_rf))\n",
    "print('Accuracy Score:',accuracy_score(y_test,ypred_rf))\n",
    "print(classification_report(y_test,ypred_rf))\n",
    "print(confusion_matrix(y_test,ypred_rf))"
   ]
  },
  {
   "cell_type": "markdown",
   "metadata": {},
   "source": [
    "### Naive Baye's"
   ]
  },
  {
   "cell_type": "code",
   "execution_count": 135,
   "metadata": {},
   "outputs": [],
   "source": [
    "from sklearn.naive_bayes import GaussianNB"
   ]
  },
  {
   "cell_type": "code",
   "execution_count": 136,
   "metadata": {},
   "outputs": [],
   "source": [
    "nb=GaussianNB()"
   ]
  },
  {
   "cell_type": "code",
   "execution_count": 137,
   "metadata": {},
   "outputs": [],
   "source": [
    "nb_model=nb.fit(X_train,y_train)\n",
    "ypred_nb=nb_model.predict(X_test)"
   ]
  },
  {
   "cell_type": "code",
   "execution_count": 138,
   "metadata": {},
   "outputs": [
    {
     "name": "stdout",
     "output_type": "stream",
     "text": [
      "Cohen kappa Score: 0.2713352186883137\n",
      "Matthews coeff: 0.30798364672477163\n",
      "Roc Auc Score: 0.6075314002045943\n",
      "Accuracy Score: 0.7995550611790879\n",
      "              precision    recall  f1-score   support\n",
      "\n",
      "           0       0.82      0.95      0.88      6981\n",
      "           1       0.62      0.26      0.37      2009\n",
      "\n",
      "    accuracy                           0.80      8990\n",
      "   macro avg       0.72      0.61      0.62      8990\n",
      "weighted avg       0.77      0.80      0.77      8990\n",
      "\n",
      "[[6665  316]\n",
      " [1486  523]]\n"
     ]
    }
   ],
   "source": [
    "print('Cohen kappa Score:',cohen_kappa_score(y_test,ypred_nb))\n",
    "print('Matthews coeff:',matthews_corrcoef(y_test,ypred_nb))\n",
    "print('Roc Auc Score:',roc_auc_score(y_test,ypred_nb))\n",
    "print('Accuracy Score:',accuracy_score(y_test,ypred_nb))\n",
    "print(classification_report(y_test,ypred_nb))\n",
    "print(confusion_matrix(y_test,ypred_nb))"
   ]
  },
  {
   "cell_type": "markdown",
   "metadata": {},
   "source": [
    "### KNN"
   ]
  },
  {
   "cell_type": "code",
   "execution_count": 139,
   "metadata": {},
   "outputs": [],
   "source": [
    "from sklearn.neighbors import KNeighborsClassifier\n",
    "from sklearn.preprocessing import StandardScaler"
   ]
  },
  {
   "cell_type": "code",
   "execution_count": 140,
   "metadata": {},
   "outputs": [],
   "source": [
    "sc=StandardScaler()"
   ]
  },
  {
   "cell_type": "code",
   "execution_count": 141,
   "metadata": {},
   "outputs": [],
   "source": [
    "x=df.drop('DEFAULT',axis=1)\n",
    "y=df['DEFAULT']"
   ]
  },
  {
   "cell_type": "code",
   "execution_count": 142,
   "metadata": {},
   "outputs": [],
   "source": [
    "x_scaled=sc.fit_transform(x)"
   ]
  },
  {
   "cell_type": "code",
   "execution_count": 143,
   "metadata": {},
   "outputs": [],
   "source": [
    "X_train_s, X_test, y_train_s, y_test = train_test_split(x_scaled,y,test_size=0.3,random_state=1)"
   ]
  },
  {
   "cell_type": "code",
   "execution_count": 144,
   "metadata": {},
   "outputs": [],
   "source": [
    "knn=KNeighborsClassifier()"
   ]
  },
  {
   "cell_type": "code",
   "execution_count": 145,
   "metadata": {},
   "outputs": [],
   "source": [
    "model_knn=knn.fit(X_train_s,y_train_s)\n",
    "ypred_knn=model_knn.predict(X_test)"
   ]
  },
  {
   "cell_type": "code",
   "execution_count": 146,
   "metadata": {},
   "outputs": [
    {
     "name": "stdout",
     "output_type": "stream",
     "text": [
      "Cohen kappa Score: 0.25435425221407537\n",
      "Matthews coeff: 0.265856944035777\n",
      "Roc Auc Score: 0.6095484657959109\n",
      "Accuracy Score: 0.7770856507230256\n",
      "              precision    recall  f1-score   support\n",
      "\n",
      "           0       0.82      0.91      0.86      6981\n",
      "           1       0.50      0.31      0.38      2009\n",
      "\n",
      "    accuracy                           0.78      8990\n",
      "   macro avg       0.66      0.61      0.62      8990\n",
      "weighted avg       0.75      0.78      0.76      8990\n",
      "\n",
      "[[6370  611]\n",
      " [1393  616]]\n"
     ]
    }
   ],
   "source": [
    "print('Cohen kappa Score:',cohen_kappa_score(y_test,ypred_knn))\n",
    "print('Matthews coeff:',matthews_corrcoef(y_test,ypred_knn))\n",
    "print('Roc Auc Score:',roc_auc_score(y_test,ypred_knn))\n",
    "print('Accuracy Score:',accuracy_score(y_test,ypred_knn))\n",
    "print(classification_report(y_test,ypred_knn))\n",
    "print(confusion_matrix(y_test,ypred_knn))"
   ]
  },
  {
   "cell_type": "markdown",
   "metadata": {},
   "source": [
    "## Recursive feature elimination and cross-validation"
   ]
  },
  {
   "cell_type": "code",
   "execution_count": 147,
   "metadata": {},
   "outputs": [],
   "source": [
    "from sklearn.feature_selection import RFECV\n",
    "from sklearn.model_selection import StratifiedKFold"
   ]
  },
  {
   "cell_type": "code",
   "execution_count": 148,
   "metadata": {},
   "outputs": [],
   "source": [
    "x=df.drop('DEFAULT',axis=1)\n",
    "y=df['DEFAULT']"
   ]
  },
  {
   "cell_type": "code",
   "execution_count": 149,
   "metadata": {},
   "outputs": [],
   "source": [
    "X_train, X_test, y_train, y_test=train_test_split(x,y,test_size=0.2,random_state=1)"
   ]
  },
  {
   "cell_type": "markdown",
   "metadata": {},
   "source": [
    "#### Logistic Regression "
   ]
  },
  {
   "cell_type": "code",
   "execution_count": 150,
   "metadata": {},
   "outputs": [],
   "source": [
    "lr_rfecv=RFECV(estimator=lr,step=1,cv=StratifiedKFold(5,random_state=1),scoring='f1_weighted')"
   ]
  },
  {
   "cell_type": "code",
   "execution_count": 151,
   "metadata": {},
   "outputs": [
    {
     "data": {
      "text/plain": [
       "RFECV(cv=StratifiedKFold(n_splits=5, random_state=1, shuffle=False),\n",
       "      estimator=LogisticRegression(C=1.0, class_weight={0: 22, 1: 77},\n",
       "                                   dual=False, fit_intercept=True,\n",
       "                                   intercept_scaling=1, l1_ratio=None,\n",
       "                                   max_iter=100, multi_class='auto',\n",
       "                                   n_jobs=None, penalty='l2', random_state=None,\n",
       "                                   solver='lbfgs', tol=0.0001, verbose=0,\n",
       "                                   warm_start=False),\n",
       "      min_features_to_select=1, n_jobs=None, scoring='f1_weighted', step=1,\n",
       "      verbose=0)"
      ]
     },
     "execution_count": 151,
     "metadata": {},
     "output_type": "execute_result"
    }
   ],
   "source": [
    "lr_rfecv.fit(X_train,y_train)"
   ]
  },
  {
   "cell_type": "code",
   "execution_count": 152,
   "metadata": {},
   "outputs": [
    {
     "data": {
      "text/plain": [
       "29"
      ]
     },
     "execution_count": 152,
     "metadata": {},
     "output_type": "execute_result"
    }
   ],
   "source": [
    "lr_rfecv.n_features_"
   ]
  },
  {
   "cell_type": "code",
   "execution_count": 153,
   "metadata": {},
   "outputs": [
    {
     "data": {
      "text/plain": [
       "array([ True,  True,  True,  True,  True,  True,  True,  True,  True,\n",
       "        True, False,  True,  True,  True,  True,  True,  True,  True,\n",
       "        True, False,  True,  True, False,  True,  True,  True,  True,\n",
       "        True,  True,  True,  True,  True])"
      ]
     },
     "execution_count": 153,
     "metadata": {},
     "output_type": "execute_result"
    }
   ],
   "source": [
    "lr_rfecv.support_"
   ]
  },
  {
   "cell_type": "code",
   "execution_count": 154,
   "metadata": {},
   "outputs": [
    {
     "data": {
      "text/plain": [
       "Index(['DEMOGRAPHICS_Female_Others_Others',\n",
       "       'DEMOGRAPHICS_Male_HighSchool_Others',\n",
       "       'DEMOGRAPHICS_Male_Others_Others'],\n",
       "      dtype='object')"
      ]
     },
     "execution_count": 154,
     "metadata": {},
     "output_type": "execute_result"
    }
   ],
   "source": [
    "x.iloc[:,np.where(lr_rfecv.support_==False)[0]].columns"
   ]
  },
  {
   "cell_type": "code",
   "execution_count": 155,
   "metadata": {},
   "outputs": [],
   "source": [
    "lr_xtrain=X_train.drop(['DEMOGRAPHICS_Female_Others_Others',\n",
    "       'DEMOGRAPHICS_Male_HighSchool_Others',\n",
    "       'DEMOGRAPHICS_Male_Others_Others'],axis=1)\n",
    "lr_xtest=X_test.drop(['DEMOGRAPHICS_Female_Others_Others',\n",
    "       'DEMOGRAPHICS_Male_HighSchool_Others',\n",
    "       'DEMOGRAPHICS_Male_Others_Others'],axis=1)"
   ]
  },
  {
   "cell_type": "code",
   "execution_count": 156,
   "metadata": {},
   "outputs": [],
   "source": [
    "lr_model_rfecv=lr.fit(lr_xtrain,y_train)\n",
    "ypred_lr_rfecv=lr_model_rfecv.predict(lr_xtest)"
   ]
  },
  {
   "cell_type": "code",
   "execution_count": 157,
   "metadata": {},
   "outputs": [
    {
     "name": "stdout",
     "output_type": "stream",
     "text": [
      "Cohen kappa Score: 0.33562628174867126\n",
      "Matthews coeff: 0.33563189902532686\n",
      "Roc Auc Score: 0.6683554959387389\n",
      "Accuracy Score: 0.7700650759219089\n",
      "              precision    recall  f1-score   support\n",
      "\n",
      "           0       0.85      0.85      0.85      4665\n",
      "           1       0.48      0.49      0.48      1328\n",
      "\n",
      "    accuracy                           0.77      5993\n",
      "   macro avg       0.67      0.67      0.67      5993\n",
      "weighted avg       0.77      0.77      0.77      5993\n",
      "\n",
      "[[3970  695]\n",
      " [ 683  645]]\n"
     ]
    }
   ],
   "source": [
    "print('Cohen kappa Score:',cohen_kappa_score(y_test,ypred_lr_rfecv))\n",
    "print('Matthews coeff:',matthews_corrcoef(y_test,ypred_lr_rfecv))\n",
    "print('Roc Auc Score:',roc_auc_score(y_test,ypred_lr_rfecv))\n",
    "print('Accuracy Score:',accuracy_score(y_test,ypred_lr_rfecv))\n",
    "print(classification_report(y_test,ypred_lr_rfecv))\n",
    "print(confusion_matrix(y_test,ypred_lr_rfecv))"
   ]
  },
  {
   "cell_type": "markdown",
   "metadata": {},
   "source": [
    "#### Decision Tree"
   ]
  },
  {
   "cell_type": "code",
   "execution_count": 158,
   "metadata": {},
   "outputs": [],
   "source": [
    "dt_rfecv=RFECV(estimator=dt,step=1,cv=StratifiedKFold(5,random_state=0),scoring='f1_weighted')"
   ]
  },
  {
   "cell_type": "code",
   "execution_count": 159,
   "metadata": {},
   "outputs": [
    {
     "data": {
      "text/plain": [
       "RFECV(cv=StratifiedKFold(n_splits=5, random_state=0, shuffle=False),\n",
       "      estimator=DecisionTreeClassifier(ccp_alpha=0.0, class_weight=None,\n",
       "                                       criterion='gini', max_depth=None,\n",
       "                                       max_features=None, max_leaf_nodes=None,\n",
       "                                       min_impurity_decrease=0.0,\n",
       "                                       min_impurity_split=None,\n",
       "                                       min_samples_leaf=1, min_samples_split=2,\n",
       "                                       min_weight_fraction_leaf=0.0,\n",
       "                                       presort='deprecated', random_state=None,\n",
       "                                       splitter='best'),\n",
       "      min_features_to_select=1, n_jobs=None, scoring='f1_weighted', step=1,\n",
       "      verbose=0)"
      ]
     },
     "execution_count": 159,
     "metadata": {},
     "output_type": "execute_result"
    }
   ],
   "source": [
    "dt_rfecv.fit(X_train,y_train)"
   ]
  },
  {
   "cell_type": "code",
   "execution_count": 160,
   "metadata": {},
   "outputs": [
    {
     "data": {
      "text/plain": [
       "7"
      ]
     },
     "execution_count": 160,
     "metadata": {},
     "output_type": "execute_result"
    }
   ],
   "source": [
    "dt_rfecv.n_features_"
   ]
  },
  {
   "cell_type": "code",
   "execution_count": 161,
   "metadata": {},
   "outputs": [
    {
     "data": {
      "text/plain": [
       "array([ True,  True,  True,  True, False, False, False, False, False,\n",
       "       False, False, False,  True, False,  True, False, False, False,\n",
       "       False, False, False, False, False, False, False, False, False,\n",
       "       False,  True, False, False, False])"
      ]
     },
     "execution_count": 161,
     "metadata": {},
     "output_type": "execute_result"
    }
   ],
   "source": [
    "dt_rfecv.support_"
   ]
  },
  {
   "cell_type": "code",
   "execution_count": 162,
   "metadata": {},
   "outputs": [
    {
     "data": {
      "text/plain": [
       "Index(['DEMOGRAPHICS_Female_GraduateSchool_Others',\n",
       "       'DEMOGRAPHICS_Female_GraduateSchool_Single',\n",
       "       'DEMOGRAPHICS_Female_HighSchool_Married',\n",
       "       'DEMOGRAPHICS_Female_HighSchool_Others',\n",
       "       'DEMOGRAPHICS_Female_HighSchool_Single',\n",
       "       'DEMOGRAPHICS_Female_Others_Married',\n",
       "       'DEMOGRAPHICS_Female_Others_Others',\n",
       "       'DEMOGRAPHICS_Female_Others_Single',\n",
       "       'DEMOGRAPHICS_Female_University_Others',\n",
       "       'DEMOGRAPHICS_Male_GraduateSchool_Married',\n",
       "       'DEMOGRAPHICS_Male_GraduateSchool_Others',\n",
       "       'DEMOGRAPHICS_Male_GraduateSchool_Single',\n",
       "       'DEMOGRAPHICS_Male_HighSchool_Married',\n",
       "       'DEMOGRAPHICS_Male_HighSchool_Others',\n",
       "       'DEMOGRAPHICS_Male_HighSchool_Single',\n",
       "       'DEMOGRAPHICS_Male_Others_Married', 'DEMOGRAPHICS_Male_Others_Others',\n",
       "       'DEMOGRAPHICS_Male_Others_Single',\n",
       "       'DEMOGRAPHICS_Male_University_Married',\n",
       "       'DEMOGRAPHICS_Male_University_Others',\n",
       "       'DEMOGRAPHICS_Male_University_Single', 'Age_Category_Senior Citizens',\n",
       "       'Credit_Limit_Category_Low Limit Holder',\n",
       "       'Credit_Limit_Category_Medium Limit Holder',\n",
       "       'Credit_Limit_Category_Very High Limit Holder'],\n",
       "      dtype='object')"
      ]
     },
     "execution_count": 162,
     "metadata": {},
     "output_type": "execute_result"
    }
   ],
   "source": [
    "x.iloc[:,np.where(dt_rfecv.support_==False)[0]].columns"
   ]
  },
  {
   "cell_type": "code",
   "execution_count": 163,
   "metadata": {},
   "outputs": [],
   "source": [
    "dt_xtrain=X_train.drop(['DEMOGRAPHICS_Female_GraduateSchool_Others',\n",
    "       'DEMOGRAPHICS_Female_GraduateSchool_Single',\n",
    "       'DEMOGRAPHICS_Female_HighSchool_Married',\n",
    "       'DEMOGRAPHICS_Female_HighSchool_Others',\n",
    "       'DEMOGRAPHICS_Female_HighSchool_Single',\n",
    "       'DEMOGRAPHICS_Female_Others_Married',\n",
    "       'DEMOGRAPHICS_Female_Others_Others',\n",
    "       'DEMOGRAPHICS_Female_Others_Single',\n",
    "       'DEMOGRAPHICS_Female_University_Others',\n",
    "       'DEMOGRAPHICS_Male_GraduateSchool_Married',\n",
    "       'DEMOGRAPHICS_Male_GraduateSchool_Others',\n",
    "       'DEMOGRAPHICS_Male_GraduateSchool_Single',\n",
    "       'DEMOGRAPHICS_Male_HighSchool_Married',\n",
    "       'DEMOGRAPHICS_Male_HighSchool_Others',\n",
    "       'DEMOGRAPHICS_Male_HighSchool_Single',\n",
    "       'DEMOGRAPHICS_Male_Others_Married', 'DEMOGRAPHICS_Male_Others_Others',\n",
    "       'DEMOGRAPHICS_Male_Others_Single',\n",
    "       'DEMOGRAPHICS_Male_University_Married',\n",
    "       'DEMOGRAPHICS_Male_University_Others',\n",
    "       'DEMOGRAPHICS_Male_University_Single', 'Age_Category_Senior Citizens',\n",
    "       'Credit_Limit_Category_Low Limit Holder',\n",
    "       'Credit_Limit_Category_Medium Limit Holder',\n",
    "       'Credit_Limit_Category_Very High Limit Holder'],axis=1)\n",
    "dt_xtest=X_test.drop(['DEMOGRAPHICS_Female_GraduateSchool_Others',\n",
    "       'DEMOGRAPHICS_Female_GraduateSchool_Single',\n",
    "       'DEMOGRAPHICS_Female_HighSchool_Married',\n",
    "       'DEMOGRAPHICS_Female_HighSchool_Others',\n",
    "       'DEMOGRAPHICS_Female_HighSchool_Single',\n",
    "       'DEMOGRAPHICS_Female_Others_Married',\n",
    "       'DEMOGRAPHICS_Female_Others_Others',\n",
    "       'DEMOGRAPHICS_Female_Others_Single',\n",
    "       'DEMOGRAPHICS_Female_University_Others',\n",
    "       'DEMOGRAPHICS_Male_GraduateSchool_Married',\n",
    "       'DEMOGRAPHICS_Male_GraduateSchool_Others',\n",
    "       'DEMOGRAPHICS_Male_GraduateSchool_Single',\n",
    "       'DEMOGRAPHICS_Male_HighSchool_Married',\n",
    "       'DEMOGRAPHICS_Male_HighSchool_Others',\n",
    "       'DEMOGRAPHICS_Male_HighSchool_Single',\n",
    "       'DEMOGRAPHICS_Male_Others_Married', 'DEMOGRAPHICS_Male_Others_Others',\n",
    "       'DEMOGRAPHICS_Male_Others_Single',\n",
    "       'DEMOGRAPHICS_Male_University_Married',\n",
    "       'DEMOGRAPHICS_Male_University_Others',\n",
    "       'DEMOGRAPHICS_Male_University_Single', 'Age_Category_Senior Citizens',\n",
    "       'Credit_Limit_Category_Low Limit Holder',\n",
    "       'Credit_Limit_Category_Medium Limit Holder',\n",
    "       'Credit_Limit_Category_Very High Limit Holder'],axis=1)"
   ]
  },
  {
   "cell_type": "code",
   "execution_count": 164,
   "metadata": {},
   "outputs": [],
   "source": [
    "dt_rfecv=dt.fit(dt_xtrain,y_train)\n",
    "ypred_dt_rfecv=dt_rfecv.predict(dt_xtest)"
   ]
  },
  {
   "cell_type": "code",
   "execution_count": 165,
   "metadata": {},
   "outputs": [
    {
     "name": "stdout",
     "output_type": "stream",
     "text": [
      "Cohen kappa Score: 0.19677757600763168\n",
      "Matthews coeff: 0.19687526828190904\n",
      "Roc Auc Score: 0.5966928808481515\n",
      "Accuracy Score: 0.7276822960120141\n",
      "              precision    recall  f1-score   support\n",
      "\n",
      "           0       0.82      0.83      0.83      4665\n",
      "           1       0.38      0.36      0.37      1328\n",
      "\n",
      "    accuracy                           0.73      5993\n",
      "   macro avg       0.60      0.60      0.60      5993\n",
      "weighted avg       0.72      0.73      0.73      5993\n",
      "\n",
      "[[3881  784]\n",
      " [ 848  480]]\n"
     ]
    }
   ],
   "source": [
    "print('Cohen kappa Score:',cohen_kappa_score(y_test,ypred_dt_rfecv))\n",
    "print('Matthews coeff:',matthews_corrcoef(y_test,ypred_dt_rfecv))\n",
    "print('Roc Auc Score:',roc_auc_score(y_test,ypred_dt_rfecv))\n",
    "print('Accuracy Score:',accuracy_score(y_test,ypred_dt_rfecv))\n",
    "print(classification_report(y_test,ypred_dt_rfecv))\n",
    "print(confusion_matrix(y_test,ypred_dt_rfecv))"
   ]
  },
  {
   "cell_type": "markdown",
   "metadata": {},
   "source": [
    "#### Random Forest"
   ]
  },
  {
   "cell_type": "code",
   "execution_count": 166,
   "metadata": {},
   "outputs": [],
   "source": [
    "rf_rfecv=RFECV(estimator=rf,step=1,cv=StratifiedKFold(5,random_state=0),scoring='f1_weighted')"
   ]
  },
  {
   "cell_type": "code",
   "execution_count": 167,
   "metadata": {},
   "outputs": [
    {
     "data": {
      "text/plain": [
       "RFECV(cv=StratifiedKFold(n_splits=5, random_state=0, shuffle=False),\n",
       "      estimator=RandomForestClassifier(bootstrap=True, ccp_alpha=0.0,\n",
       "                                       class_weight=None, criterion='gini',\n",
       "                                       max_depth=None, max_features='auto',\n",
       "                                       max_leaf_nodes=None, max_samples=None,\n",
       "                                       min_impurity_decrease=0.0,\n",
       "                                       min_impurity_split=None,\n",
       "                                       min_samples_leaf=1, min_samples_split=2,\n",
       "                                       min_weight_fraction_leaf=0.0,\n",
       "                                       n_estimators=100, n_jobs=None,\n",
       "                                       oob_score=False, random_state=None,\n",
       "                                       verbose=0, warm_start=False),\n",
       "      min_features_to_select=1, n_jobs=None, scoring='f1_weighted', step=1,\n",
       "      verbose=0)"
      ]
     },
     "execution_count": 167,
     "metadata": {},
     "output_type": "execute_result"
    }
   ],
   "source": [
    "rf_rfecv.fit(X_train,y_train)"
   ]
  },
  {
   "cell_type": "code",
   "execution_count": 168,
   "metadata": {},
   "outputs": [
    {
     "data": {
      "text/plain": [
       "32"
      ]
     },
     "execution_count": 168,
     "metadata": {},
     "output_type": "execute_result"
    }
   ],
   "source": [
    "rf_rfecv.n_features_"
   ]
  },
  {
   "cell_type": "code",
   "execution_count": 169,
   "metadata": {},
   "outputs": [
    {
     "data": {
      "text/plain": [
       "array([ True,  True,  True,  True,  True,  True,  True,  True,  True,\n",
       "        True,  True,  True,  True,  True,  True,  True,  True,  True,\n",
       "        True,  True,  True,  True,  True,  True,  True,  True,  True,\n",
       "        True,  True,  True,  True,  True])"
      ]
     },
     "execution_count": 169,
     "metadata": {},
     "output_type": "execute_result"
    }
   ],
   "source": [
    "rf_rfecv.support_"
   ]
  },
  {
   "cell_type": "code",
   "execution_count": null,
   "metadata": {},
   "outputs": [],
   "source": [
    "x.iloc[:,np.where(rf_rfecv.support_==False)[0]].columns"
   ]
  },
  {
   "cell_type": "code",
   "execution_count": null,
   "metadata": {},
   "outputs": [],
   "source": [
    "rf_xtrain=X_train.drop(['DEMOGRAPHICS_Female_GraduateSchool_Others',\n",
    "       'DEMOGRAPHICS_Female_Others_Others',\n",
    "       'DEMOGRAPHICS_Male_GraduateSchool_Others',\n",
    "       'DEMOGRAPHICS_Male_Others_Married', 'DEMOGRAPHICS_Male_Others_Others',\n",
    "       'Credit_Limit_Category_Very High Limit Holder'],axis=1)\n",
    "rf_xtest=X_test.drop(['DEMOGRAPHICS_Female_GraduateSchool_Others',\n",
    "       'DEMOGRAPHICS_Female_Others_Others',\n",
    "       'DEMOGRAPHICS_Male_GraduateSchool_Others',\n",
    "       'DEMOGRAPHICS_Male_Others_Married', 'DEMOGRAPHICS_Male_Others_Others',\n",
    "       'Credit_Limit_Category_Very High Limit Holder'],axis=1)"
   ]
  },
  {
   "cell_type": "code",
   "execution_count": null,
   "metadata": {},
   "outputs": [],
   "source": [
    "rf_rfecv=rf.fit(rf_xtrain,y_train)\n",
    "ypred_rf_rfecv=rf_rfecv.predict(rf_xtest)"
   ]
  },
  {
   "cell_type": "code",
   "execution_count": null,
   "metadata": {},
   "outputs": [],
   "source": [
    "print('Cohen kappa Score:',cohen_kappa_score(y_test,ypred_rf_rfecv))\n",
    "print('Matthews coeff:',matthews_corrcoef(y_test,ypred_rf_rfecv))\n",
    "print('Roc Auc Score:',roc_auc_score(y_test,ypred_rf_rfecv))\n",
    "print('Accuracy Score:',accuracy_score(y_test,ypred_rf_rfecv))\n",
    "print(classification_report(y_test,ypred_rf_rfecv))\n",
    "print(confusion_matrix(y_test,ypred_rf_rfecv))"
   ]
  },
  {
   "cell_type": "markdown",
   "metadata": {},
   "source": [
    "## SMOTE"
   ]
  },
  {
   "cell_type": "code",
   "execution_count": 170,
   "metadata": {},
   "outputs": [],
   "source": [
    "from imblearn.combine import SMOTETomek"
   ]
  },
  {
   "cell_type": "code",
   "execution_count": 171,
   "metadata": {},
   "outputs": [],
   "source": [
    "smt=SMOTETomek(random_state=42)"
   ]
  },
  {
   "cell_type": "code",
   "execution_count": 172,
   "metadata": {},
   "outputs": [],
   "source": [
    "x=df.drop('DEFAULT',axis=1)\n",
    "y=df['DEFAULT']"
   ]
  },
  {
   "cell_type": "code",
   "execution_count": 173,
   "metadata": {},
   "outputs": [],
   "source": [
    "x_smote,y_smote=smt.fit_sample(x,y)"
   ]
  },
  {
   "cell_type": "code",
   "execution_count": 174,
   "metadata": {},
   "outputs": [],
   "source": [
    "from collections import Counter"
   ]
  },
  {
   "cell_type": "code",
   "execution_count": 175,
   "metadata": {},
   "outputs": [
    {
     "name": "stdout",
     "output_type": "stream",
     "text": [
      "Orignal Data CountCounter({0: 23335, 1: 6630})\n",
      "Revised Data CountCounter({1: 21589, 0: 21589})\n"
     ]
    }
   ],
   "source": [
    "print(\"Orignal Data Count{}\".format(Counter(df[\"DEFAULT\"])))\n",
    "print(\"Revised Data Count{}\".format(Counter(y_smote)))"
   ]
  },
  {
   "cell_type": "code",
   "execution_count": 176,
   "metadata": {},
   "outputs": [],
   "source": [
    "X_train, X_test, y_train, y_test = train_test_split(x_smote,y_smote,test_size=0.2,random_state=42)"
   ]
  },
  {
   "cell_type": "markdown",
   "metadata": {},
   "source": [
    "#### Logistic Regression"
   ]
  },
  {
   "cell_type": "code",
   "execution_count": 177,
   "metadata": {},
   "outputs": [],
   "source": [
    "lr_model_smt=lr.fit(X_train,y_train)\n",
    "lr_model_smt_pred=lr_model_smt.predict(X_test)"
   ]
  },
  {
   "cell_type": "code",
   "execution_count": 178,
   "metadata": {},
   "outputs": [
    {
     "name": "stdout",
     "output_type": "stream",
     "text": [
      "Mean weighted F1-score in LR after SMOTE TOMEK 0.44755415375732693\n",
      "Bias Error in LR after SMOTE TOMEK 0.5524458462426731\n",
      "Variance Error in LR after SMOTE TOMEK 0.003495617281689248\n",
      "Cohen kappa Score: 0.11057457280983685\n",
      "Matthews coeff: 0.11860505186010677\n",
      "Roc Auc Score: 0.5552225248603803\n",
      "Accuracy Score: 0.555812876331635\n",
      "              precision    recall  f1-score   support\n",
      "\n",
      "           0       0.59      0.37      0.46      4304\n",
      "           1       0.54      0.74      0.62      4332\n",
      "\n",
      "    accuracy                           0.56      8636\n",
      "   macro avg       0.56      0.56      0.54      8636\n",
      "weighted avg       0.56      0.56      0.54      8636\n",
      "\n",
      "[[1606 2698]\n",
      " [1138 3194]]\n"
     ]
    }
   ],
   "source": [
    "kfolds=model_selection.KFold(n_splits=10,random_state=1)\n",
    "r_scores=cross_val_score(lr,X_train,y_train,cv=kfolds, scoring='f1_weighted')\n",
    "print('Mean weighted F1-score in LR after SMOTE TOMEK', r_scores.mean())\n",
    "print('Bias Error in LR after SMOTE TOMEK',1-r_scores.mean())\n",
    "print('Variance Error in LR after SMOTE TOMEK',r_scores.var())\n",
    "print('Cohen kappa Score:',cohen_kappa_score(y_test,lr_model_smt_pred))\n",
    "print('Matthews coeff:',matthews_corrcoef(y_test,lr_model_smt_pred))\n",
    "print('Roc Auc Score:',roc_auc_score(y_test,lr_model_smt_pred))\n",
    "print('Accuracy Score:',accuracy_score(y_test,lr_model_smt_pred))\n",
    "print(classification_report(y_test,lr_model_smt_pred))\n",
    "print(confusion_matrix(y_test,lr_model_smt_pred))"
   ]
  },
  {
   "cell_type": "markdown",
   "metadata": {},
   "source": [
    "#### Decision Tree"
   ]
  },
  {
   "cell_type": "code",
   "execution_count": 179,
   "metadata": {},
   "outputs": [],
   "source": [
    "dt_model_smt=dt.fit(X_train,y_train)\n",
    "dt_model_smt_pred=dt_model_smt.predict(X_test)"
   ]
  },
  {
   "cell_type": "code",
   "execution_count": 180,
   "metadata": {},
   "outputs": [
    {
     "name": "stdout",
     "output_type": "stream",
     "text": [
      "Mean weighted F1-score in DT after SMOTE TOMEK 0.8150899660803399\n",
      "Bias Error in DT after SMOTE TOMEK 0.1849100339196601\n",
      "Variance Error in DT after SMOTE TOMEK 3.4164228773330954e-05\n",
      "Cohen kappa Score: 0.6368383799742925\n",
      "Matthews coeff: 0.6370024869349984\n",
      "Roc Auc Score: 0.8183957588894952\n",
      "Accuracy Score: 0.8184344603983326\n",
      "              precision    recall  f1-score   support\n",
      "\n",
      "           0       0.83      0.81      0.82      4304\n",
      "           1       0.81      0.83      0.82      4332\n",
      "\n",
      "    accuracy                           0.82      8636\n",
      "   macro avg       0.82      0.82      0.82      8636\n",
      "weighted avg       0.82      0.82      0.82      8636\n",
      "\n",
      "[[3471  833]\n",
      " [ 735 3597]]\n"
     ]
    }
   ],
   "source": [
    "kfolds=model_selection.KFold(n_splits=10,random_state=1)\n",
    "r_scores=cross_val_score(dt,X_train,y_train,cv=kfolds, scoring='f1_weighted')\n",
    "print('Mean weighted F1-score in DT after SMOTE TOMEK', r_scores.mean())\n",
    "print('Bias Error in DT after SMOTE TOMEK',1-r_scores.mean())\n",
    "print('Variance Error in DT after SMOTE TOMEK',r_scores.var())\n",
    "print('Cohen kappa Score:',cohen_kappa_score(y_test,dt_model_smt_pred))\n",
    "print('Matthews coeff:',matthews_corrcoef(y_test,dt_model_smt_pred))\n",
    "print('Roc Auc Score:',roc_auc_score(y_test,dt_model_smt_pred))\n",
    "print('Accuracy Score:',accuracy_score(y_test,dt_model_smt_pred))\n",
    "print(classification_report(y_test,dt_model_smt_pred))\n",
    "print(confusion_matrix(y_test,dt_model_smt_pred))"
   ]
  },
  {
   "cell_type": "markdown",
   "metadata": {},
   "source": [
    "#### Random Forest"
   ]
  },
  {
   "cell_type": "code",
   "execution_count": 181,
   "metadata": {},
   "outputs": [],
   "source": [
    "rf_model_smt=rf.fit(X_train,y_train)\n",
    "rf_model_smt_pred=rf_model_smt.predict(X_test)"
   ]
  },
  {
   "cell_type": "code",
   "execution_count": 182,
   "metadata": {},
   "outputs": [
    {
     "name": "stdout",
     "output_type": "stream",
     "text": [
      "Mean weighted F1-score in RF after SMOTE TOMEK 0.8623357592756788\n",
      "Bias Error in Rf after SMOTE TOMEK 0.13766424072432115\n",
      "Variance Error in RF after SMOTE TOMEK 1.7986021311092492e-05\n",
      "Cohen kappa Score: 0.7369642197192754\n",
      "Matthews coeff: 0.7383240751528835\n",
      "Roc Auc Score: 0.868554601015354\n",
      "Accuracy Score: 0.8684576192681797\n",
      "              precision    recall  f1-score   support\n",
      "\n",
      "           0       0.85      0.90      0.87      4304\n",
      "           1       0.89      0.84      0.86      4332\n",
      "\n",
      "    accuracy                           0.87      8636\n",
      "   macro avg       0.87      0.87      0.87      8636\n",
      "weighted avg       0.87      0.87      0.87      8636\n",
      "\n",
      "[[3867  437]\n",
      " [ 699 3633]]\n"
     ]
    }
   ],
   "source": [
    "kfolds=model_selection.KFold(n_splits=10,random_state=1)\n",
    "r_scores=cross_val_score(rf,X_train,y_train,cv=kfolds, scoring='f1_weighted')\n",
    "print('Mean weighted F1-score in RF after SMOTE TOMEK', r_scores.mean())\n",
    "print('Bias Error in Rf after SMOTE TOMEK',1-r_scores.mean())\n",
    "print('Variance Error in RF after SMOTE TOMEK',r_scores.var())\n",
    "print('Cohen kappa Score:',cohen_kappa_score(y_test,rf_model_smt_pred))\n",
    "print('Matthews coeff:',matthews_corrcoef(y_test,rf_model_smt_pred))\n",
    "print('Roc Auc Score:',roc_auc_score(y_test,rf_model_smt_pred))\n",
    "print('Accuracy Score:',accuracy_score(y_test,rf_model_smt_pred))\n",
    "print(classification_report(y_test,rf_model_smt_pred))\n",
    "print(confusion_matrix(y_test,rf_model_smt_pred))"
   ]
  },
  {
   "cell_type": "markdown",
   "metadata": {},
   "source": [
    "#### Naive Bayes"
   ]
  },
  {
   "cell_type": "code",
   "execution_count": 183,
   "metadata": {},
   "outputs": [],
   "source": [
    "nb_model_smt=nb.fit(X_train,y_train)\n",
    "nb_model_smt_pred=nb_model_smt.predict(X_test)"
   ]
  },
  {
   "cell_type": "code",
   "execution_count": 184,
   "metadata": {},
   "outputs": [
    {
     "name": "stdout",
     "output_type": "stream",
     "text": [
      "Mean weighted F1-score in NB after SMOTE TOMEK 0.4953289294004034\n",
      "Bias Error in NB after SMOTE TOMEK 0.5046710705995966\n",
      "Variance Error in NB after SMOTE TOMEK 0.00011804774273300954\n",
      "Cohen kappa Score: 0.12664122556024737\n",
      "Matthews coeff: 0.19081010482975877\n",
      "Roc Auc Score: 0.5631674201155403\n",
      "Accuracy Score: 0.564381658175081\n",
      "              precision    recall  f1-score   support\n",
      "\n",
      "           0       0.75      0.19      0.30      4304\n",
      "           1       0.54      0.94      0.68      4332\n",
      "\n",
      "    accuracy                           0.56      8636\n",
      "   macro avg       0.64      0.56      0.49      8636\n",
      "weighted avg       0.64      0.56      0.49      8636\n",
      "\n",
      "[[ 812 3492]\n",
      " [ 270 4062]]\n"
     ]
    }
   ],
   "source": [
    "kfolds=model_selection.KFold(n_splits=10,random_state=1)\n",
    "r_scores=cross_val_score(nb,X_train,y_train,cv=kfolds, scoring='f1_weighted')\n",
    "print('Mean weighted F1-score in NB after SMOTE TOMEK', r_scores.mean())\n",
    "print('Bias Error in NB after SMOTE TOMEK',1-r_scores.mean())\n",
    "print('Variance Error in NB after SMOTE TOMEK',r_scores.var())\n",
    "print('Cohen kappa Score:',cohen_kappa_score(y_test,nb_model_smt_pred))\n",
    "print('Matthews coeff:',matthews_corrcoef(y_test,nb_model_smt_pred))\n",
    "print('Roc Auc Score:',roc_auc_score(y_test,nb_model_smt_pred))\n",
    "print('Accuracy Score:',accuracy_score(y_test,nb_model_smt_pred))\n",
    "print(classification_report(y_test,nb_model_smt_pred))\n",
    "print(confusion_matrix(y_test,nb_model_smt_pred))"
   ]
  },
  {
   "cell_type": "markdown",
   "metadata": {},
   "source": [
    "## KNN"
   ]
  },
  {
   "cell_type": "code",
   "execution_count": 185,
   "metadata": {},
   "outputs": [],
   "source": [
    "sc=StandardScaler()"
   ]
  },
  {
   "cell_type": "code",
   "execution_count": 186,
   "metadata": {},
   "outputs": [],
   "source": [
    "xsmote_scaled=sc.fit_transform(x_smote)"
   ]
  },
  {
   "cell_type": "code",
   "execution_count": 187,
   "metadata": {},
   "outputs": [],
   "source": [
    "X_train_ssc, X_test, y_train_ssc, y_test = train_test_split(xsmote_scaled,y_smote,test_size=0.3,random_state=42)"
   ]
  },
  {
   "cell_type": "code",
   "execution_count": 188,
   "metadata": {},
   "outputs": [],
   "source": [
    "knn=KNeighborsClassifier()"
   ]
  },
  {
   "cell_type": "code",
   "execution_count": 189,
   "metadata": {},
   "outputs": [],
   "source": [
    "knn_model_smt=knn.fit(X_train_ssc,y_train_ssc)\n",
    "knn_model_smt_pred=nb_model_smt.predict(X_test)"
   ]
  },
  {
   "cell_type": "code",
   "execution_count": 190,
   "metadata": {},
   "outputs": [
    {
     "name": "stdout",
     "output_type": "stream",
     "text": [
      "Mean weighted F1-score in NB after SMOTE TOMEK 0.8042463264863299\n",
      "Bias Error in NB after SMOTE TOMEK 0.19575367351367012\n",
      "Variance Error in NB after SMOTE TOMEK 8.547428783355833e-05\n",
      "Cohen kappa Score: 0.0\n",
      "Matthews coeff: 0.0\n",
      "Roc Auc Score: 0.5\n",
      "Accuracy Score: 0.4991508414389378\n",
      "              precision    recall  f1-score   support\n",
      "\n",
      "           0       0.00      0.00      0.00      6488\n",
      "           1       0.50      1.00      0.67      6466\n",
      "\n",
      "    accuracy                           0.50     12954\n",
      "   macro avg       0.25      0.50      0.33     12954\n",
      "weighted avg       0.25      0.50      0.33     12954\n",
      "\n",
      "[[   0 6488]\n",
      " [   0 6466]]\n"
     ]
    }
   ],
   "source": [
    "kfolds=model_selection.KFold(n_splits=10,random_state=1)\n",
    "r_scores=cross_val_score(knn,X_train_ssc,y_train_ssc,cv=kfolds, scoring='f1_weighted')\n",
    "print('Mean weighted F1-score in NB after SMOTE TOMEK', r_scores.mean())\n",
    "print('Bias Error in NB after SMOTE TOMEK',1-r_scores.mean())\n",
    "print('Variance Error in NB after SMOTE TOMEK',r_scores.var())\n",
    "print('Cohen kappa Score:',cohen_kappa_score(y_test,knn_model_smt_pred))\n",
    "print('Matthews coeff:',matthews_corrcoef(y_test,knn_model_smt_pred))\n",
    "print('Roc Auc Score:',roc_auc_score(y_test,knn_model_smt_pred))\n",
    "print('Accuracy Score:',accuracy_score(y_test,knn_model_smt_pred))\n",
    "print(classification_report(y_test,knn_model_smt_pred))\n",
    "print(confusion_matrix(y_test,knn_model_smt_pred))"
   ]
  },
  {
   "cell_type": "markdown",
   "metadata": {},
   "source": [
    "# Feature Engineering After dropping anomalies"
   ]
  },
  {
   "cell_type": "markdown",
   "metadata": {},
   "source": [
    "Finding the Non_defaulters i.e those customers who are paying the bill on time but still classified as defaulters . We will drop those customers in order to predict better."
   ]
  },
  {
   "cell_type": "code",
   "execution_count": 191,
   "metadata": {},
   "outputs": [
    {
     "data": {
      "text/plain": [
       "(2024, 33)"
      ]
     },
     "execution_count": 191,
     "metadata": {},
     "output_type": "execute_result"
    }
   ],
   "source": [
    "Non_defaulters=(df['TOTAL_RISK_VALUE']<0) & (df['DEFAULT']==1)\n",
    "ND=df.loc[Non_defaulters,:]\n",
    "ND.shape"
   ]
  },
  {
   "cell_type": "code",
   "execution_count": 192,
   "metadata": {},
   "outputs": [],
   "source": [
    "nd=df.loc[Non_defaulters].index"
   ]
  },
  {
   "cell_type": "code",
   "execution_count": 193,
   "metadata": {},
   "outputs": [],
   "source": [
    "df.drop(nd,inplace=True)"
   ]
  },
  {
   "cell_type": "code",
   "execution_count": 194,
   "metadata": {},
   "outputs": [
    {
     "data": {
      "text/plain": [
       "(27941, 33)"
      ]
     },
     "execution_count": 194,
     "metadata": {},
     "output_type": "execute_result"
    }
   ],
   "source": [
    "df.shape"
   ]
  },
  {
   "cell_type": "code",
   "execution_count": 195,
   "metadata": {},
   "outputs": [
    {
     "data": {
      "text/plain": [
       "0    0.835153\n",
       "1    0.164847\n",
       "Name: DEFAULT, dtype: float64"
      ]
     },
     "execution_count": 195,
     "metadata": {},
     "output_type": "execute_result"
    }
   ],
   "source": [
    "df['DEFAULT'].value_counts(1)"
   ]
  },
  {
   "cell_type": "markdown",
   "metadata": {},
   "source": [
    "### Logistic Regression"
   ]
  },
  {
   "cell_type": "code",
   "execution_count": 196,
   "metadata": {},
   "outputs": [],
   "source": [
    "from sklearn.linear_model import LogisticRegression"
   ]
  },
  {
   "cell_type": "code",
   "execution_count": 197,
   "metadata": {},
   "outputs": [],
   "source": [
    "lr=LogisticRegression(class_weight=({1:80,0:20}))"
   ]
  },
  {
   "cell_type": "code",
   "execution_count": 198,
   "metadata": {},
   "outputs": [],
   "source": [
    "x=df.drop('DEFAULT',axis=1)\n",
    "y=df['DEFAULT']"
   ]
  },
  {
   "cell_type": "code",
   "execution_count": 199,
   "metadata": {},
   "outputs": [],
   "source": [
    "X_train, X_test, y_train, y_test = train_test_split(x,y,test_size=0.3,random_state=1)"
   ]
  },
  {
   "cell_type": "code",
   "execution_count": 200,
   "metadata": {},
   "outputs": [],
   "source": [
    "lr_model=lr.fit(X_train,y_train)\n",
    "ypred_lr=lr_model.predict(X_test)"
   ]
  },
  {
   "cell_type": "code",
   "execution_count": 201,
   "metadata": {},
   "outputs": [
    {
     "name": "stdout",
     "output_type": "stream",
     "text": [
      "Cohen kappa Score: 0.4734320074997028\n",
      "Matthews coeff: 0.4863607776855101\n",
      "Roc Auc Score: 0.7797923775690353\n",
      "Accuracy Score: 0.8294166766074198\n",
      "              precision    recall  f1-score   support\n",
      "\n",
      "           0       0.94      0.85      0.89      7009\n",
      "           1       0.49      0.71      0.58      1374\n",
      "\n",
      "    accuracy                           0.83      8383\n",
      "   macro avg       0.71      0.78      0.73      8383\n",
      "weighted avg       0.86      0.83      0.84      8383\n",
      "\n",
      "[[5983 1026]\n",
      " [ 404  970]]\n"
     ]
    }
   ],
   "source": [
    "print('Cohen kappa Score:',cohen_kappa_score(y_test,ypred_lr))\n",
    "print('Matthews coeff:',matthews_corrcoef(y_test,ypred_lr))\n",
    "print('Roc Auc Score:',roc_auc_score(y_test,ypred_lr))\n",
    "print('Accuracy Score:',accuracy_score(y_test,ypred_lr))\n",
    "print(classification_report(y_test,ypred_lr))\n",
    "print(confusion_matrix(y_test,ypred_lr))"
   ]
  },
  {
   "cell_type": "markdown",
   "metadata": {},
   "source": [
    "### Decision Tree"
   ]
  },
  {
   "cell_type": "code",
   "execution_count": 202,
   "metadata": {},
   "outputs": [],
   "source": [
    "from sklearn.tree import DecisionTreeClassifier"
   ]
  },
  {
   "cell_type": "code",
   "execution_count": 203,
   "metadata": {},
   "outputs": [],
   "source": [
    "dt=DecisionTreeClassifier()"
   ]
  },
  {
   "cell_type": "code",
   "execution_count": 204,
   "metadata": {},
   "outputs": [],
   "source": [
    "dt_model=dt.fit(X_train,y_train)\n",
    "ypred_dt=dt_model.predict(X_test)"
   ]
  },
  {
   "cell_type": "code",
   "execution_count": 205,
   "metadata": {},
   "outputs": [
    {
     "name": "stdout",
     "output_type": "stream",
     "text": [
      "Cohen kappa Score: 0.33482894541023667\n",
      "Matthews coeff: 0.33483601898917736\n",
      "Roc Auc Score: 0.6681491648396333\n",
      "Accuracy Score: 0.8168913276869856\n",
      "              precision    recall  f1-score   support\n",
      "\n",
      "           0       0.89      0.89      0.89      7009\n",
      "           1       0.44      0.45      0.44      1374\n",
      "\n",
      "    accuracy                           0.82      8383\n",
      "   macro avg       0.67      0.67      0.67      8383\n",
      "weighted avg       0.82      0.82      0.82      8383\n",
      "\n",
      "[[6234  775]\n",
      " [ 760  614]]\n"
     ]
    }
   ],
   "source": [
    "print('Cohen kappa Score:',cohen_kappa_score(y_test,ypred_dt))\n",
    "print('Matthews coeff:',matthews_corrcoef(y_test,ypred_dt))\n",
    "print('Roc Auc Score:',roc_auc_score(y_test,ypred_dt))\n",
    "print('Accuracy Score:',accuracy_score(y_test,ypred_dt))\n",
    "print(classification_report(y_test,ypred_dt))\n",
    "print(confusion_matrix(y_test,ypred_dt))"
   ]
  },
  {
   "cell_type": "markdown",
   "metadata": {},
   "source": [
    "### Random Forest"
   ]
  },
  {
   "cell_type": "code",
   "execution_count": 206,
   "metadata": {},
   "outputs": [],
   "source": [
    "from sklearn.ensemble import RandomForestClassifier"
   ]
  },
  {
   "cell_type": "code",
   "execution_count": 207,
   "metadata": {},
   "outputs": [],
   "source": [
    "rf=RandomForestClassifier()"
   ]
  },
  {
   "cell_type": "code",
   "execution_count": 208,
   "metadata": {},
   "outputs": [],
   "source": [
    "rf_model=rf.fit(X_train,y_train)\n",
    "ypred_rf=rf_model.predict(X_test)"
   ]
  },
  {
   "cell_type": "code",
   "execution_count": 209,
   "metadata": {},
   "outputs": [
    {
     "name": "stdout",
     "output_type": "stream",
     "text": [
      "Cohen kappa Score: 0.3726105016290088\n",
      "Matthews coeff: 0.38047004606866636\n",
      "Roc Auc Score: 0.6640121984979596\n",
      "Accuracy Score: 0.8486222116187523\n",
      "              precision    recall  f1-score   support\n",
      "\n",
      "           0       0.89      0.94      0.91      7009\n",
      "           1       0.55      0.39      0.46      1374\n",
      "\n",
      "    accuracy                           0.85      8383\n",
      "   macro avg       0.72      0.66      0.68      8383\n",
      "weighted avg       0.83      0.85      0.84      8383\n",
      "\n",
      "[[6579  430]\n",
      " [ 839  535]]\n"
     ]
    }
   ],
   "source": [
    "print('Cohen kappa Score:',cohen_kappa_score(y_test,ypred_rf))\n",
    "print('Matthews coeff:',matthews_corrcoef(y_test,ypred_rf))\n",
    "print('Roc Auc Score:',roc_auc_score(y_test,ypred_rf))\n",
    "print('Accuracy Score:',accuracy_score(y_test,ypred_rf))\n",
    "print(classification_report(y_test,ypred_rf))\n",
    "print(confusion_matrix(y_test,ypred_rf))"
   ]
  },
  {
   "cell_type": "markdown",
   "metadata": {},
   "source": [
    "### Naive Baye's"
   ]
  },
  {
   "cell_type": "code",
   "execution_count": 210,
   "metadata": {},
   "outputs": [],
   "source": [
    "from sklearn.naive_bayes import GaussianNB"
   ]
  },
  {
   "cell_type": "code",
   "execution_count": 211,
   "metadata": {},
   "outputs": [],
   "source": [
    "nb=GaussianNB()"
   ]
  },
  {
   "cell_type": "code",
   "execution_count": 212,
   "metadata": {},
   "outputs": [],
   "source": [
    "nb_model=nb.fit(X_train,y_train)\n",
    "ypred_nb=nb_model.predict(X_test)"
   ]
  },
  {
   "cell_type": "code",
   "execution_count": 213,
   "metadata": {},
   "outputs": [
    {
     "name": "stdout",
     "output_type": "stream",
     "text": [
      "Cohen kappa Score: 0.3641182834496356\n",
      "Matthews coeff: 0.3705513417856942\n",
      "Roc Auc Score: 0.6618720929194176\n",
      "Accuracy Score: 0.8450435404986282\n",
      "              precision    recall  f1-score   support\n",
      "\n",
      "           0       0.89      0.93      0.91      7009\n",
      "           1       0.54      0.39      0.45      1374\n",
      "\n",
      "    accuracy                           0.85      8383\n",
      "   macro avg       0.71      0.66      0.68      8383\n",
      "weighted avg       0.83      0.85      0.83      8383\n",
      "\n",
      "[[6549  460]\n",
      " [ 839  535]]\n"
     ]
    }
   ],
   "source": [
    "print('Cohen kappa Score:',cohen_kappa_score(y_test,ypred_nb))\n",
    "print('Matthews coeff:',matthews_corrcoef(y_test,ypred_nb))\n",
    "print('Roc Auc Score:',roc_auc_score(y_test,ypred_nb))\n",
    "print('Accuracy Score:',accuracy_score(y_test,ypred_nb))\n",
    "print(classification_report(y_test,ypred_nb))\n",
    "print(confusion_matrix(y_test,ypred_nb))"
   ]
  },
  {
   "cell_type": "markdown",
   "metadata": {},
   "source": [
    "### KNN"
   ]
  },
  {
   "cell_type": "code",
   "execution_count": 214,
   "metadata": {},
   "outputs": [],
   "source": [
    "from sklearn.neighbors import KNeighborsClassifier\n",
    "from sklearn.preprocessing import StandardScaler"
   ]
  },
  {
   "cell_type": "code",
   "execution_count": 215,
   "metadata": {},
   "outputs": [],
   "source": [
    "sc=StandardScaler()"
   ]
  },
  {
   "cell_type": "code",
   "execution_count": 216,
   "metadata": {},
   "outputs": [],
   "source": [
    "x=df.drop('DEFAULT',axis=1)\n",
    "y=df['DEFAULT']"
   ]
  },
  {
   "cell_type": "code",
   "execution_count": 217,
   "metadata": {},
   "outputs": [],
   "source": [
    "x_scaled=sc.fit_transform(x)"
   ]
  },
  {
   "cell_type": "code",
   "execution_count": 218,
   "metadata": {},
   "outputs": [],
   "source": [
    "X_train_s, X_test, y_train_s, y_test = train_test_split(x_scaled,y,test_size=0.3,random_state=1)"
   ]
  },
  {
   "cell_type": "code",
   "execution_count": 219,
   "metadata": {},
   "outputs": [],
   "source": [
    "knn=KNeighborsClassifier()"
   ]
  },
  {
   "cell_type": "code",
   "execution_count": 220,
   "metadata": {},
   "outputs": [],
   "source": [
    "model_knn=knn.fit(X_train_s,y_train_s)\n",
    "ypred_knn=model_knn.predict(X_test)"
   ]
  },
  {
   "cell_type": "code",
   "execution_count": 221,
   "metadata": {},
   "outputs": [
    {
     "name": "stdout",
     "output_type": "stream",
     "text": [
      "Cohen kappa Score: 0.37809346479361516\n",
      "Matthews coeff: 0.3858422685274873\n",
      "Roc Auc Score: 0.6667021793356557\n",
      "Accuracy Score: 0.8496958129547895\n",
      "              precision    recall  f1-score   support\n",
      "\n",
      "           0       0.89      0.94      0.91      7009\n",
      "           1       0.56      0.39      0.46      1374\n",
      "\n",
      "    accuracy                           0.85      8383\n",
      "   macro avg       0.72      0.67      0.69      8383\n",
      "weighted avg       0.83      0.85      0.84      8383\n",
      "\n",
      "[[6581  428]\n",
      " [ 832  542]]\n"
     ]
    }
   ],
   "source": [
    "print('Cohen kappa Score:',cohen_kappa_score(y_test,ypred_knn))\n",
    "print('Matthews coeff:',matthews_corrcoef(y_test,ypred_knn))\n",
    "print('Roc Auc Score:',roc_auc_score(y_test,ypred_knn))\n",
    "print('Accuracy Score:',accuracy_score(y_test,ypred_knn))\n",
    "print(classification_report(y_test,ypred_knn))\n",
    "print(confusion_matrix(y_test,ypred_knn))"
   ]
  },
  {
   "cell_type": "markdown",
   "metadata": {},
   "source": [
    "### SMOTE TOMEK"
   ]
  },
  {
   "cell_type": "code",
   "execution_count": 222,
   "metadata": {},
   "outputs": [],
   "source": [
    "from imblearn.combine import SMOTETomek"
   ]
  },
  {
   "cell_type": "code",
   "execution_count": 223,
   "metadata": {},
   "outputs": [],
   "source": [
    "smt=SMOTETomek(random_state=42)"
   ]
  },
  {
   "cell_type": "code",
   "execution_count": 224,
   "metadata": {},
   "outputs": [],
   "source": [
    "x=df.drop('DEFAULT',axis=1)\n",
    "y=df['DEFAULT']"
   ]
  },
  {
   "cell_type": "code",
   "execution_count": 225,
   "metadata": {},
   "outputs": [],
   "source": [
    "x_smote,y_smote=smt.fit_sample(x,y)"
   ]
  },
  {
   "cell_type": "code",
   "execution_count": 226,
   "metadata": {},
   "outputs": [],
   "source": [
    "from collections import Counter"
   ]
  },
  {
   "cell_type": "code",
   "execution_count": 227,
   "metadata": {},
   "outputs": [
    {
     "name": "stdout",
     "output_type": "stream",
     "text": [
      "Orignal Data CountCounter({0: 23335, 1: 4606})\n",
      "Revised Data CountCounter({1: 22090, 0: 22090})\n"
     ]
    }
   ],
   "source": [
    "print(\"Orignal Data Count{}\".format(Counter(df[\"DEFAULT\"])))\n",
    "print(\"Revised Data Count{}\".format(Counter(y_smote)))"
   ]
  },
  {
   "cell_type": "code",
   "execution_count": 228,
   "metadata": {},
   "outputs": [],
   "source": [
    "X_train, X_test, y_train, y_test = train_test_split(x_smote,y_smote,test_size=0.2,random_state=42)"
   ]
  },
  {
   "cell_type": "markdown",
   "metadata": {},
   "source": [
    "#### Logistic Regression"
   ]
  },
  {
   "cell_type": "code",
   "execution_count": 229,
   "metadata": {},
   "outputs": [],
   "source": [
    "lr_model_smt=lr.fit(X_train,y_train)\n",
    "lr_model_smt_pred=lr_model_smt.predict(X_test)"
   ]
  },
  {
   "cell_type": "code",
   "execution_count": 230,
   "metadata": {},
   "outputs": [
    {
     "name": "stdout",
     "output_type": "stream",
     "text": [
      "Mean weighted F1-score in LR after SMOTE TOMEK 0.7216910388958683\n",
      "Bias Error in LR after SMOTE TOMEK 0.2783089611041317\n",
      "Variance Error in LR after SMOTE TOMEK 4.6203192912135964e-05\n",
      "Cohen kappa Score: 0.4712356419049669\n",
      "Matthews coeff: 0.5537477413773727\n",
      "Roc Auc Score: 0.7379085547819584\n",
      "Accuracy Score: 0.7331371661385242\n",
      "              precision    recall  f1-score   support\n",
      "\n",
      "           0       1.00      0.48      0.65      4499\n",
      "           1       0.65      1.00      0.79      4337\n",
      "\n",
      "    accuracy                           0.73      8836\n",
      "   macro avg       0.82      0.74      0.72      8836\n",
      "weighted avg       0.83      0.73      0.71      8836\n",
      "\n",
      "[[2149 2350]\n",
      " [   8 4329]]\n"
     ]
    }
   ],
   "source": [
    "kfolds=model_selection.KFold(n_splits=10,random_state=1)\n",
    "r_scores=cross_val_score(lr,X_train,y_train,cv=kfolds, scoring='f1_weighted')\n",
    "print('Mean weighted F1-score in LR after SMOTE TOMEK', r_scores.mean())\n",
    "print('Bias Error in LR after SMOTE TOMEK',1-r_scores.mean())\n",
    "print('Variance Error in LR after SMOTE TOMEK',r_scores.var())\n",
    "print('Cohen kappa Score:',cohen_kappa_score(y_test,lr_model_smt_pred))\n",
    "print('Matthews coeff:',matthews_corrcoef(y_test,lr_model_smt_pred))\n",
    "print('Roc Auc Score:',roc_auc_score(y_test,lr_model_smt_pred))\n",
    "print('Accuracy Score:',accuracy_score(y_test,lr_model_smt_pred))\n",
    "print(classification_report(y_test,lr_model_smt_pred))\n",
    "print(confusion_matrix(y_test,lr_model_smt_pred))"
   ]
  },
  {
   "cell_type": "markdown",
   "metadata": {},
   "source": [
    "#### Decision Tree"
   ]
  },
  {
   "cell_type": "code",
   "execution_count": 231,
   "metadata": {},
   "outputs": [],
   "source": [
    "dt_model_smt=dt.fit(X_train,y_train)\n",
    "dt_model_smt_pred=dt_model_smt.predict(X_test)"
   ]
  },
  {
   "cell_type": "code",
   "execution_count": 232,
   "metadata": {},
   "outputs": [
    {
     "name": "stdout",
     "output_type": "stream",
     "text": [
      "Mean weighted F1-score in DT after SMOTE TOMEK 0.8873382350368102\n",
      "Bias Error in DT after SMOTE TOMEK 0.1126617649631898\n",
      "Variance Error in DT after SMOTE TOMEK 3.867274064921023e-05\n",
      "Cohen kappa Score: 0.7677576194037524\n",
      "Matthews coeff: 0.7678540156746092\n",
      "Roc Auc Score: 0.8839903602691306\n",
      "Accuracy Score: 0.8838841104572205\n",
      "              precision    recall  f1-score   support\n",
      "\n",
      "           0       0.89      0.88      0.89      4499\n",
      "           1       0.88      0.89      0.88      4337\n",
      "\n",
      "    accuracy                           0.88      8836\n",
      "   macro avg       0.88      0.88      0.88      8836\n",
      "weighted avg       0.88      0.88      0.88      8836\n",
      "\n",
      "[[3951  548]\n",
      " [ 478 3859]]\n"
     ]
    }
   ],
   "source": [
    "kfolds=model_selection.KFold(n_splits=10,random_state=1)\n",
    "r_scores=cross_val_score(dt,X_train,y_train,cv=kfolds, scoring='f1_weighted')\n",
    "print('Mean weighted F1-score in DT after SMOTE TOMEK', r_scores.mean())\n",
    "print('Bias Error in DT after SMOTE TOMEK',1-r_scores.mean())\n",
    "print('Variance Error in DT after SMOTE TOMEK',r_scores.var())\n",
    "print('Cohen kappa Score:',cohen_kappa_score(y_test,dt_model_smt_pred))\n",
    "print('Matthews coeff:',matthews_corrcoef(y_test,dt_model_smt_pred))\n",
    "print('Roc Auc Score:',roc_auc_score(y_test,dt_model_smt_pred))\n",
    "print('Accuracy Score:',accuracy_score(y_test,dt_model_smt_pred))\n",
    "print(classification_report(y_test,dt_model_smt_pred))\n",
    "print(confusion_matrix(y_test,dt_model_smt_pred))"
   ]
  },
  {
   "cell_type": "markdown",
   "metadata": {},
   "source": [
    "#### Random Forest"
   ]
  },
  {
   "cell_type": "code",
   "execution_count": 233,
   "metadata": {},
   "outputs": [],
   "source": [
    "rf_model_smt=rf.fit(X_train,y_train)\n",
    "rf_model_smt_pred=rf_model_smt.predict(X_test)"
   ]
  },
  {
   "cell_type": "code",
   "execution_count": 234,
   "metadata": {},
   "outputs": [
    {
     "name": "stdout",
     "output_type": "stream",
     "text": [
      "Mean weighted F1-score in RF after SMOTE TOMEK 0.9131927396272257\n",
      "Bias Error in Rf after SMOTE TOMEK 0.08680726037277431\n",
      "Variance Error in RF after SMOTE TOMEK 1.4973426760753889e-05\n",
      "Cohen kappa Score: 0.8262680268520679\n",
      "Matthews coeff: 0.8264436092304754\n",
      "Roc Auc Score: 0.9129779461149438\n",
      "Accuracy Score: 0.913196016296967\n",
      "              precision    recall  f1-score   support\n",
      "\n",
      "           0       0.91      0.92      0.92      4499\n",
      "           1       0.92      0.90      0.91      4337\n",
      "\n",
      "    accuracy                           0.91      8836\n",
      "   macro avg       0.91      0.91      0.91      8836\n",
      "weighted avg       0.91      0.91      0.91      8836\n",
      "\n",
      "[[4161  338]\n",
      " [ 429 3908]]\n"
     ]
    }
   ],
   "source": [
    "kfolds=model_selection.KFold(n_splits=10,random_state=1)\n",
    "r_scores=cross_val_score(rf,X_train,y_train,cv=kfolds, scoring='f1_weighted')\n",
    "print('Mean weighted F1-score in RF after SMOTE TOMEK', r_scores.mean())\n",
    "print('Bias Error in Rf after SMOTE TOMEK',1-r_scores.mean())\n",
    "print('Variance Error in RF after SMOTE TOMEK',r_scores.var())\n",
    "print('Cohen kappa Score:',cohen_kappa_score(y_test,rf_model_smt_pred))\n",
    "print('Matthews coeff:',matthews_corrcoef(y_test,rf_model_smt_pred))\n",
    "print('Roc Auc Score:',roc_auc_score(y_test,rf_model_smt_pred))\n",
    "print('Accuracy Score:',accuracy_score(y_test,rf_model_smt_pred))\n",
    "print(classification_report(y_test,rf_model_smt_pred))\n",
    "print(confusion_matrix(y_test,rf_model_smt_pred))"
   ]
  },
  {
   "cell_type": "markdown",
   "metadata": {},
   "source": [
    "#### Naive Bayes"
   ]
  },
  {
   "cell_type": "code",
   "execution_count": 235,
   "metadata": {},
   "outputs": [],
   "source": [
    "nb_model_smt=nb.fit(X_train,y_train)\n",
    "nb_model_smt_pred=nb_model_smt.predict(X_test)"
   ]
  },
  {
   "cell_type": "code",
   "execution_count": 236,
   "metadata": {},
   "outputs": [
    {
     "name": "stdout",
     "output_type": "stream",
     "text": [
      "Mean weighted F1-score in NB after SMOTE TOMEK 0.7514546682799075\n",
      "Bias Error in NB after SMOTE TOMEK 0.24854533172009252\n",
      "Variance Error in NB after SMOTE TOMEK 0.00013496534685646309\n",
      "Cohen kappa Score: 0.5122542863432513\n",
      "Matthews coeff: 0.5585801292428552\n",
      "Roc Auc Score: 0.7580133478794739\n",
      "Accuracy Score: 0.7544137618832051\n",
      "              precision    recall  f1-score   support\n",
      "\n",
      "           0       0.93      0.56      0.70      4499\n",
      "           1       0.68      0.95      0.79      4337\n",
      "\n",
      "    accuracy                           0.75      8836\n",
      "   macro avg       0.80      0.76      0.75      8836\n",
      "weighted avg       0.80      0.75      0.75      8836\n",
      "\n",
      "[[2527 1972]\n",
      " [ 198 4139]]\n"
     ]
    }
   ],
   "source": [
    "kfolds=model_selection.KFold(n_splits=10,random_state=1)\n",
    "r_scores=cross_val_score(nb,X_train,y_train,cv=kfolds, scoring='f1_weighted')\n",
    "print('Mean weighted F1-score in NB after SMOTE TOMEK', r_scores.mean())\n",
    "print('Bias Error in NB after SMOTE TOMEK',1-r_scores.mean())\n",
    "print('Variance Error in NB after SMOTE TOMEK',r_scores.var())\n",
    "print('Cohen kappa Score:',cohen_kappa_score(y_test,nb_model_smt_pred))\n",
    "print('Matthews coeff:',matthews_corrcoef(y_test,nb_model_smt_pred))\n",
    "print('Roc Auc Score:',roc_auc_score(y_test,nb_model_smt_pred))\n",
    "print('Accuracy Score:',accuracy_score(y_test,nb_model_smt_pred))\n",
    "print(classification_report(y_test,nb_model_smt_pred))\n",
    "print(confusion_matrix(y_test,nb_model_smt_pred))"
   ]
  },
  {
   "cell_type": "markdown",
   "metadata": {},
   "source": [
    "### KNN"
   ]
  },
  {
   "cell_type": "code",
   "execution_count": 237,
   "metadata": {},
   "outputs": [],
   "source": [
    "sc=StandardScaler()"
   ]
  },
  {
   "cell_type": "code",
   "execution_count": 238,
   "metadata": {},
   "outputs": [],
   "source": [
    "xsmote_scaled=sc.fit_transform(x_smote)"
   ]
  },
  {
   "cell_type": "code",
   "execution_count": 239,
   "metadata": {},
   "outputs": [],
   "source": [
    "X_train_ssc, X_test, y_train_ssc, y_test = train_test_split(xsmote_scaled,y_smote,test_size=0.3,random_state=42)"
   ]
  },
  {
   "cell_type": "code",
   "execution_count": 240,
   "metadata": {},
   "outputs": [],
   "source": [
    "knn=KNeighborsClassifier()"
   ]
  },
  {
   "cell_type": "code",
   "execution_count": 241,
   "metadata": {},
   "outputs": [],
   "source": [
    "knn_model_smt=knn.fit(X_train_ssc,y_train_ssc)\n",
    "knn_model_smt_pred=nb_model_smt.predict(X_test)"
   ]
  },
  {
   "cell_type": "code",
   "execution_count": 242,
   "metadata": {},
   "outputs": [
    {
     "name": "stdout",
     "output_type": "stream",
     "text": [
      "Mean weighted F1-score in NB after SMOTE TOMEK 0.8777911564772662\n",
      "Bias Error in NB after SMOTE TOMEK 0.12220884352273376\n",
      "Variance Error in NB after SMOTE TOMEK 2.983604672678143e-05\n",
      "Cohen kappa Score: 0.4063271473750243\n",
      "Matthews coeff: 0.46256281145069983\n",
      "Roc Auc Score: 0.7022883426198792\n",
      "Accuracy Score: 0.7044665761279614\n",
      "              precision    recall  f1-score   support\n",
      "\n",
      "           0       0.64      0.94      0.76      6687\n",
      "           1       0.89      0.46      0.61      6567\n",
      "\n",
      "    accuracy                           0.70     13254\n",
      "   macro avg       0.76      0.70      0.69     13254\n",
      "weighted avg       0.76      0.70      0.69     13254\n",
      "\n",
      "[[6305  382]\n",
      " [3535 3032]]\n"
     ]
    }
   ],
   "source": [
    "kfolds=model_selection.KFold(n_splits=10,random_state=1)\n",
    "r_scores=cross_val_score(knn,X_train_ssc,y_train_ssc,cv=kfolds, scoring='f1_weighted')\n",
    "print('Mean weighted F1-score in NB after SMOTE TOMEK', r_scores.mean())\n",
    "print('Bias Error in NB after SMOTE TOMEK',1-r_scores.mean())\n",
    "print('Variance Error in NB after SMOTE TOMEK',r_scores.var())\n",
    "print('Cohen kappa Score:',cohen_kappa_score(y_test,knn_model_smt_pred))\n",
    "print('Matthews coeff:',matthews_corrcoef(y_test,knn_model_smt_pred))\n",
    "print('Roc Auc Score:',roc_auc_score(y_test,knn_model_smt_pred))\n",
    "print('Accuracy Score:',accuracy_score(y_test,knn_model_smt_pred))\n",
    "print(classification_report(y_test,knn_model_smt_pred))\n",
    "print(confusion_matrix(y_test,knn_model_smt_pred))"
   ]
  },
  {
   "cell_type": "markdown",
   "metadata": {},
   "source": [
    "### Hyperparameter Tuning"
   ]
  },
  {
   "cell_type": "code",
   "execution_count": 243,
   "metadata": {},
   "outputs": [],
   "source": [
    "from sklearn.model_selection import GridSearchCV,RandomizedSearchCV,KFold"
   ]
  },
  {
   "cell_type": "code",
   "execution_count": 244,
   "metadata": {},
   "outputs": [],
   "source": [
    "x=df.drop('DEFAULT',axis=1)\n",
    "y=df['DEFAULT']"
   ]
  },
  {
   "cell_type": "code",
   "execution_count": 245,
   "metadata": {},
   "outputs": [],
   "source": [
    "X_train, X_test, y_train, y_test = train_test_split(x,y,test_size=0.2,random_state=1)"
   ]
  },
  {
   "cell_type": "markdown",
   "metadata": {},
   "source": [
    "#### Logistic Regression"
   ]
  },
  {
   "cell_type": "code",
   "execution_count": 246,
   "metadata": {},
   "outputs": [],
   "source": [
    "param_grid = [{'C':[0.1,0.2,0.3,0.4,0.5,0.6,0.7,0.8,0.9,1.0,1.1,1.2,1.3,1.4,1.5,1.6],\n",
    "               'penalty':['l1','l2'],'solver':['liblinear']}]"
   ]
  },
  {
   "cell_type": "code",
   "execution_count": 247,
   "metadata": {},
   "outputs": [],
   "source": [
    "lr=LogisticRegression(class_weight={1:80,0:20})"
   ]
  },
  {
   "cell_type": "code",
   "execution_count": 248,
   "metadata": {},
   "outputs": [
    {
     "data": {
      "text/plain": [
       "RandomizedSearchCV(cv=5, error_score=nan,\n",
       "                   estimator=LogisticRegression(C=1.0,\n",
       "                                                class_weight={0: 20, 1: 80},\n",
       "                                                dual=False, fit_intercept=True,\n",
       "                                                intercept_scaling=1,\n",
       "                                                l1_ratio=None, max_iter=100,\n",
       "                                                multi_class='auto', n_jobs=None,\n",
       "                                                penalty='l2', random_state=None,\n",
       "                                                solver='lbfgs', tol=0.0001,\n",
       "                                                verbose=0, warm_start=False),\n",
       "                   iid='deprecated', n_iter=10, n_jobs=None,\n",
       "                   param_distributions=[{'C': [0.1, 0.2, 0.3, 0.4, 0.5, 0.6,\n",
       "                                               0.7, 0.8, 0.9, 1.0, 1.1, 1.2,\n",
       "                                               1.3, 1.4, 1.5, 1.6],\n",
       "                                         'penalty': ['l1', 'l2'],\n",
       "                                         'solver': ['liblinear']}],\n",
       "                   pre_dispatch='2*n_jobs', random_state=0, refit=True,\n",
       "                   return_train_score=False, scoring='f1_weighted', verbose=0)"
      ]
     },
     "execution_count": 248,
     "metadata": {},
     "output_type": "execute_result"
    }
   ],
   "source": [
    "rs=RandomizedSearchCV(lr,param_grid,cv=5,scoring='f1_weighted',random_state=0)\n",
    "rs.fit(X_train,y_train)"
   ]
  },
  {
   "cell_type": "code",
   "execution_count": 249,
   "metadata": {},
   "outputs": [
    {
     "data": {
      "text/plain": [
       "{'solver': 'liblinear', 'penalty': 'l2', 'C': 0.6}"
      ]
     },
     "execution_count": 249,
     "metadata": {},
     "output_type": "execute_result"
    }
   ],
   "source": [
    "rs.best_params_"
   ]
  },
  {
   "cell_type": "code",
   "execution_count": 250,
   "metadata": {},
   "outputs": [],
   "source": [
    "lr_rs=LogisticRegression(**rs.best_params_)"
   ]
  },
  {
   "cell_type": "code",
   "execution_count": 251,
   "metadata": {},
   "outputs": [],
   "source": [
    "lr_rs_model=lr_rs.fit(X_train,y_train)\n",
    "lr_rs_model_pred=lr_rs_model.predict(X_test)"
   ]
  },
  {
   "cell_type": "code",
   "execution_count": 252,
   "metadata": {
    "scrolled": true
   },
   "outputs": [
    {
     "name": "stdout",
     "output_type": "stream",
     "text": [
      "Cohen kappa Score: 0.4197128491234363\n",
      "Matthews coeff: 0.4221238950591943\n",
      "Roc Auc Score: 0.6957316785483436\n",
      "Accuracy Score: 0.8531043120415102\n",
      "              precision    recall  f1-score   support\n",
      "\n",
      "           0       0.90      0.93      0.91      4684\n",
      "           1       0.56      0.46      0.51       905\n",
      "\n",
      "    accuracy                           0.85      5589\n",
      "   macro avg       0.73      0.70      0.71      5589\n",
      "weighted avg       0.84      0.85      0.85      5589\n",
      "\n",
      "[[4349  335]\n",
      " [ 486  419]]\n"
     ]
    }
   ],
   "source": [
    "print('Cohen kappa Score:',cohen_kappa_score(y_test,lr_rs_model_pred))\n",
    "print('Matthews coeff:',matthews_corrcoef(y_test,lr_rs_model_pred))\n",
    "print('Roc Auc Score:',roc_auc_score(y_test,lr_rs_model_pred))\n",
    "print('Accuracy Score:',accuracy_score(y_test,lr_rs_model_pred))\n",
    "print(classification_report(y_test,lr_rs_model_pred))\n",
    "print(confusion_matrix(y_test,lr_rs_model_pred))"
   ]
  },
  {
   "cell_type": "markdown",
   "metadata": {},
   "source": [
    "##### Smote"
   ]
  },
  {
   "cell_type": "code",
   "execution_count": 253,
   "metadata": {},
   "outputs": [],
   "source": [
    "smt=SMOTETomek(random_state=42)\n",
    "x_smote,y_smote=smt.fit_sample(x,y)\n",
    "X_train, X_test, y_train, y_test=train_test_split(x_smote,y_smote,test_size=0.2,random_state=0)"
   ]
  },
  {
   "cell_type": "code",
   "execution_count": 254,
   "metadata": {},
   "outputs": [],
   "source": [
    "lr_rs=LogisticRegression(**rs.best_params_)"
   ]
  },
  {
   "cell_type": "code",
   "execution_count": 255,
   "metadata": {},
   "outputs": [],
   "source": [
    "lr_rs_model=lr_rs.fit(X_train,y_train)\n",
    "lr_rs_model_pred=lr_rs_model.predict(X_test)"
   ]
  },
  {
   "cell_type": "code",
   "execution_count": 256,
   "metadata": {},
   "outputs": [
    {
     "name": "stdout",
     "output_type": "stream",
     "text": [
      "Cohen kappa Score: 0.6671978279099064\n",
      "Matthews coeff: 0.6680119125197357\n",
      "Roc Auc Score: 0.8335318468726944\n",
      "Accuracy Score: 0.833635129017655\n",
      "              precision    recall  f1-score   support\n",
      "\n",
      "           0       0.82      0.86      0.84      4436\n",
      "           1       0.85      0.81      0.83      4400\n",
      "\n",
      "    accuracy                           0.83      8836\n",
      "   macro avg       0.83      0.83      0.83      8836\n",
      "weighted avg       0.83      0.83      0.83      8836\n",
      "\n",
      "[[3810  626]\n",
      " [ 844 3556]]\n"
     ]
    }
   ],
   "source": [
    "print('Cohen kappa Score:',cohen_kappa_score(y_test,lr_rs_model_pred))\n",
    "print('Matthews coeff:',matthews_corrcoef(y_test,lr_rs_model_pred))\n",
    "print('Roc Auc Score:',roc_auc_score(y_test,lr_rs_model_pred))\n",
    "print('Accuracy Score:',accuracy_score(y_test,lr_rs_model_pred))\n",
    "print(classification_report(y_test,lr_rs_model_pred))\n",
    "print(confusion_matrix(y_test,lr_rs_model_pred))"
   ]
  },
  {
   "cell_type": "markdown",
   "metadata": {},
   "source": [
    "#### Decision Tree"
   ]
  },
  {
   "cell_type": "code",
   "execution_count": 257,
   "metadata": {},
   "outputs": [],
   "source": [
    "from sklearn.tree import DecisionTreeClassifier"
   ]
  },
  {
   "cell_type": "code",
   "execution_count": 258,
   "metadata": {},
   "outputs": [
    {
     "data": {
      "text/plain": [
       "RandomizedSearchCV(cv=3, error_score=nan,\n",
       "                   estimator=DecisionTreeClassifier(ccp_alpha=0.0,\n",
       "                                                    class_weight=None,\n",
       "                                                    criterion='gini',\n",
       "                                                    max_depth=None,\n",
       "                                                    max_features=None,\n",
       "                                                    max_leaf_nodes=None,\n",
       "                                                    min_impurity_decrease=0.0,\n",
       "                                                    min_impurity_split=None,\n",
       "                                                    min_samples_leaf=1,\n",
       "                                                    min_samples_split=2,\n",
       "                                                    min_weight_fraction_leaf=0.0,\n",
       "                                                    presort='deprecated',\n",
       "                                                    random_state=None,\n",
       "                                                    splitter='best'),\n",
       "                   iid='deprecated', n_iter=10, n_jobs=None,\n",
       "                   param_distributions={'criterion': ['gini', 'entropy'],\n",
       "                                        'max_depth': [2, 3, 4, 5, 6],\n",
       "                                        'min_samples_leaf': [1, 2, 3, 4, 5, 6,\n",
       "                                                             7, 8, 9, 10],\n",
       "                                        'min_samples_split': [2, 3, 4, 5, 6, 7,\n",
       "                                                              8, 9, 10]},\n",
       "                   pre_dispatch='2*n_jobs', random_state=0, refit=True,\n",
       "                   return_train_score=False, scoring=None, verbose=0)"
      ]
     },
     "execution_count": 258,
     "metadata": {},
     "output_type": "execute_result"
    }
   ],
   "source": [
    "dt=DecisionTreeClassifier()\n",
    "params={'max_depth':[2,3,4,5,6],\n",
    "       'min_samples_split':[2,3,4,5,6,7,8,9,10],\n",
    "       'min_samples_leaf':[1,2,3,4,5,6,7,8,9,10],\n",
    "       'criterion':['gini','entropy']}\n",
    "\n",
    "rsearch=RandomizedSearchCV(dt,param_distributions=params,cv=3,random_state=0)\n",
    "rsearch.fit(X_train,y_train)"
   ]
  },
  {
   "cell_type": "code",
   "execution_count": 259,
   "metadata": {},
   "outputs": [
    {
     "data": {
      "text/plain": [
       "{'min_samples_split': 5,\n",
       " 'min_samples_leaf': 5,\n",
       " 'max_depth': 6,\n",
       " 'criterion': 'gini'}"
      ]
     },
     "execution_count": 259,
     "metadata": {},
     "output_type": "execute_result"
    }
   ],
   "source": [
    "rsearch.best_params_"
   ]
  },
  {
   "cell_type": "code",
   "execution_count": 260,
   "metadata": {},
   "outputs": [],
   "source": [
    "dt_rs=DecisionTreeClassifier(**rsearch.best_params_)"
   ]
  },
  {
   "cell_type": "code",
   "execution_count": 261,
   "metadata": {},
   "outputs": [],
   "source": [
    "dt_model=dt_rs.fit(X_train,y_train)\n",
    "ypred_dt=dt_model.predict(X_test)"
   ]
  },
  {
   "cell_type": "code",
   "execution_count": 262,
   "metadata": {},
   "outputs": [
    {
     "name": "stdout",
     "output_type": "stream",
     "text": [
      "Cohen kappa Score: 0.7738435027139813\n",
      "Matthews coeff: 0.7743203452372447\n",
      "Roc Auc Score: 0.8868664439708172\n",
      "Accuracy Score: 0.8869397917609778\n",
      "              precision    recall  f1-score   support\n",
      "\n",
      "           0       0.87      0.90      0.89      4436\n",
      "           1       0.90      0.87      0.88      4400\n",
      "\n",
      "    accuracy                           0.89      8836\n",
      "   macro avg       0.89      0.89      0.89      8836\n",
      "weighted avg       0.89      0.89      0.89      8836\n",
      "\n",
      "[[4014  422]\n",
      " [ 577 3823]]\n"
     ]
    }
   ],
   "source": [
    "print('Cohen kappa Score:',cohen_kappa_score(y_test,ypred_dt))\n",
    "print('Matthews coeff:',matthews_corrcoef(y_test,ypred_dt))\n",
    "print('Roc Auc Score:',roc_auc_score(y_test,ypred_dt))\n",
    "print('Accuracy Score:',accuracy_score(y_test,ypred_dt))\n",
    "print(classification_report(y_test,ypred_dt))\n",
    "print(confusion_matrix(y_test,ypred_dt))"
   ]
  },
  {
   "cell_type": "markdown",
   "metadata": {},
   "source": [
    "#### Smote"
   ]
  },
  {
   "cell_type": "code",
   "execution_count": 263,
   "metadata": {},
   "outputs": [],
   "source": [
    "smt=SMOTETomek(random_state=42)\n",
    "x_smote,y_smote=smt.fit_sample(x,y)\n",
    "X_train, X_test, y_train, y_test=train_test_split(x_smote,y_smote,test_size=0.2,random_state=0)"
   ]
  },
  {
   "cell_type": "code",
   "execution_count": 264,
   "metadata": {},
   "outputs": [],
   "source": [
    "dt_rs=DecisionTreeClassifier(**rsearch.best_params_)"
   ]
  },
  {
   "cell_type": "code",
   "execution_count": 265,
   "metadata": {},
   "outputs": [],
   "source": [
    "dt_rs_model=dt_rs.fit(X_train,y_train)\n",
    "dt_rs_model_pred=dt_rs_model.predict(X_test)"
   ]
  },
  {
   "cell_type": "code",
   "execution_count": 266,
   "metadata": {},
   "outputs": [
    {
     "name": "stdout",
     "output_type": "stream",
     "text": [
      "Cohen kappa Score: 0.7736173286352865\n",
      "Matthews coeff: 0.7740878941594902\n",
      "Roc Auc Score: 0.8867537298139192\n",
      "Accuracy Score: 0.8868266183793572\n",
      "              precision    recall  f1-score   support\n",
      "\n",
      "           0       0.87      0.90      0.89      4436\n",
      "           1       0.90      0.87      0.88      4400\n",
      "\n",
      "    accuracy                           0.89      8836\n",
      "   macro avg       0.89      0.89      0.89      8836\n",
      "weighted avg       0.89      0.89      0.89      8836\n",
      "\n",
      "[[4013  423]\n",
      " [ 577 3823]]\n"
     ]
    }
   ],
   "source": [
    "print('Cohen kappa Score:',cohen_kappa_score(y_test,dt_rs_model_pred))\n",
    "print('Matthews coeff:',matthews_corrcoef(y_test,dt_rs_model_pred))\n",
    "print('Roc Auc Score:',roc_auc_score(y_test,dt_rs_model_pred))\n",
    "print('Accuracy Score:',accuracy_score(y_test,dt_rs_model_pred))\n",
    "print(classification_report(y_test,dt_rs_model_pred))\n",
    "print(confusion_matrix(y_test,dt_rs_model_pred))"
   ]
  },
  {
   "cell_type": "markdown",
   "metadata": {},
   "source": [
    "#### Random Forest"
   ]
  },
  {
   "cell_type": "code",
   "execution_count": 267,
   "metadata": {},
   "outputs": [
    {
     "name": "stdout",
     "output_type": "stream",
     "text": [
      "RandomizedSearchCV(cv=StratifiedKFold(n_splits=10, random_state=0, shuffle=False),\n",
      "                   error_score=nan,\n",
      "                   estimator=RandomForestClassifier(bootstrap=True,\n",
      "                                                    ccp_alpha=0.0,\n",
      "                                                    class_weight=None,\n",
      "                                                    criterion='gini',\n",
      "                                                    max_depth=None,\n",
      "                                                    max_features='auto',\n",
      "                                                    max_leaf_nodes=None,\n",
      "                                                    max_samples=None,\n",
      "                                                    min_impurity_decrease=0.0,\n",
      "                                                    min_impurity_split=None,\n",
      "                                                    min_samples_leaf=1,\n",
      "                                                    min_samples_spli...\n",
      "                                                    min_weight_fraction_leaf=0.0,\n",
      "                                                    n_estimators=100,\n",
      "                                                    n_jobs=None,\n",
      "                                                    oob_score=False,\n",
      "                                                    random_state=0, verbose=0,\n",
      "                                                    warm_start=False),\n",
      "                   iid='deprecated', n_iter=10, n_jobs=None,\n",
      "                   param_distributions={'criterion': ['gini', 'entropy'],\n",
      "                                        'n_estimators': range(20, 101, 10)},\n",
      "                   pre_dispatch='2*n_jobs', random_state=None, refit=True,\n",
      "                   return_train_score=False, scoring='f1_weighted', verbose=0)\n",
      "{'n_estimators': 70, 'criterion': 'gini'}\n"
     ]
    }
   ],
   "source": [
    "RF=RandomForestClassifier(random_state=0)\n",
    "kfolds = StratifiedKFold(n_splits=10, random_state=0)\n",
    "estimators=range(20,101,10)\n",
    "rsearch= RandomizedSearchCV(cv=kfolds,estimator=RF,scoring = \"f1_weighted\", param_distributions=dict(n_estimators=estimators, criterion=['gini', 'entropy']))             \n",
    "rsearch.fit(X_train,y_train)\n",
    "print(rsearch)\n",
    "print(rsearch.best_params_)"
   ]
  },
  {
   "cell_type": "code",
   "execution_count": 268,
   "metadata": {},
   "outputs": [],
   "source": [
    "rf_rs = RandomForestClassifier(**rsearch.best_params_)\n",
    "model_rf=rf_rs.fit(X_train,y_train)\n",
    "pred=model_rf.predict(X_test)"
   ]
  },
  {
   "cell_type": "code",
   "execution_count": 269,
   "metadata": {},
   "outputs": [
    {
     "name": "stdout",
     "output_type": "stream",
     "text": [
      "Cohen kappa Score: 0.8254684580223388\n",
      "Matthews coeff: 0.8256594026581386\n",
      "Roc Auc Score: 0.9126980695138946\n",
      "Accuracy Score: 0.9127433227704844\n",
      "              precision    recall  f1-score   support\n",
      "\n",
      "           0       0.90      0.92      0.91      4436\n",
      "           1       0.92      0.90      0.91      4400\n",
      "\n",
      "    accuracy                           0.91      8836\n",
      "   macro avg       0.91      0.91      0.91      8836\n",
      "weighted avg       0.91      0.91      0.91      8836\n",
      "\n",
      "[[4098  338]\n",
      " [ 433 3967]]\n"
     ]
    }
   ],
   "source": [
    "print('Cohen kappa Score:',cohen_kappa_score(y_test,pred))\n",
    "print('Matthews coeff:',matthews_corrcoef(y_test,pred))\n",
    "print('Roc Auc Score:',roc_auc_score(y_test,pred))\n",
    "print('Accuracy Score:',accuracy_score(y_test,pred))\n",
    "print(classification_report(y_test,pred))\n",
    "print(confusion_matrix(y_test,pred))"
   ]
  },
  {
   "cell_type": "markdown",
   "metadata": {},
   "source": [
    "#### smote"
   ]
  },
  {
   "cell_type": "code",
   "execution_count": 270,
   "metadata": {},
   "outputs": [],
   "source": [
    "smt=SMOTETomek(random_state=42)\n",
    "x_smote,y_smote=smt.fit_sample(x,y)\n",
    "X_train_s, X_test_s, y_train_s, y_test_s=train_test_split(x_smote,y_smote,test_size=0.2,random_state=0)"
   ]
  },
  {
   "cell_type": "code",
   "execution_count": 272,
   "metadata": {},
   "outputs": [],
   "source": [
    "rf_rs=RandomForestClassifier(**rsearch.best_params_)"
   ]
  },
  {
   "cell_type": "code",
   "execution_count": 273,
   "metadata": {},
   "outputs": [],
   "source": [
    "rf_rs_model=rf_rs.fit(X_train_s,y_train_s)\n",
    "rf_rs_model_pred=rf_rs_model.predict(X_test_s)"
   ]
  },
  {
   "cell_type": "code",
   "execution_count": 274,
   "metadata": {},
   "outputs": [
    {
     "name": "stdout",
     "output_type": "stream",
     "text": [
      "Cohen kappa Score: 0.828862592772649\n",
      "Matthews coeff: 0.8290923907002363\n",
      "Roc Auc Score: 0.914391548487581\n",
      "Accuracy Score: 0.914440923494794\n",
      "              precision    recall  f1-score   support\n",
      "\n",
      "           0       0.91      0.93      0.92      4436\n",
      "           1       0.92      0.90      0.91      4400\n",
      "\n",
      "    accuracy                           0.91      8836\n",
      "   macro avg       0.91      0.91      0.91      8836\n",
      "weighted avg       0.91      0.91      0.91      8836\n",
      "\n"
     ]
    },
    {
     "data": {
      "image/png": "[encoded data removed]",
      "text/plain": [
       "<Figure size 432x288 with 2 Axes>"
      ]
     },
     "metadata": {
      "needs_background": "light"
     },
     "output_type": "display_data"
    }
   ],
   "source": [
    "print('Cohen kappa Score:',cohen_kappa_score(y_test_s,rf_rs_model_pred))\n",
    "print('Matthews coeff:',matthews_corrcoef(y_test_s,rf_rs_model_pred))\n",
    "print('Roc Auc Score:',roc_auc_score(y_test_s,rf_rs_model_pred))\n",
    "print('Accuracy Score:',accuracy_score(y_test_s,rf_rs_model_pred))\n",
    "print(classification_report(y_test_s,rf_rs_model_pred))\n",
    "sns.heatmap(confusion_matrix(y_test_s,rf_rs_model_pred),annot=True,fmt=\"g\", cmap='Blues' )\n",
    "plt.show()"
   ]
  },
  {
   "cell_type": "markdown",
   "metadata": {},
   "source": [
    "### Random Forest Feature Importance"
   ]
  },
  {
   "cell_type": "code",
   "execution_count": 275,
   "metadata": {
    "scrolled": true
   },
   "outputs": [
    {
     "data": {
      "text/plain": [
       "array([3.96364953e-01, 9.95524334e-02, 1.38667495e-01, 8.53107780e-02,\n",
       "       2.30397471e-04, 2.54514426e-02, 1.05722991e-02, 6.08549086e-04,\n",
       "       5.73936440e-03, 3.72586618e-04, 2.87614894e-06, 4.49937031e-04,\n",
       "       2.35796205e-02, 5.55111917e-04, 2.90039865e-02, 5.85136116e-03,\n",
       "       5.37758379e-04, 1.37367084e-02, 5.65969933e-03, 5.28685739e-04,\n",
       "       5.52483273e-03, 3.05717359e-04, 5.18806536e-05, 5.52585843e-04,\n",
       "       1.34865184e-02, 9.80691230e-04, 2.28758383e-02, 1.63758741e-03,\n",
       "       4.65043586e-02, 4.12538042e-02, 2.38418712e-02, 2.08270422e-04])"
      ]
     },
     "execution_count": 275,
     "metadata": {},
     "output_type": "execute_result"
    }
   ],
   "source": [
    "rf_rs.feature_importances_"
   ]
  },
  {
   "cell_type": "code",
   "execution_count": 276,
   "metadata": {},
   "outputs": [],
   "source": [
    "a=pd.DataFrame(X_train_s,columns=x.columns)"
   ]
  },
  {
   "cell_type": "code",
   "execution_count": 277,
   "metadata": {},
   "outputs": [],
   "source": [
    "feature_results = pd.DataFrame({'feature': list(a) ,'importance': rf_rs.feature_importances_}) "
   ]
  },
  {
   "cell_type": "code",
   "execution_count": 278,
   "metadata": {},
   "outputs": [],
   "source": [
    "feature_results = feature_results.sort_values('importance', ascending = False).head(10)"
   ]
  },
  {
   "cell_type": "code",
   "execution_count": 279,
   "metadata": {},
   "outputs": [
    {
     "data": {
      "text/plain": [
       "<Figure size 576x432 with 0 Axes>"
      ]
     },
     "metadata": {},
     "output_type": "display_data"
    },
    {
     "data": {
      "image/png": "[encoded data removed]",
      "text/plain": [
       "<Figure size 432x288 with 1 Axes>"
      ]
     },
     "metadata": {
      "needs_background": "light"
     },
     "output_type": "display_data"
    }
   ],
   "source": [
    "plt.figure(figsize=(8,6))\n",
    "feature_results.loc[:, :].plot(x = 'feature', y = 'importance', kind='barh', color = 'blue')\n",
    "plt.xlabel('Relative Importance')\n",
    "plt.title('Feature Importances from Random Forest')\n",
    "plt.show()"
   ]
  }
 ],
 "metadata": {
  "kernelspec": {
   "display_name": "Python 3",
   "language": "python",
   "name": "python3"
  },
  "language_info": {
   "codemirror_mode": {
    "name": "ipython",
    "version": 3
   },
   "file_extension": ".py",
   "mimetype": "text/x-python",
   "name": "python",
   "nbconvert_exporter": "python",
   "pygments_lexer": "ipython3",
   "version": "3.7.7"
  }
 },
 "nbformat": 4,
 "nbformat_minor": 2
}
