{
 "cells": [
  {
   "cell_type": "code",
   "execution_count": 10,
   "metadata": {},
   "outputs": [],
   "source": [
    "import numpy as np\n",
    "import pandas as pd\n",
    "import matplotlib.pyplot as plt\n",
    "import seaborn as sns\n",
    "import warnings\n",
    "warnings.filterwarnings('ignore')\n",
    "pd.set_option('display.max_columns',None)"
   ]
  },
  {
   "cell_type": "code",
   "execution_count": 11,
   "metadata": {},
   "outputs": [
    {
     "data": {
      "text/html": [
       "<div>\n",
       "<style scoped>\n",
       "    .dataframe tbody tr th:only-of-type {\n",
       "        vertical-align: middle;\n",
       "    }\n",
       "\n",
       "    .dataframe tbody tr th {\n",
       "        vertical-align: top;\n",
       "    }\n",
       "\n",
       "    .dataframe thead th {\n",
       "        text-align: right;\n",
       "    }\n",
       "</style>\n",
       "<table border=\"1\" class=\"dataframe\">\n",
       "  <thead>\n",
       "    <tr style=\"text-align: right;\">\n",
       "      <th></th>\n",
       "      <th>ID</th>\n",
       "      <th>LIMIT_BAL</th>\n",
       "      <th>SEX</th>\n",
       "      <th>EDUCATION</th>\n",
       "      <th>MARRIAGE</th>\n",
       "      <th>AGE</th>\n",
       "      <th>PAY_1</th>\n",
       "      <th>PAY_2</th>\n",
       "      <th>PAY_3</th>\n",
       "      <th>PAY_4</th>\n",
       "      <th>PAY_5</th>\n",
       "      <th>PAY_6</th>\n",
       "      <th>BILL_AMT1</th>\n",
       "      <th>BILL_AMT2</th>\n",
       "      <th>BILL_AMT3</th>\n",
       "      <th>BILL_AMT4</th>\n",
       "      <th>BILL_AMT5</th>\n",
       "      <th>BILL_AMT6</th>\n",
       "      <th>PAY_AMT1</th>\n",
       "      <th>PAY_AMT2</th>\n",
       "      <th>PAY_AMT3</th>\n",
       "      <th>PAY_AMT4</th>\n",
       "      <th>PAY_AMT5</th>\n",
       "      <th>PAY_AMT6</th>\n",
       "      <th>DEFAULT</th>\n",
       "    </tr>\n",
       "  </thead>\n",
       "  <tbody>\n",
       "    <tr>\n",
       "      <th>0</th>\n",
       "      <td>1</td>\n",
       "      <td>20000</td>\n",
       "      <td>2</td>\n",
       "      <td>2</td>\n",
       "      <td>1</td>\n",
       "      <td>24</td>\n",
       "      <td>2</td>\n",
       "      <td>2</td>\n",
       "      <td>-1</td>\n",
       "      <td>-1</td>\n",
       "      <td>-2</td>\n",
       "      <td>-2</td>\n",
       "      <td>3913.0</td>\n",
       "      <td>3102.0</td>\n",
       "      <td>689.0</td>\n",
       "      <td>0.0</td>\n",
       "      <td>0.0</td>\n",
       "      <td>0.0</td>\n",
       "      <td>0.0</td>\n",
       "      <td>689.0</td>\n",
       "      <td>0.0</td>\n",
       "      <td>0.0</td>\n",
       "      <td>0.0</td>\n",
       "      <td>0.0</td>\n",
       "      <td>1</td>\n",
       "    </tr>\n",
       "    <tr>\n",
       "      <th>1</th>\n",
       "      <td>2</td>\n",
       "      <td>120000</td>\n",
       "      <td>2</td>\n",
       "      <td>2</td>\n",
       "      <td>2</td>\n",
       "      <td>26</td>\n",
       "      <td>-1</td>\n",
       "      <td>2</td>\n",
       "      <td>0</td>\n",
       "      <td>0</td>\n",
       "      <td>0</td>\n",
       "      <td>2</td>\n",
       "      <td>2682.0</td>\n",
       "      <td>1725.0</td>\n",
       "      <td>2682.0</td>\n",
       "      <td>3272.0</td>\n",
       "      <td>3455.0</td>\n",
       "      <td>3261.0</td>\n",
       "      <td>0.0</td>\n",
       "      <td>1000.0</td>\n",
       "      <td>1000.0</td>\n",
       "      <td>1000.0</td>\n",
       "      <td>0.0</td>\n",
       "      <td>2000.0</td>\n",
       "      <td>1</td>\n",
       "    </tr>\n",
       "    <tr>\n",
       "      <th>2</th>\n",
       "      <td>3</td>\n",
       "      <td>90000</td>\n",
       "      <td>2</td>\n",
       "      <td>2</td>\n",
       "      <td>2</td>\n",
       "      <td>34</td>\n",
       "      <td>0</td>\n",
       "      <td>0</td>\n",
       "      <td>0</td>\n",
       "      <td>0</td>\n",
       "      <td>0</td>\n",
       "      <td>0</td>\n",
       "      <td>29239.0</td>\n",
       "      <td>14027.0</td>\n",
       "      <td>13559.0</td>\n",
       "      <td>14331.0</td>\n",
       "      <td>14948.0</td>\n",
       "      <td>15549.0</td>\n",
       "      <td>1518.0</td>\n",
       "      <td>1500.0</td>\n",
       "      <td>1000.0</td>\n",
       "      <td>1000.0</td>\n",
       "      <td>1000.0</td>\n",
       "      <td>5000.0</td>\n",
       "      <td>0</td>\n",
       "    </tr>\n",
       "    <tr>\n",
       "      <th>3</th>\n",
       "      <td>4</td>\n",
       "      <td>50000</td>\n",
       "      <td>2</td>\n",
       "      <td>2</td>\n",
       "      <td>1</td>\n",
       "      <td>37</td>\n",
       "      <td>0</td>\n",
       "      <td>0</td>\n",
       "      <td>0</td>\n",
       "      <td>0</td>\n",
       "      <td>0</td>\n",
       "      <td>0</td>\n",
       "      <td>46990.0</td>\n",
       "      <td>48233.0</td>\n",
       "      <td>49291.0</td>\n",
       "      <td>28314.0</td>\n",
       "      <td>28959.0</td>\n",
       "      <td>29547.0</td>\n",
       "      <td>2000.0</td>\n",
       "      <td>2019.0</td>\n",
       "      <td>1200.0</td>\n",
       "      <td>1100.0</td>\n",
       "      <td>1069.0</td>\n",
       "      <td>1000.0</td>\n",
       "      <td>0</td>\n",
       "    </tr>\n",
       "    <tr>\n",
       "      <th>4</th>\n",
       "      <td>5</td>\n",
       "      <td>50000</td>\n",
       "      <td>1</td>\n",
       "      <td>2</td>\n",
       "      <td>1</td>\n",
       "      <td>57</td>\n",
       "      <td>-1</td>\n",
       "      <td>0</td>\n",
       "      <td>-1</td>\n",
       "      <td>0</td>\n",
       "      <td>0</td>\n",
       "      <td>0</td>\n",
       "      <td>8617.0</td>\n",
       "      <td>5670.0</td>\n",
       "      <td>35835.0</td>\n",
       "      <td>20940.0</td>\n",
       "      <td>19146.0</td>\n",
       "      <td>19131.0</td>\n",
       "      <td>2000.0</td>\n",
       "      <td>36681.0</td>\n",
       "      <td>10000.0</td>\n",
       "      <td>9000.0</td>\n",
       "      <td>689.0</td>\n",
       "      <td>679.0</td>\n",
       "      <td>0</td>\n",
       "    </tr>\n",
       "  </tbody>\n",
       "</table>\n",
       "</div>"
      ],
      "text/plain": [
       "   ID  LIMIT_BAL  SEX  EDUCATION  MARRIAGE  AGE  PAY_1  PAY_2  PAY_3  PAY_4  \\\n",
       "0   1      20000    2          2         1   24      2      2     -1     -1   \n",
       "1   2     120000    2          2         2   26     -1      2      0      0   \n",
       "2   3      90000    2          2         2   34      0      0      0      0   \n",
       "3   4      50000    2          2         1   37      0      0      0      0   \n",
       "4   5      50000    1          2         1   57     -1      0     -1      0   \n",
       "\n",
       "   PAY_5  PAY_6  BILL_AMT1  BILL_AMT2  BILL_AMT3  BILL_AMT4  BILL_AMT5  \\\n",
       "0     -2     -2     3913.0     3102.0      689.0        0.0        0.0   \n",
       "1      0      2     2682.0     1725.0     2682.0     3272.0     3455.0   \n",
       "2      0      0    29239.0    14027.0    13559.0    14331.0    14948.0   \n",
       "3      0      0    46990.0    48233.0    49291.0    28314.0    28959.0   \n",
       "4      0      0     8617.0     5670.0    35835.0    20940.0    19146.0   \n",
       "\n",
       "   BILL_AMT6  PAY_AMT1  PAY_AMT2  PAY_AMT3  PAY_AMT4  PAY_AMT5  PAY_AMT6  \\\n",
       "0        0.0       0.0     689.0       0.0       0.0       0.0       0.0   \n",
       "1     3261.0       0.0    1000.0    1000.0    1000.0       0.0    2000.0   \n",
       "2    15549.0    1518.0    1500.0    1000.0    1000.0    1000.0    5000.0   \n",
       "3    29547.0    2000.0    2019.0    1200.0    1100.0    1069.0    1000.0   \n",
       "4    19131.0    2000.0   36681.0   10000.0    9000.0     689.0     679.0   \n",
       "\n",
       "   DEFAULT  \n",
       "0        1  \n",
       "1        1  \n",
       "2        0  \n",
       "3        0  \n",
       "4        0  "
      ]
     },
     "execution_count": 11,
     "metadata": {},
     "output_type": "execute_result"
    }
   ],
   "source": [
    "df=pd.read_csv('credit_card.csv')\n",
    "df.head()"
   ]
  },
  {
   "cell_type": "code",
   "execution_count": 12,
   "metadata": {},
   "outputs": [],
   "source": [
    "df=df.drop('ID',axis=1)"
   ]
  },
  {
   "cell_type": "code",
   "execution_count": 13,
   "metadata": {
    "scrolled": true
   },
   "outputs": [],
   "source": [
    "df['SEX']=df['SEX'].map({1:'Male',2:'Female'})"
   ]
  },
  {
   "cell_type": "code",
   "execution_count": 14,
   "metadata": {},
   "outputs": [],
   "source": [
    "df['EDUCATION']=df['EDUCATION'].map({1:'GraduateSchool',2:'University',3:'HighSchool',4:'Others',0:'Others',5:'Others',6:'Others'})"
   ]
  },
  {
   "cell_type": "code",
   "execution_count": 15,
   "metadata": {},
   "outputs": [],
   "source": [
    "df['MARRIAGE']=df['MARRIAGE'].map({1:'Married',2:'Single',3:'Others',0:'Others'})"
   ]
  },
  {
   "cell_type": "markdown",
   "metadata": {},
   "source": [
    "# Statistical Test"
   ]
  },
  {
   "cell_type": "markdown",
   "metadata": {},
   "source": [
    "As we can see that our dataset is of **Binary Class Classification** problem so the base model for our dataset should be **Logistic Regression**. And before preceedind towards model building we need to check the statistical significance of each independent variable w.r.t target."
   ]
  },
  {
   "cell_type": "code",
   "execution_count": 17,
   "metadata": {},
   "outputs": [],
   "source": [
    "from scipy.stats import ttest_ind,ttest_1samp,ttest_rel,shapiro,levene,mannwhitneyu,wilcoxon,anderson,chi2_contingency,chisquare"
   ]
  },
  {
   "cell_type": "markdown",
   "metadata": {},
   "source": [
    "Before proceeding for any statistical test we need to check \n",
    "1. Normality\n",
    "2. Equality of Variance\n",
    "3. Sample are highly randomised (We consider this assumption to be true.)\n",
    "\n",
    "If any of these assumption fail to satisfy we go for **Non-Parametric Test** otherwise **Parametric Test**"
   ]
  },
  {
   "cell_type": "markdown",
   "metadata": {},
   "source": [
    "**Checking Normality**"
   ]
  },
  {
   "cell_type": "markdown",
   "metadata": {},
   "source": [
    "As we have more than 5000 rows **anderson-darling test** for normality is more reliable.\n",
    "\n",
    "**Ho: Data is normally distributed.**\n",
    "\n",
    "**H1: Data is not normally distributed.**"
   ]
  },
  {
   "cell_type": "code",
   "execution_count": 18,
   "metadata": {},
   "outputs": [
    {
     "data": {
      "text/plain": [
       "Index(['LIMIT_BAL', 'SEX', 'EDUCATION', 'MARRIAGE', 'AGE', 'PAY_1', 'PAY_2',\n",
       "       'PAY_3', 'PAY_4', 'PAY_5', 'PAY_6', 'BILL_AMT1', 'BILL_AMT2',\n",
       "       'BILL_AMT3', 'BILL_AMT4', 'BILL_AMT5', 'BILL_AMT6', 'PAY_AMT1',\n",
       "       'PAY_AMT2', 'PAY_AMT3', 'PAY_AMT4', 'PAY_AMT5', 'PAY_AMT6', 'DEFAULT'],\n",
       "      dtype='object')"
      ]
     },
     "execution_count": 18,
     "metadata": {},
     "output_type": "execute_result"
    }
   ],
   "source": [
    "df.columns"
   ]
  },
  {
   "cell_type": "code",
   "execution_count": 19,
   "metadata": {
    "scrolled": false
   },
   "outputs": [
    {
     "name": "stdout",
     "output_type": "stream",
     "text": [
      "For LIMIT_BAL\n",
      "Statistic: 774.381\n",
      "For significance level = 15.0, critical value = 0.576 LIMIT_BAL does not looks normal (reject H0)\n",
      "For significance level = 10.0, critical value = 0.656 LIMIT_BAL does not looks normal (reject H0)\n",
      "For significance level = 5.0, critical value = 0.787 LIMIT_BAL does not looks normal (reject H0)\n",
      "For significance level = 2.5, critical value = 0.918 LIMIT_BAL does not looks normal (reject H0)\n",
      "For significance level = 1.0, critical value = 1.092 LIMIT_BAL does not looks normal (reject H0)\n",
      "\n",
      "\n",
      "For BILL_AMT1\n",
      "Statistic: 2678.700\n",
      "For significance level = 15.0, critical value = 0.576 BILL_AMT1 does not looks normal (reject H0)\n",
      "For significance level = 10.0, critical value = 0.656 BILL_AMT1 does not looks normal (reject H0)\n",
      "For significance level = 5.0, critical value = 0.787 BILL_AMT1 does not looks normal (reject H0)\n",
      "For significance level = 2.5, critical value = 0.918 BILL_AMT1 does not looks normal (reject H0)\n",
      "For significance level = 1.0, critical value = 1.092 BILL_AMT1 does not looks normal (reject H0)\n",
      "\n",
      "\n",
      "For BILL_AMT2\n",
      "Statistic: 2684.784\n",
      "For significance level = 15.0, critical value = 0.576 BILL_AMT2 does not looks normal (reject H0)\n",
      "For significance level = 10.0, critical value = 0.656 BILL_AMT2 does not looks normal (reject H0)\n",
      "For significance level = 5.0, critical value = 0.787 BILL_AMT2 does not looks normal (reject H0)\n",
      "For significance level = 2.5, critical value = 0.918 BILL_AMT2 does not looks normal (reject H0)\n",
      "For significance level = 1.0, critical value = 1.092 BILL_AMT2 does not looks normal (reject H0)\n",
      "\n",
      "\n",
      "For BILL_AMT3\n",
      "Statistic: 2754.573\n",
      "For significance level = 15.0, critical value = 0.576 BILL_AMT3 does not looks normal (reject H0)\n",
      "For significance level = 10.0, critical value = 0.656 BILL_AMT3 does not looks normal (reject H0)\n",
      "For significance level = 5.0, critical value = 0.787 BILL_AMT3 does not looks normal (reject H0)\n",
      "For significance level = 2.5, critical value = 0.918 BILL_AMT3 does not looks normal (reject H0)\n",
      "For significance level = 1.0, critical value = 1.092 BILL_AMT3 does not looks normal (reject H0)\n",
      "\n",
      "\n",
      "For BILL_AMT4\n",
      "Statistic: 2836.516\n",
      "For significance level = 15.0, critical value = 0.576 BILL_AMT4 does not looks normal (reject H0)\n",
      "For significance level = 10.0, critical value = 0.656 BILL_AMT4 does not looks normal (reject H0)\n",
      "For significance level = 5.0, critical value = 0.787 BILL_AMT4 does not looks normal (reject H0)\n",
      "For significance level = 2.5, critical value = 0.918 BILL_AMT4 does not looks normal (reject H0)\n",
      "For significance level = 1.0, critical value = 1.092 BILL_AMT4 does not looks normal (reject H0)\n",
      "\n",
      "\n",
      "For BILL_AMT5\n",
      "Statistic: 2910.271\n",
      "For significance level = 15.0, critical value = 0.576 BILL_AMT5 does not looks normal (reject H0)\n",
      "For significance level = 10.0, critical value = 0.656 BILL_AMT5 does not looks normal (reject H0)\n",
      "For significance level = 5.0, critical value = 0.787 BILL_AMT5 does not looks normal (reject H0)\n",
      "For significance level = 2.5, critical value = 0.918 BILL_AMT5 does not looks normal (reject H0)\n",
      "For significance level = 1.0, critical value = 1.092 BILL_AMT5 does not looks normal (reject H0)\n",
      "\n",
      "\n",
      "For BILL_AMT6\n",
      "Statistic: 2952.508\n",
      "For significance level = 15.0, critical value = 0.576 BILL_AMT6 does not looks normal (reject H0)\n",
      "For significance level = 10.0, critical value = 0.656 BILL_AMT6 does not looks normal (reject H0)\n",
      "For significance level = 5.0, critical value = 0.787 BILL_AMT6 does not looks normal (reject H0)\n",
      "For significance level = 2.5, critical value = 0.918 BILL_AMT6 does not looks normal (reject H0)\n",
      "For significance level = 1.0, critical value = 1.092 BILL_AMT6 does not looks normal (reject H0)\n",
      "\n",
      "\n",
      "For PAY_AMT1\n",
      "Statistic: 6180.532\n",
      "For significance level = 15.0, critical value = 0.576 PAY_AMT1 does not looks normal (reject H0)\n",
      "For significance level = 10.0, critical value = 0.656 PAY_AMT1 does not looks normal (reject H0)\n",
      "For significance level = 5.0, critical value = 0.787 PAY_AMT1 does not looks normal (reject H0)\n",
      "For significance level = 2.5, critical value = 0.918 PAY_AMT1 does not looks normal (reject H0)\n",
      "For significance level = 1.0, critical value = 1.092 PAY_AMT1 does not looks normal (reject H0)\n",
      "\n",
      "\n",
      "For PAY_AMT2\n",
      "Statistic: 7180.265\n",
      "For significance level = 15.0, critical value = 0.576 PAY_AMT2 does not looks normal (reject H0)\n",
      "For significance level = 10.0, critical value = 0.656 PAY_AMT2 does not looks normal (reject H0)\n",
      "For significance level = 5.0, critical value = 0.787 PAY_AMT2 does not looks normal (reject H0)\n",
      "For significance level = 2.5, critical value = 0.918 PAY_AMT2 does not looks normal (reject H0)\n",
      "For significance level = 1.0, critical value = 1.092 PAY_AMT2 does not looks normal (reject H0)\n",
      "\n",
      "\n",
      "For PAY_AMT3\n",
      "Statistic: 6682.155\n",
      "For significance level = 15.0, critical value = 0.576 PAY_AMT3 does not looks normal (reject H0)\n",
      "For significance level = 10.0, critical value = 0.656 PAY_AMT3 does not looks normal (reject H0)\n",
      "For significance level = 5.0, critical value = 0.787 PAY_AMT3 does not looks normal (reject H0)\n",
      "For significance level = 2.5, critical value = 0.918 PAY_AMT3 does not looks normal (reject H0)\n",
      "For significance level = 1.0, critical value = 1.092 PAY_AMT3 does not looks normal (reject H0)\n",
      "\n",
      "\n",
      "For PAY_AMT4\n",
      "Statistic: 6571.081\n",
      "For significance level = 15.0, critical value = 0.576 PAY_AMT4 does not looks normal (reject H0)\n",
      "For significance level = 10.0, critical value = 0.656 PAY_AMT4 does not looks normal (reject H0)\n",
      "For significance level = 5.0, critical value = 0.787 PAY_AMT4 does not looks normal (reject H0)\n",
      "For significance level = 2.5, critical value = 0.918 PAY_AMT4 does not looks normal (reject H0)\n",
      "For significance level = 1.0, critical value = 1.092 PAY_AMT4 does not looks normal (reject H0)\n",
      "\n",
      "\n",
      "For PAY_AMT5\n",
      "Statistic: 6510.111\n",
      "For significance level = 15.0, critical value = 0.576 PAY_AMT5 does not looks normal (reject H0)\n",
      "For significance level = 10.0, critical value = 0.656 PAY_AMT5 does not looks normal (reject H0)\n",
      "For significance level = 5.0, critical value = 0.787 PAY_AMT5 does not looks normal (reject H0)\n",
      "For significance level = 2.5, critical value = 0.918 PAY_AMT5 does not looks normal (reject H0)\n",
      "For significance level = 1.0, critical value = 1.092 PAY_AMT5 does not looks normal (reject H0)\n",
      "\n",
      "\n",
      "For PAY_AMT6\n",
      "Statistic: 6947.416\n",
      "For significance level = 15.0, critical value = 0.576 PAY_AMT6 does not looks normal (reject H0)\n",
      "For significance level = 10.0, critical value = 0.656 PAY_AMT6 does not looks normal (reject H0)\n",
      "For significance level = 5.0, critical value = 0.787 PAY_AMT6 does not looks normal (reject H0)\n",
      "For significance level = 2.5, critical value = 0.918 PAY_AMT6 does not looks normal (reject H0)\n",
      "For significance level = 1.0, critical value = 1.092 PAY_AMT6 does not looks normal (reject H0)\n",
      "\n",
      "\n"
     ]
    }
   ],
   "source": [
    "columns = ['LIMIT_BAL','BILL_AMT1','BILL_AMT2','BILL_AMT3','BILL_AMT4','BILL_AMT5','BILL_AMT6',\n",
    "           'PAY_AMT1','PAY_AMT2','PAY_AMT3','PAY_AMT4','PAY_AMT5','PAY_AMT6']\n",
    "   \n",
    "for i in columns:\n",
    "    print('For', i)\n",
    "    stat, cv, sl = anderson(df[i])\n",
    "    print('Statistic: %.3f' % stat)\n",
    "    for j in range(len(cv)):\n",
    "        if stat < cv[j]:\n",
    "            print('For significance level = {a}, critical value = {b} {c} looks normal (fail to reject H0)'.format(a=sl[j],b=cv[j],c=i))\n",
    "        else:\n",
    "            print('For significance level = {a}, critical value = {b} {c} does not looks normal (reject H0)'.format(a=sl[j],b=cv[j],c=i))\n",
    "    print('\\n')"
   ]
  },
  {
   "cell_type": "markdown",
   "metadata": {},
   "source": [
    "As we can see that none of the continuous features are normal. So, we can go for **Non-parametric test**."
   ]
  },
  {
   "cell_type": "raw",
   "metadata": {},
   "source": [
    "1. Age vs Default\n",
    "\n",
    "Ho: Age is independent of Default\n",
    "H1: Age is dependent of Default"
   ]
  },
  {
   "cell_type": "code",
   "execution_count": 20,
   "metadata": {},
   "outputs": [],
   "source": [
    "def_age = df[df['DEFAULT']==1]['AGE']\n",
    "non_def_age = df.loc[df['DEFAULT']==0,'AGE']"
   ]
  },
  {
   "cell_type": "code",
   "execution_count": 21,
   "metadata": {},
   "outputs": [
    {
     "data": {
      "text/plain": [
       "MannwhitneyuResult(statistic=76966879.5, pvalue=0.1862517717449308)"
      ]
     },
     "execution_count": 21,
     "metadata": {},
     "output_type": "execute_result"
    }
   ],
   "source": [
    "mannwhitneyu(def_age,non_def_age)"
   ]
  },
  {
   "cell_type": "raw",
   "metadata": {},
   "source": [
    "As we can see that pvalue > 0.05. So, we fail to reject Ho. \n",
    "So we can say that, age is independent of Default."
   ]
  },
  {
   "cell_type": "raw",
   "metadata": {},
   "source": [
    "2. Limit Balance vs Default\n",
    "\n",
    "Ho: Limit Balance is independent of Default\n",
    "H1: Limit Balance is dependent on Default"
   ]
  },
  {
   "cell_type": "code",
   "execution_count": 22,
   "metadata": {},
   "outputs": [],
   "source": [
    "lb_def = df[df['DEFAULT']==1]['LIMIT_BAL']\n",
    "lb_non_def = df.loc[df['DEFAULT']==0,'LIMIT_BAL']"
   ]
  },
  {
   "cell_type": "code",
   "execution_count": 23,
   "metadata": {},
   "outputs": [
    {
     "data": {
      "text/plain": [
       "MannwhitneyuResult(statistic=59257217.5, pvalue=6.127742909111652e-190)"
      ]
     },
     "execution_count": 23,
     "metadata": {},
     "output_type": "execute_result"
    }
   ],
   "source": [
    "mannwhitneyu(lb_def,lb_non_def)"
   ]
  },
  {
   "cell_type": "raw",
   "metadata": {},
   "source": [
    "As we can see that pvalue < 0.05. So, we reject Ho. \n",
    "And we can say that, limit balance and Default are dependent."
   ]
  },
  {
   "cell_type": "raw",
   "metadata": {},
   "source": [
    "3. Sex vs Default\n",
    "\n",
    "Ho: Sex is independent of Default\n",
    "H1: Sex is dependent of Default"
   ]
  },
  {
   "cell_type": "code",
   "execution_count": 24,
   "metadata": {},
   "outputs": [
    {
     "data": {
      "text/html": [
       "<div>\n",
       "<style scoped>\n",
       "    .dataframe tbody tr th:only-of-type {\n",
       "        vertical-align: middle;\n",
       "    }\n",
       "\n",
       "    .dataframe tbody tr th {\n",
       "        vertical-align: top;\n",
       "    }\n",
       "\n",
       "    .dataframe thead th {\n",
       "        text-align: right;\n",
       "    }\n",
       "</style>\n",
       "<table border=\"1\" class=\"dataframe\">\n",
       "  <thead>\n",
       "    <tr style=\"text-align: right;\">\n",
       "      <th>SEX</th>\n",
       "      <th>Female</th>\n",
       "      <th>Male</th>\n",
       "    </tr>\n",
       "    <tr>\n",
       "      <th>DEFAULT</th>\n",
       "      <th></th>\n",
       "      <th></th>\n",
       "    </tr>\n",
       "  </thead>\n",
       "  <tbody>\n",
       "    <tr>\n",
       "      <th>0</th>\n",
       "      <td>14349</td>\n",
       "      <td>9015</td>\n",
       "    </tr>\n",
       "    <tr>\n",
       "      <th>1</th>\n",
       "      <td>3763</td>\n",
       "      <td>2873</td>\n",
       "    </tr>\n",
       "  </tbody>\n",
       "</table>\n",
       "</div>"
      ],
      "text/plain": [
       "SEX      Female  Male\n",
       "DEFAULT              \n",
       "0         14349  9015\n",
       "1          3763  2873"
      ]
     },
     "execution_count": 24,
     "metadata": {},
     "output_type": "execute_result"
    }
   ],
   "source": [
    "tab_sex = pd.crosstab(df['DEFAULT'],df['SEX'])\n",
    "tab_sex"
   ]
  },
  {
   "cell_type": "code",
   "execution_count": 25,
   "metadata": {},
   "outputs": [
    {
     "data": {
      "text/plain": [
       "(47.708796890621116,\n",
       " 4.944678999412026e-12,\n",
       " 1,\n",
       " array([[14105.6256,  9258.3744],\n",
       "        [ 4006.3744,  2629.6256]]))"
      ]
     },
     "execution_count": 25,
     "metadata": {},
     "output_type": "execute_result"
    }
   ],
   "source": [
    "chi2_contingency(tab_sex)"
   ]
  },
  {
   "cell_type": "raw",
   "metadata": {},
   "source": [
    "As we can see that pvalue < 0.05. So, we reject Ho. \n",
    "And we can say sex and Default are dependent."
   ]
  },
  {
   "cell_type": "raw",
   "metadata": {},
   "source": [
    "4. Education vs Default\n",
    "\n",
    "Ho: Education is independent of Default\n",
    "H1: Education is dependent on Default"
   ]
  },
  {
   "cell_type": "code",
   "execution_count": 26,
   "metadata": {},
   "outputs": [
    {
     "data": {
      "text/html": [
       "<div>\n",
       "<style scoped>\n",
       "    .dataframe tbody tr th:only-of-type {\n",
       "        vertical-align: middle;\n",
       "    }\n",
       "\n",
       "    .dataframe tbody tr th {\n",
       "        vertical-align: top;\n",
       "    }\n",
       "\n",
       "    .dataframe thead th {\n",
       "        text-align: right;\n",
       "    }\n",
       "</style>\n",
       "<table border=\"1\" class=\"dataframe\">\n",
       "  <thead>\n",
       "    <tr style=\"text-align: right;\">\n",
       "      <th>EDUCATION</th>\n",
       "      <th>GraduateSchool</th>\n",
       "      <th>HighSchool</th>\n",
       "      <th>Others</th>\n",
       "      <th>University</th>\n",
       "    </tr>\n",
       "    <tr>\n",
       "      <th>DEFAULT</th>\n",
       "      <th></th>\n",
       "      <th></th>\n",
       "      <th></th>\n",
       "      <th></th>\n",
       "    </tr>\n",
       "  </thead>\n",
       "  <tbody>\n",
       "    <tr>\n",
       "      <th>0</th>\n",
       "      <td>8549</td>\n",
       "      <td>3680</td>\n",
       "      <td>435</td>\n",
       "      <td>10700</td>\n",
       "    </tr>\n",
       "    <tr>\n",
       "      <th>1</th>\n",
       "      <td>2036</td>\n",
       "      <td>1237</td>\n",
       "      <td>33</td>\n",
       "      <td>3330</td>\n",
       "    </tr>\n",
       "  </tbody>\n",
       "</table>\n",
       "</div>"
      ],
      "text/plain": [
       "EDUCATION  GraduateSchool  HighSchool  Others  University\n",
       "DEFAULT                                                  \n",
       "0                    8549        3680     435       10700\n",
       "1                    2036        1237      33        3330"
      ]
     },
     "execution_count": 26,
     "metadata": {},
     "output_type": "execute_result"
    }
   ],
   "source": [
    "tab_edu = pd.crosstab(df['DEFAULT'],df['EDUCATION'])\n",
    "tab_edu"
   ]
  },
  {
   "cell_type": "code",
   "execution_count": 27,
   "metadata": {},
   "outputs": [
    {
     "data": {
      "text/plain": [
       "(160.4099510722455,\n",
       " 1.495064564810615e-34,\n",
       " 3,\n",
       " array([[ 8243.598 ,  3829.3596,   364.4784, 10926.564 ],\n",
       "        [ 2341.402 ,  1087.6404,   103.5216,  3103.436 ]]))"
      ]
     },
     "execution_count": 27,
     "metadata": {},
     "output_type": "execute_result"
    }
   ],
   "source": [
    "chi2_contingency(tab_edu)"
   ]
  },
  {
   "cell_type": "raw",
   "metadata": {},
   "source": [
    "As we can see that pvalue < 0.05. So, we reject Ho.\n",
    "And we can say that, education is dependent on Default."
   ]
  },
  {
   "cell_type": "raw",
   "metadata": {},
   "source": [
    "5. Marriage vs Default\n",
    "\n",
    "Ho: Marriage is independent of Default\n",
    "H1: Marriage is dependent on Default"
   ]
  },
  {
   "cell_type": "code",
   "execution_count": 28,
   "metadata": {},
   "outputs": [
    {
     "data": {
      "text/html": [
       "<div>\n",
       "<style scoped>\n",
       "    .dataframe tbody tr th:only-of-type {\n",
       "        vertical-align: middle;\n",
       "    }\n",
       "\n",
       "    .dataframe tbody tr th {\n",
       "        vertical-align: top;\n",
       "    }\n",
       "\n",
       "    .dataframe thead th {\n",
       "        text-align: right;\n",
       "    }\n",
       "</style>\n",
       "<table border=\"1\" class=\"dataframe\">\n",
       "  <thead>\n",
       "    <tr style=\"text-align: right;\">\n",
       "      <th>MARRIAGE</th>\n",
       "      <th>Married</th>\n",
       "      <th>Others</th>\n",
       "      <th>Single</th>\n",
       "    </tr>\n",
       "    <tr>\n",
       "      <th>DEFAULT</th>\n",
       "      <th></th>\n",
       "      <th></th>\n",
       "      <th></th>\n",
       "    </tr>\n",
       "  </thead>\n",
       "  <tbody>\n",
       "    <tr>\n",
       "      <th>0</th>\n",
       "      <td>10453</td>\n",
       "      <td>288</td>\n",
       "      <td>12623</td>\n",
       "    </tr>\n",
       "    <tr>\n",
       "      <th>1</th>\n",
       "      <td>3206</td>\n",
       "      <td>89</td>\n",
       "      <td>3341</td>\n",
       "    </tr>\n",
       "  </tbody>\n",
       "</table>\n",
       "</div>"
      ],
      "text/plain": [
       "MARRIAGE  Married  Others  Single\n",
       "DEFAULT                          \n",
       "0           10453     288   12623\n",
       "1            3206      89    3341"
      ]
     },
     "execution_count": 28,
     "metadata": {},
     "output_type": "execute_result"
    }
   ],
   "source": [
    "tab_mar = pd.crosstab(df['DEFAULT'],df['MARRIAGE'])\n",
    "tab_mar"
   ]
  },
  {
   "cell_type": "code",
   "execution_count": 29,
   "metadata": {},
   "outputs": [
    {
     "data": {
      "text/plain": [
       "(28.130324644821993,\n",
       " 7.7907203642028e-07,\n",
       " 2,\n",
       " array([[10637.6292,   293.6076, 12432.7632],\n",
       "        [ 3021.3708,    83.3924,  3531.2368]]))"
      ]
     },
     "execution_count": 29,
     "metadata": {},
     "output_type": "execute_result"
    }
   ],
   "source": [
    "chi2_contingency(tab_mar)"
   ]
  },
  {
   "cell_type": "raw",
   "metadata": {},
   "source": [
    "As we can see that pvalue < 0.05. So, we reject Ho.\n",
    "And we can say that, marriage and Default are dependent. "
   ]
  },
  {
   "cell_type": "raw",
   "metadata": {},
   "source": [
    "6. Repayment Status vs Default\n",
    "\n",
    "Ho: Repayment Status is independent of Default\n",
    "H1: Repayment Status is dependent on Default"
   ]
  },
  {
   "cell_type": "code",
   "execution_count": 30,
   "metadata": {},
   "outputs": [
    {
     "name": "stdout",
     "output_type": "stream",
     "text": [
      "For PAY_1, p-value = 0.0 (Reject Ho)\n",
      "For PAY_2, p-value = 0.0 (Reject Ho)\n",
      "For PAY_3, p-value = 0.0 (Reject Ho)\n",
      "For PAY_4, p-value = 0.0 (Reject Ho)\n",
      "For PAY_5, p-value = 0.0 (Reject Ho)\n",
      "For PAY_6, p-value = 0.0 (Reject Ho)\n"
     ]
    }
   ],
   "source": [
    "repay = ['PAY_1','PAY_2','PAY_3','PAY_4','PAY_5','PAY_6']\n",
    "for i in repay:\n",
    "    tab_pay = pd.crosstab(df['DEFAULT'],df[i])\n",
    "    chi2, p, dof, ex = chi2_contingency(tab_pay)\n",
    "    if p>0.05:\n",
    "        print('For {a}, p-value = {b} (Fail to reject Ho)'.format(a=i,b=p))\n",
    "    else:\n",
    "        print(\"For {a}, p-value = {b} (Reject Ho)\".format(a=i,b=p))"
   ]
  },
  {
   "cell_type": "raw",
   "metadata": {},
   "source": [
    "As we can see that our Ho is rejected in all the case of Repayment Status.\n",
    "So, we can say that Repayment Status and Default are dependent."
   ]
  },
  {
   "cell_type": "raw",
   "metadata": {},
   "source": [
    "7. Bill Amount vs Default\n",
    "\n",
    "Ho: Bill Amount is independent of Default\n",
    "H1: Bill Amount is dependent on Default"
   ]
  },
  {
   "cell_type": "code",
   "execution_count": 31,
   "metadata": {},
   "outputs": [
    {
     "name": "stdout",
     "output_type": "stream",
     "text": [
      "For BILL_AMT1, p-value = 5.755190912649123e-06 (Reject Ho)\n",
      "For BILL_AMT2, p-value = 0.0035306025227855456 (Reject Ho)\n",
      "For BILL_AMT3, p-value = 0.014101350680999257 (Reject Ho)\n",
      "For BILL_AMT4, p-value = 0.07388390926897154 (Fail to reject Ho)\n",
      "For BILL_AMT5, p-value = 0.11768351130808502 (Fail to reject Ho)\n",
      "For BILL_AMT6, p-value = 0.4947404201391831 (Fail to reject Ho)\n"
     ]
    }
   ],
   "source": [
    "bill_amt = ['BILL_AMT1', 'BILL_AMT2','BILL_AMT3', 'BILL_AMT4', 'BILL_AMT5', 'BILL_AMT6']\n",
    "for i in bill_amt:\n",
    "    def_bm = df[df['DEFAULT']==1][i]\n",
    "    non_def_bm = df.loc[df['DEFAULT']==0,i]\n",
    "    stat,p = mannwhitneyu(def_bm,non_def_bm)\n",
    "    if p>0.05:\n",
    "        print('For {a}, p-value = {b} (Fail to reject Ho)'.format(a=i,b=p))\n",
    "    else:\n",
    "        print(\"For {a}, p-value = {b} (Reject Ho)\".format(a=i,b=p))"
   ]
  },
  {
   "cell_type": "raw",
   "metadata": {},
   "source": [
    "As we can see that for bill amt1,bill amt2 and bill_amt3 p-value < 0.05. So, these are dependent of Default.\n",
    "But, bill amt4, bill amt5 and bill amt6 has p-value > 0.05, which means they are independent of Default."
   ]
  },
  {
   "cell_type": "raw",
   "metadata": {},
   "source": [
    "7. Pay Amount vs Default\n",
    "\n",
    "Ho: Pay Amount is independent of Default\n",
    "H1: Pay Amount is dependent on Default"
   ]
  },
  {
   "cell_type": "code",
   "execution_count": 32,
   "metadata": {},
   "outputs": [
    {
     "name": "stdout",
     "output_type": "stream",
     "text": [
      "For PAY_AMT1, p-value = 2.3083295995929906e-170 (Reject Ho)\n",
      "For PAY_AMT2, p-value = 4.977487984626587e-151 (Reject Ho)\n",
      "For PAY_AMT3, p-value = 4.4963542462153786e-129 (Reject Ho)\n",
      "For PAY_AMT4, p-value = 3.642347332534603e-109 (Reject Ho)\n",
      "For PAY_AMT5, p-value = 5.624349416331451e-91 (Reject Ho)\n",
      "For PAY_AMT6, p-value = 1.5920582681736708e-98 (Reject Ho)\n"
     ]
    }
   ],
   "source": [
    "pay_amt = ['PAY_AMT1','PAY_AMT2', 'PAY_AMT3', 'PAY_AMT4', 'PAY_AMT5', 'PAY_AMT6']\n",
    "for i in pay_amt:\n",
    "    def_pa = df[df['DEFAULT']==1][i]\n",
    "    non_def_pa = df.loc[df['DEFAULT']==0,i]\n",
    "    stat,p = mannwhitneyu(def_pa,non_def_pa)\n",
    "    if p>0.05:\n",
    "        print('For {a}, p-value = {b} (Fail to reject Ho)'.format(a=i,b=p))\n",
    "    else:\n",
    "        print(\"For {a}, p-value = {b} (Reject Ho)\".format(a=i,b=p))"
   ]
  },
  {
   "cell_type": "raw",
   "metadata": {},
   "source": [
    "As we can see that our Ho is rejected in all the case of Previous Payment.\n",
    "So, we can say that Previous Payment and Default are dependent."
   ]
  },
  {
   "cell_type": "raw",
   "metadata": {},
   "source": [
    "So, from statistical test we can see that following features are dependent w.r.t our Target Column i.e, Default.\n",
    "1. Limit Balance\n",
    "2. Sex\n",
    "3. Education\n",
    "4. Marriage\n",
    "5. Bill Amount of month July, August, September i.e, recent past 3 months Bill_Amt3,Bill_Amt2 and Bill_Amt1 resp.\n",
    "6. Repayment Status of past 6 months i.e April to September Pay_1 to Pay_6\n",
    "7. Previous payment of past 6 months i.e, April to September Pay_Amt1 to Pay_Amt6"
   ]
  },
  {
   "cell_type": "raw",
   "metadata": {},
   "source": [
    "And Following features are independent w.r.t Target Default.\n",
    "1. Age\n",
    "2. Bill Amount of month April, May, June i.e, Bill_Amt4,Bill_Amt5 and Bill_Amt6."
   ]
  }
 ],
 "metadata": {
  "kernelspec": {
   "display_name": "Python 3",
   "language": "python",
   "name": "python3"
  },
  "language_info": {
   "codemirror_mode": {
    "name": "ipython",
    "version": 3
   },
   "file_extension": ".py",
   "mimetype": "text/x-python",
   "name": "python",
   "nbconvert_exporter": "python",
   "pygments_lexer": "ipython3",
   "version": "3.7.7"
  }
 },
 "nbformat": 4,
 "nbformat_minor": 4
}
